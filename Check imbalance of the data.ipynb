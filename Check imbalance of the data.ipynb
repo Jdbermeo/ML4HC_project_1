{
 "cells": [
  {
   "cell_type": "code",
   "execution_count": 1,
   "id": "alternative-shakespeare",
   "metadata": {},
   "outputs": [],
   "source": [
    "import os\n",
    "import random \n",
    "\n",
    "import numpy as np\n",
    "import pandas as pd\n",
    "import matplotlib.pyplot as plt"
   ]
  },
  {
   "cell_type": "code",
   "execution_count": 2,
   "id": "vocal-physiology",
   "metadata": {},
   "outputs": [],
   "source": [
    "from img_generator import build_train_test_df, DataGenerator2D"
   ]
  },
  {
   "cell_type": "code",
   "execution_count": 3,
   "id": "charged-composition",
   "metadata": {},
   "outputs": [],
   "source": [
    "data_path_source_dir = os.path.join('ml4h_proj1_colon_cancer_ct', 'ml4h_proj1_colon_cancer_ct')"
   ]
  },
  {
   "cell_type": "markdown",
   "id": "respective-highland",
   "metadata": {},
   "source": [
    "# Let's check the imbalance in the data"
   ]
  },
  {
   "cell_type": "code",
   "execution_count": 4,
   "id": "exposed-recording",
   "metadata": {},
   "outputs": [],
   "source": [
    "random.seed(123)\n",
    "np.random.seed(123)"
   ]
  },
  {
   "cell_type": "markdown",
   "id": "certified-provincial",
   "metadata": {},
   "source": [
    "Let's choose a set of images that have cancer labeled in them "
   ]
  },
  {
   "cell_type": "code",
   "execution_count": 5,
   "id": "superb-ontario",
   "metadata": {},
   "outputs": [],
   "source": [
    "tr_df, x_ts_df = build_train_test_df(data_path_source_dir)"
   ]
  },
  {
   "cell_type": "code",
   "execution_count": 6,
   "id": "oriental-architect",
   "metadata": {},
   "outputs": [],
   "source": [
    "cancer_pixels_df = pd.read_pickle('cancer_pixels_df')\n",
    "cancer_pixels_df.reset_index(inplace=True)"
   ]
  },
  {
   "cell_type": "code",
   "execution_count": 7,
   "id": "increased-fundamental",
   "metadata": {},
   "outputs": [],
   "source": [
    "cancer_pixels_df['index'] = cancer_pixels_df.image_name.map(lambda str_: str_.split('.nii.gz')[0].split('colon_')[1])"
   ]
  },
  {
   "cell_type": "code",
   "execution_count": 8,
   "id": "molecular-florence",
   "metadata": {},
   "outputs": [],
   "source": [
    "tr_df_only_cancer = cancer_pixels_df.set_index(['index', 'depth_i'])[['cancer_pixel_area']].join(tr_df, how='inner')"
   ]
  },
  {
   "cell_type": "code",
   "execution_count": 9,
   "id": "unique-circular",
   "metadata": {},
   "outputs": [
    {
     "data": {
      "text/html": [
       "<div>\n",
       "<style scoped>\n",
       "    .dataframe tbody tr th:only-of-type {\n",
       "        vertical-align: middle;\n",
       "    }\n",
       "\n",
       "    .dataframe tbody tr th {\n",
       "        vertical-align: top;\n",
       "    }\n",
       "\n",
       "    .dataframe thead th {\n",
       "        text-align: right;\n",
       "    }\n",
       "</style>\n",
       "<table border=\"1\" class=\"dataframe\">\n",
       "  <thead>\n",
       "    <tr style=\"text-align: right;\">\n",
       "      <th></th>\n",
       "      <th></th>\n",
       "      <th>cancer_pixel_area</th>\n",
       "      <th>x_tr_img_path</th>\n",
       "      <th>depth</th>\n",
       "      <th>y_tr_img_path</th>\n",
       "    </tr>\n",
       "    <tr>\n",
       "      <th>index</th>\n",
       "      <th>depth_i</th>\n",
       "      <th></th>\n",
       "      <th></th>\n",
       "      <th></th>\n",
       "      <th></th>\n",
       "    </tr>\n",
       "  </thead>\n",
       "  <tbody>\n",
       "    <tr>\n",
       "      <th rowspan=\"3\" valign=\"top\">001</th>\n",
       "      <th>51</th>\n",
       "      <td>841.0</td>\n",
       "      <td>ml4h_proj1_colon_cancer_ct\\ml4h_proj1_colon_ca...</td>\n",
       "      <td>60</td>\n",
       "      <td>ml4h_proj1_colon_cancer_ct\\ml4h_proj1_colon_ca...</td>\n",
       "    </tr>\n",
       "    <tr>\n",
       "      <th>52</th>\n",
       "      <td>646.0</td>\n",
       "      <td>ml4h_proj1_colon_cancer_ct\\ml4h_proj1_colon_ca...</td>\n",
       "      <td>60</td>\n",
       "      <td>ml4h_proj1_colon_cancer_ct\\ml4h_proj1_colon_ca...</td>\n",
       "    </tr>\n",
       "    <tr>\n",
       "      <th>53</th>\n",
       "      <td>296.0</td>\n",
       "      <td>ml4h_proj1_colon_cancer_ct\\ml4h_proj1_colon_ca...</td>\n",
       "      <td>60</td>\n",
       "      <td>ml4h_proj1_colon_cancer_ct\\ml4h_proj1_colon_ca...</td>\n",
       "    </tr>\n",
       "    <tr>\n",
       "      <th rowspan=\"2\" valign=\"top\">005</th>\n",
       "      <th>44</th>\n",
       "      <td>278.0</td>\n",
       "      <td>ml4h_proj1_colon_cancer_ct\\ml4h_proj1_colon_ca...</td>\n",
       "      <td>98</td>\n",
       "      <td>ml4h_proj1_colon_cancer_ct\\ml4h_proj1_colon_ca...</td>\n",
       "    </tr>\n",
       "    <tr>\n",
       "      <th>50</th>\n",
       "      <td>270.0</td>\n",
       "      <td>ml4h_proj1_colon_cancer_ct\\ml4h_proj1_colon_ca...</td>\n",
       "      <td>98</td>\n",
       "      <td>ml4h_proj1_colon_cancer_ct\\ml4h_proj1_colon_ca...</td>\n",
       "    </tr>\n",
       "    <tr>\n",
       "      <th>...</th>\n",
       "      <th>...</th>\n",
       "      <td>...</td>\n",
       "      <td>...</td>\n",
       "      <td>...</td>\n",
       "      <td>...</td>\n",
       "    </tr>\n",
       "    <tr>\n",
       "      <th rowspan=\"5\" valign=\"top\">169</th>\n",
       "      <th>139</th>\n",
       "      <td>245.0</td>\n",
       "      <td>ml4h_proj1_colon_cancer_ct\\ml4h_proj1_colon_ca...</td>\n",
       "      <td>258</td>\n",
       "      <td>ml4h_proj1_colon_cancer_ct\\ml4h_proj1_colon_ca...</td>\n",
       "    </tr>\n",
       "    <tr>\n",
       "      <th>140</th>\n",
       "      <td>228.0</td>\n",
       "      <td>ml4h_proj1_colon_cancer_ct\\ml4h_proj1_colon_ca...</td>\n",
       "      <td>258</td>\n",
       "      <td>ml4h_proj1_colon_cancer_ct\\ml4h_proj1_colon_ca...</td>\n",
       "    </tr>\n",
       "    <tr>\n",
       "      <th>141</th>\n",
       "      <td>198.0</td>\n",
       "      <td>ml4h_proj1_colon_cancer_ct\\ml4h_proj1_colon_ca...</td>\n",
       "      <td>258</td>\n",
       "      <td>ml4h_proj1_colon_cancer_ct\\ml4h_proj1_colon_ca...</td>\n",
       "    </tr>\n",
       "    <tr>\n",
       "      <th>142</th>\n",
       "      <td>153.0</td>\n",
       "      <td>ml4h_proj1_colon_cancer_ct\\ml4h_proj1_colon_ca...</td>\n",
       "      <td>258</td>\n",
       "      <td>ml4h_proj1_colon_cancer_ct\\ml4h_proj1_colon_ca...</td>\n",
       "    </tr>\n",
       "    <tr>\n",
       "      <th>143</th>\n",
       "      <td>131.0</td>\n",
       "      <td>ml4h_proj1_colon_cancer_ct\\ml4h_proj1_colon_ca...</td>\n",
       "      <td>258</td>\n",
       "      <td>ml4h_proj1_colon_cancer_ct\\ml4h_proj1_colon_ca...</td>\n",
       "    </tr>\n",
       "  </tbody>\n",
       "</table>\n",
       "<p>1034 rows × 4 columns</p>\n",
       "</div>"
      ],
      "text/plain": [
       "               cancer_pixel_area  \\\n",
       "index depth_i                      \n",
       "001   51                   841.0   \n",
       "      52                   646.0   \n",
       "      53                   296.0   \n",
       "005   44                   278.0   \n",
       "      50                   270.0   \n",
       "...                          ...   \n",
       "169   139                  245.0   \n",
       "      140                  228.0   \n",
       "      141                  198.0   \n",
       "      142                  153.0   \n",
       "      143                  131.0   \n",
       "\n",
       "                                                   x_tr_img_path  depth  \\\n",
       "index depth_i                                                             \n",
       "001   51       ml4h_proj1_colon_cancer_ct\\ml4h_proj1_colon_ca...     60   \n",
       "      52       ml4h_proj1_colon_cancer_ct\\ml4h_proj1_colon_ca...     60   \n",
       "      53       ml4h_proj1_colon_cancer_ct\\ml4h_proj1_colon_ca...     60   \n",
       "005   44       ml4h_proj1_colon_cancer_ct\\ml4h_proj1_colon_ca...     98   \n",
       "      50       ml4h_proj1_colon_cancer_ct\\ml4h_proj1_colon_ca...     98   \n",
       "...                                                          ...    ...   \n",
       "169   139      ml4h_proj1_colon_cancer_ct\\ml4h_proj1_colon_ca...    258   \n",
       "      140      ml4h_proj1_colon_cancer_ct\\ml4h_proj1_colon_ca...    258   \n",
       "      141      ml4h_proj1_colon_cancer_ct\\ml4h_proj1_colon_ca...    258   \n",
       "      142      ml4h_proj1_colon_cancer_ct\\ml4h_proj1_colon_ca...    258   \n",
       "      143      ml4h_proj1_colon_cancer_ct\\ml4h_proj1_colon_ca...    258   \n",
       "\n",
       "                                                   y_tr_img_path  \n",
       "index depth_i                                                     \n",
       "001   51       ml4h_proj1_colon_cancer_ct\\ml4h_proj1_colon_ca...  \n",
       "      52       ml4h_proj1_colon_cancer_ct\\ml4h_proj1_colon_ca...  \n",
       "      53       ml4h_proj1_colon_cancer_ct\\ml4h_proj1_colon_ca...  \n",
       "005   44       ml4h_proj1_colon_cancer_ct\\ml4h_proj1_colon_ca...  \n",
       "      50       ml4h_proj1_colon_cancer_ct\\ml4h_proj1_colon_ca...  \n",
       "...                                                          ...  \n",
       "169   139      ml4h_proj1_colon_cancer_ct\\ml4h_proj1_colon_ca...  \n",
       "      140      ml4h_proj1_colon_cancer_ct\\ml4h_proj1_colon_ca...  \n",
       "      141      ml4h_proj1_colon_cancer_ct\\ml4h_proj1_colon_ca...  \n",
       "      142      ml4h_proj1_colon_cancer_ct\\ml4h_proj1_colon_ca...  \n",
       "      143      ml4h_proj1_colon_cancer_ct\\ml4h_proj1_colon_ca...  \n",
       "\n",
       "[1034 rows x 4 columns]"
      ]
     },
     "execution_count": 9,
     "metadata": {},
     "output_type": "execute_result"
    }
   ],
   "source": [
    "tr_df_only_cancer"
   ]
  },
  {
   "cell_type": "markdown",
   "id": "sized-april",
   "metadata": {},
   "source": [
    "## Distribution of images that have cancer pixels"
   ]
  },
  {
   "cell_type": "code",
   "execution_count": 18,
   "id": "aggregate-elimination",
   "metadata": {},
   "outputs": [],
   "source": [
    "a = tr_df.join(tr_df_only_cancer.groupby(level=0)['cancer_pixel_area'].count().rename('cancer_cut_counts'))"
   ]
  },
  {
   "cell_type": "code",
   "execution_count": 22,
   "id": "existing-sitting",
   "metadata": {},
   "outputs": [
    {
     "data": {
      "text/plain": [
       "<AxesSubplot:ylabel='Frequency'>"
      ]
     },
     "execution_count": 22,
     "metadata": {},
     "output_type": "execute_result"
    },
    {
     "data": {
      "image/png": "[encoded data removed]",
      "text/plain": [
       "<Figure size 432x288 with 1 Axes>"
      ]
     },
     "metadata": {
      "needs_background": "light"
     },
     "output_type": "display_data"
    }
   ],
   "source": [
    "(a['cancer_cut_counts']/a['depth']).plot.hist()"
   ]
  },
  {
   "cell_type": "code",
   "execution_count": 24,
   "id": "conventional-suspension",
   "metadata": {},
   "outputs": [
    {
     "data": {
      "text/plain": [
       "0.10175162369612281"
      ]
     },
     "execution_count": 24,
     "metadata": {},
     "output_type": "execute_result"
    }
   ],
   "source": [
    "(a['cancer_cut_counts']/a['depth']).mean()"
   ]
  },
  {
   "cell_type": "code",
   "execution_count": 25,
   "id": "characteristic-mentor",
   "metadata": {},
   "outputs": [
    {
     "data": {
      "text/plain": [
       "0.08888888888888889"
      ]
     },
     "execution_count": 25,
     "metadata": {},
     "output_type": "execute_result"
    }
   ],
   "source": [
    "(a['cancer_cut_counts']/a['depth']).median()"
   ]
  },
  {
   "cell_type": "code",
   "execution_count": 38,
   "id": "toxic-insurance",
   "metadata": {},
   "outputs": [
    {
     "data": {
      "text/plain": [
       "0.25    0.063415\n",
       "0.50    0.088889\n",
       "0.75    0.129032\n",
       "0.95    0.215686\n",
       "0.99    0.283019\n",
       "dtype: float64"
      ]
     },
     "execution_count": 38,
     "metadata": {},
     "output_type": "execute_result"
    }
   ],
   "source": [
    "(a['cancer_cut_counts']/a['depth']).quantile([0.25, 0.5, 0.75, 0.95, 0.99])"
   ]
  },
  {
   "cell_type": "markdown",
   "id": "precious-crime",
   "metadata": {},
   "source": [
    "A very very big portion of them have cancer pixels in only 20% of the transversal cuts. Let's check pixel percentage wise over all the image but it's not looking too promising  "
   ]
  },
  {
   "cell_type": "markdown",
   "id": "informative-lotus",
   "metadata": {},
   "source": [
    "## Relative frequency of cancer pixels "
   ]
  },
  {
   "cell_type": "code",
   "execution_count": 29,
   "id": "magnetic-finland",
   "metadata": {},
   "outputs": [],
   "source": [
    "import nibabel as nib"
   ]
  },
  {
   "cell_type": "code",
   "execution_count": 39,
   "id": "organic-cooling",
   "metadata": {
    "collapsed": true,
    "jupyter": {
     "outputs_hidden": true
    }
   },
   "outputs": [
    {
     "name": "stdout",
     "output_type": "stream",
     "text": [
      "ml4h_proj1_colon_cancer_ct\\ml4h_proj1_colon_cancer_ct\\labelsTr\\colon_001.nii.gz\n"
     ]
    },
    {
     "name": "stderr",
     "output_type": "stream",
     "text": [
      "c:\\users\\juan diego\\documents\\ondemna\\venv\\lib\\site-packages\\ipykernel_launcher.py:4: DeprecationWarning: get_data() is deprecated in favor of get_fdata(), which has a more predictable return type. To obtain get_data() behavior going forward, use numpy.asanyarray(img.dataobj).\n",
      "\n",
      "* deprecated from version: 3.0\n",
      "* Will raise <class 'nibabel.deprecator.ExpiredDeprecationError'> as of version: 5.0\n",
      "  after removing the cwd from sys.path.\n"
     ]
    },
    {
     "name": "stdout",
     "output_type": "stream",
     "text": [
      "ml4h_proj1_colon_cancer_ct\\ml4h_proj1_colon_cancer_ct\\labelsTr\\colon_005.nii.gz\n",
      "ml4h_proj1_colon_cancer_ct\\ml4h_proj1_colon_cancer_ct\\labelsTr\\colon_006.nii.gz\n",
      "ml4h_proj1_colon_cancer_ct\\ml4h_proj1_colon_cancer_ct\\labelsTr\\colon_007.nii.gz\n",
      "ml4h_proj1_colon_cancer_ct\\ml4h_proj1_colon_cancer_ct\\labelsTr\\colon_008.nii.gz\n",
      "ml4h_proj1_colon_cancer_ct\\ml4h_proj1_colon_cancer_ct\\labelsTr\\colon_009.nii.gz\n",
      "ml4h_proj1_colon_cancer_ct\\ml4h_proj1_colon_cancer_ct\\labelsTr\\colon_011.nii.gz\n",
      "ml4h_proj1_colon_cancer_ct\\ml4h_proj1_colon_cancer_ct\\labelsTr\\colon_012.nii.gz\n",
      "ml4h_proj1_colon_cancer_ct\\ml4h_proj1_colon_cancer_ct\\labelsTr\\colon_015.nii.gz\n",
      "ml4h_proj1_colon_cancer_ct\\ml4h_proj1_colon_cancer_ct\\labelsTr\\colon_022.nii.gz\n",
      "ml4h_proj1_colon_cancer_ct\\ml4h_proj1_colon_cancer_ct\\labelsTr\\colon_024.nii.gz\n",
      "ml4h_proj1_colon_cancer_ct\\ml4h_proj1_colon_cancer_ct\\labelsTr\\colon_025.nii.gz\n",
      "ml4h_proj1_colon_cancer_ct\\ml4h_proj1_colon_cancer_ct\\labelsTr\\colon_026.nii.gz\n",
      "ml4h_proj1_colon_cancer_ct\\ml4h_proj1_colon_cancer_ct\\labelsTr\\colon_027.nii.gz\n",
      "ml4h_proj1_colon_cancer_ct\\ml4h_proj1_colon_cancer_ct\\labelsTr\\colon_028.nii.gz\n",
      "ml4h_proj1_colon_cancer_ct\\ml4h_proj1_colon_cancer_ct\\labelsTr\\colon_029.nii.gz\n",
      "ml4h_proj1_colon_cancer_ct\\ml4h_proj1_colon_cancer_ct\\labelsTr\\colon_030.nii.gz\n",
      "ml4h_proj1_colon_cancer_ct\\ml4h_proj1_colon_cancer_ct\\labelsTr\\colon_031.nii.gz\n",
      "ml4h_proj1_colon_cancer_ct\\ml4h_proj1_colon_cancer_ct\\labelsTr\\colon_032.nii.gz\n",
      "ml4h_proj1_colon_cancer_ct\\ml4h_proj1_colon_cancer_ct\\labelsTr\\colon_033.nii.gz\n",
      "ml4h_proj1_colon_cancer_ct\\ml4h_proj1_colon_cancer_ct\\labelsTr\\colon_036.nii.gz\n",
      "ml4h_proj1_colon_cancer_ct\\ml4h_proj1_colon_cancer_ct\\labelsTr\\colon_038.nii.gz\n",
      "ml4h_proj1_colon_cancer_ct\\ml4h_proj1_colon_cancer_ct\\labelsTr\\colon_039.nii.gz\n",
      "ml4h_proj1_colon_cancer_ct\\ml4h_proj1_colon_cancer_ct\\labelsTr\\colon_040.nii.gz\n",
      "ml4h_proj1_colon_cancer_ct\\ml4h_proj1_colon_cancer_ct\\labelsTr\\colon_041.nii.gz\n",
      "ml4h_proj1_colon_cancer_ct\\ml4h_proj1_colon_cancer_ct\\labelsTr\\colon_042.nii.gz\n",
      "ml4h_proj1_colon_cancer_ct\\ml4h_proj1_colon_cancer_ct\\labelsTr\\colon_045.nii.gz\n",
      "ml4h_proj1_colon_cancer_ct\\ml4h_proj1_colon_cancer_ct\\labelsTr\\colon_046.nii.gz\n",
      "ml4h_proj1_colon_cancer_ct\\ml4h_proj1_colon_cancer_ct\\labelsTr\\colon_050.nii.gz\n",
      "ml4h_proj1_colon_cancer_ct\\ml4h_proj1_colon_cancer_ct\\labelsTr\\colon_051.nii.gz\n",
      "ml4h_proj1_colon_cancer_ct\\ml4h_proj1_colon_cancer_ct\\labelsTr\\colon_053.nii.gz\n",
      "ml4h_proj1_colon_cancer_ct\\ml4h_proj1_colon_cancer_ct\\labelsTr\\colon_054.nii.gz\n",
      "ml4h_proj1_colon_cancer_ct\\ml4h_proj1_colon_cancer_ct\\labelsTr\\colon_059.nii.gz\n",
      "ml4h_proj1_colon_cancer_ct\\ml4h_proj1_colon_cancer_ct\\labelsTr\\colon_061.nii.gz\n",
      "ml4h_proj1_colon_cancer_ct\\ml4h_proj1_colon_cancer_ct\\labelsTr\\colon_064.nii.gz\n",
      "ml4h_proj1_colon_cancer_ct\\ml4h_proj1_colon_cancer_ct\\labelsTr\\colon_065.nii.gz\n",
      "ml4h_proj1_colon_cancer_ct\\ml4h_proj1_colon_cancer_ct\\labelsTr\\colon_066.nii.gz\n",
      "ml4h_proj1_colon_cancer_ct\\ml4h_proj1_colon_cancer_ct\\labelsTr\\colon_069.nii.gz\n",
      "ml4h_proj1_colon_cancer_ct\\ml4h_proj1_colon_cancer_ct\\labelsTr\\colon_072.nii.gz\n",
      "ml4h_proj1_colon_cancer_ct\\ml4h_proj1_colon_cancer_ct\\labelsTr\\colon_074.nii.gz\n",
      "ml4h_proj1_colon_cancer_ct\\ml4h_proj1_colon_cancer_ct\\labelsTr\\colon_075.nii.gz\n",
      "ml4h_proj1_colon_cancer_ct\\ml4h_proj1_colon_cancer_ct\\labelsTr\\colon_077.nii.gz\n",
      "ml4h_proj1_colon_cancer_ct\\ml4h_proj1_colon_cancer_ct\\labelsTr\\colon_078.nii.gz\n",
      "ml4h_proj1_colon_cancer_ct\\ml4h_proj1_colon_cancer_ct\\labelsTr\\colon_081.nii.gz\n",
      "ml4h_proj1_colon_cancer_ct\\ml4h_proj1_colon_cancer_ct\\labelsTr\\colon_086.nii.gz\n",
      "ml4h_proj1_colon_cancer_ct\\ml4h_proj1_colon_cancer_ct\\labelsTr\\colon_088.nii.gz\n",
      "ml4h_proj1_colon_cancer_ct\\ml4h_proj1_colon_cancer_ct\\labelsTr\\colon_089.nii.gz\n",
      "ml4h_proj1_colon_cancer_ct\\ml4h_proj1_colon_cancer_ct\\labelsTr\\colon_091.nii.gz\n",
      "ml4h_proj1_colon_cancer_ct\\ml4h_proj1_colon_cancer_ct\\labelsTr\\colon_092.nii.gz\n",
      "ml4h_proj1_colon_cancer_ct\\ml4h_proj1_colon_cancer_ct\\labelsTr\\colon_095.nii.gz\n",
      "ml4h_proj1_colon_cancer_ct\\ml4h_proj1_colon_cancer_ct\\labelsTr\\colon_096.nii.gz\n",
      "ml4h_proj1_colon_cancer_ct\\ml4h_proj1_colon_cancer_ct\\labelsTr\\colon_098.nii.gz\n",
      "ml4h_proj1_colon_cancer_ct\\ml4h_proj1_colon_cancer_ct\\labelsTr\\colon_099.nii.gz\n",
      "ml4h_proj1_colon_cancer_ct\\ml4h_proj1_colon_cancer_ct\\labelsTr\\colon_100.nii.gz\n",
      "ml4h_proj1_colon_cancer_ct\\ml4h_proj1_colon_cancer_ct\\labelsTr\\colon_102.nii.gz\n",
      "ml4h_proj1_colon_cancer_ct\\ml4h_proj1_colon_cancer_ct\\labelsTr\\colon_103.nii.gz\n",
      "ml4h_proj1_colon_cancer_ct\\ml4h_proj1_colon_cancer_ct\\labelsTr\\colon_104.nii.gz\n",
      "ml4h_proj1_colon_cancer_ct\\ml4h_proj1_colon_cancer_ct\\labelsTr\\colon_106.nii.gz\n",
      "ml4h_proj1_colon_cancer_ct\\ml4h_proj1_colon_cancer_ct\\labelsTr\\colon_107.nii.gz\n",
      "ml4h_proj1_colon_cancer_ct\\ml4h_proj1_colon_cancer_ct\\labelsTr\\colon_108.nii.gz\n",
      "ml4h_proj1_colon_cancer_ct\\ml4h_proj1_colon_cancer_ct\\labelsTr\\colon_111.nii.gz\n",
      "ml4h_proj1_colon_cancer_ct\\ml4h_proj1_colon_cancer_ct\\labelsTr\\colon_112.nii.gz\n",
      "ml4h_proj1_colon_cancer_ct\\ml4h_proj1_colon_cancer_ct\\labelsTr\\colon_114.nii.gz\n",
      "ml4h_proj1_colon_cancer_ct\\ml4h_proj1_colon_cancer_ct\\labelsTr\\colon_115.nii.gz\n",
      "ml4h_proj1_colon_cancer_ct\\ml4h_proj1_colon_cancer_ct\\labelsTr\\colon_117.nii.gz\n",
      "ml4h_proj1_colon_cancer_ct\\ml4h_proj1_colon_cancer_ct\\labelsTr\\colon_118.nii.gz\n",
      "ml4h_proj1_colon_cancer_ct\\ml4h_proj1_colon_cancer_ct\\labelsTr\\colon_119.nii.gz\n",
      "ml4h_proj1_colon_cancer_ct\\ml4h_proj1_colon_cancer_ct\\labelsTr\\colon_120.nii.gz\n",
      "ml4h_proj1_colon_cancer_ct\\ml4h_proj1_colon_cancer_ct\\labelsTr\\colon_122.nii.gz\n",
      "ml4h_proj1_colon_cancer_ct\\ml4h_proj1_colon_cancer_ct\\labelsTr\\colon_124.nii.gz\n",
      "ml4h_proj1_colon_cancer_ct\\ml4h_proj1_colon_cancer_ct\\labelsTr\\colon_126.nii.gz\n",
      "ml4h_proj1_colon_cancer_ct\\ml4h_proj1_colon_cancer_ct\\labelsTr\\colon_127.nii.gz\n",
      "ml4h_proj1_colon_cancer_ct\\ml4h_proj1_colon_cancer_ct\\labelsTr\\colon_129.nii.gz\n",
      "ml4h_proj1_colon_cancer_ct\\ml4h_proj1_colon_cancer_ct\\labelsTr\\colon_131.nii.gz\n",
      "ml4h_proj1_colon_cancer_ct\\ml4h_proj1_colon_cancer_ct\\labelsTr\\colon_133.nii.gz\n",
      "ml4h_proj1_colon_cancer_ct\\ml4h_proj1_colon_cancer_ct\\labelsTr\\colon_134.nii.gz\n",
      "ml4h_proj1_colon_cancer_ct\\ml4h_proj1_colon_cancer_ct\\labelsTr\\colon_136.nii.gz\n",
      "ml4h_proj1_colon_cancer_ct\\ml4h_proj1_colon_cancer_ct\\labelsTr\\colon_137.nii.gz\n",
      "ml4h_proj1_colon_cancer_ct\\ml4h_proj1_colon_cancer_ct\\labelsTr\\colon_138.nii.gz\n",
      "ml4h_proj1_colon_cancer_ct\\ml4h_proj1_colon_cancer_ct\\labelsTr\\colon_139.nii.gz\n",
      "ml4h_proj1_colon_cancer_ct\\ml4h_proj1_colon_cancer_ct\\labelsTr\\colon_140.nii.gz\n",
      "ml4h_proj1_colon_cancer_ct\\ml4h_proj1_colon_cancer_ct\\labelsTr\\colon_141.nii.gz\n",
      "ml4h_proj1_colon_cancer_ct\\ml4h_proj1_colon_cancer_ct\\labelsTr\\colon_142.nii.gz\n",
      "ml4h_proj1_colon_cancer_ct\\ml4h_proj1_colon_cancer_ct\\labelsTr\\colon_143.nii.gz\n",
      "ml4h_proj1_colon_cancer_ct\\ml4h_proj1_colon_cancer_ct\\labelsTr\\colon_144.nii.gz\n",
      "ml4h_proj1_colon_cancer_ct\\ml4h_proj1_colon_cancer_ct\\labelsTr\\colon_145.nii.gz\n",
      "ml4h_proj1_colon_cancer_ct\\ml4h_proj1_colon_cancer_ct\\labelsTr\\colon_148.nii.gz\n",
      "ml4h_proj1_colon_cancer_ct\\ml4h_proj1_colon_cancer_ct\\labelsTr\\colon_149.nii.gz\n",
      "ml4h_proj1_colon_cancer_ct\\ml4h_proj1_colon_cancer_ct\\labelsTr\\colon_154.nii.gz\n",
      "ml4h_proj1_colon_cancer_ct\\ml4h_proj1_colon_cancer_ct\\labelsTr\\colon_155.nii.gz\n",
      "ml4h_proj1_colon_cancer_ct\\ml4h_proj1_colon_cancer_ct\\labelsTr\\colon_157.nii.gz\n",
      "ml4h_proj1_colon_cancer_ct\\ml4h_proj1_colon_cancer_ct\\labelsTr\\colon_159.nii.gz\n",
      "ml4h_proj1_colon_cancer_ct\\ml4h_proj1_colon_cancer_ct\\labelsTr\\colon_161.nii.gz\n",
      "ml4h_proj1_colon_cancer_ct\\ml4h_proj1_colon_cancer_ct\\labelsTr\\colon_162.nii.gz\n",
      "ml4h_proj1_colon_cancer_ct\\ml4h_proj1_colon_cancer_ct\\labelsTr\\colon_163.nii.gz\n",
      "ml4h_proj1_colon_cancer_ct\\ml4h_proj1_colon_cancer_ct\\labelsTr\\colon_164.nii.gz\n",
      "ml4h_proj1_colon_cancer_ct\\ml4h_proj1_colon_cancer_ct\\labelsTr\\colon_165.nii.gz\n",
      "ml4h_proj1_colon_cancer_ct\\ml4h_proj1_colon_cancer_ct\\labelsTr\\colon_166.nii.gz\n",
      "ml4h_proj1_colon_cancer_ct\\ml4h_proj1_colon_cancer_ct\\labelsTr\\colon_168.nii.gz\n",
      "ml4h_proj1_colon_cancer_ct\\ml4h_proj1_colon_cancer_ct\\labelsTr\\colon_169.nii.gz\n"
     ]
    }
   ],
   "source": [
    "percentage_cancer_pixels = list()\n",
    "for img_path in tr_df.y_tr_img_path.unique():\n",
    "    print(img_path)\n",
    "    img_i = nib.load(img_path).get_data()\n",
    "    percentage_cancer_pixels.append(img_i.sum()/(img_i.shape[0]*img_i.shape[1]*img_i.shape[2]))"
   ]
  },
  {
   "cell_type": "code",
   "execution_count": 40,
   "id": "formed-royal",
   "metadata": {
    "collapsed": true,
    "jupyter": {
     "outputs_hidden": true
    }
   },
   "outputs": [
    {
     "data": {
      "text/plain": [
       "[0.00011336008707682291,\n",
       " 0.0005921344367825255,\n",
       " 6.698159610523897e-05,\n",
       " 0.00023712983002533783,\n",
       " 0.00022386384490352348,\n",
       " 0.0007468753390842014,\n",
       " 0.00016996595594618056,\n",
       " 0.0006678754633123225,\n",
       " 0.0003219180636935764,\n",
       " 0.0005919305901778372,\n",
       " 0.0006840896606445313,\n",
       " 6.173670977011495e-05,\n",
       " 0.0003108047857517149,\n",
       " 0.0024584720009251646,\n",
       " 0.0001800938656455592,\n",
       " 0.002227351350604363,\n",
       " 0.0017173971448625838,\n",
       " 0.00020580291748046876,\n",
       " 0.0001087188720703125,\n",
       " 0.0011880141038161057,\n",
       " 0.00014401465347132732,\n",
       " 0.000341834091558689,\n",
       " 0.0025931171987248563,\n",
       " 0.0003040313720703125,\n",
       " 0.00025573143592247594,\n",
       " 0.00021459406072443183,\n",
       " 0.0002996872882453763,\n",
       " 0.00018546251746697154,\n",
       " 0.003140194315305898,\n",
       " 0.0007075889437806373,\n",
       " 0.00021557216226619525,\n",
       " 2.657465574120273e-05,\n",
       " 0.0005439411510120739,\n",
       " 0.0002564822926240809,\n",
       " 0.0006077740643475507,\n",
       " 0.00019236361042837078,\n",
       " 0.0006561279296875,\n",
       " 0.0013643781715464369,\n",
       " 0.00090362548828125,\n",
       " 0.00019073486328125,\n",
       " 9.665378304414971e-05,\n",
       " 0.0007593917846679687,\n",
       " 0.000493059660259046,\n",
       " 0.0004980515460578762,\n",
       " 0.0004124783053256498,\n",
       " 0.000128173828125,\n",
       " 1.4925963126572987e-05,\n",
       " 0.0004174528066177814,\n",
       " 0.00031767951117621525,\n",
       " 6.020069122314453e-05,\n",
       " 0.0002287141569368132,\n",
       " 0.00038923783735795453,\n",
       " 0.0009093617284020712,\n",
       " 0.0003835327771245217,\n",
       " 0.0002554655075073242,\n",
       " 0.0005813031583218961,\n",
       " 0.0001273423098446278,\n",
       " 8.306195659022177e-05,\n",
       " 0.0001770468319163603,\n",
       " 0.0009755221280184659,\n",
       " 0.0008982022603352865,\n",
       " 0.00024896016935022867,\n",
       " 0.00011639065212673612,\n",
       " 0.0001850718075467139,\n",
       " 0.0004086724643049569,\n",
       " 0.0001604470861963479,\n",
       " 0.0008399340571189413,\n",
       " 0.00012855119602654569,\n",
       " 0.00034467909071180555,\n",
       " 0.00032305249980851716,\n",
       " 0.0005803276510799632,\n",
       " 0.0012563363665101157,\n",
       " 0.005706864173966225,\n",
       " 0.0012571784887420998,\n",
       " 0.00018894566898852323,\n",
       " 6.704461084653254e-05,\n",
       " 0.000526796307480126,\n",
       " 0.0007508376549030172,\n",
       " 0.000779658188054591,\n",
       " 0.0002207018665431701,\n",
       " 0.0013979019657258064,\n",
       " 0.00045483907063802084,\n",
       " 0.0004974066042432599,\n",
       " 0.0009056914086435355,\n",
       " 0.00010314168809335442,\n",
       " 0.0006011704267081568,\n",
       " 0.0011549098517305107,\n",
       " 0.000727423306169181,\n",
       " 6.554618714347719e-05,\n",
       " 0.00026615773598978837,\n",
       " 0.002056587033155488,\n",
       " 0.0007613332648026315,\n",
       " 0.0004707737972861842,\n",
       " 6.180543165940505e-05,\n",
       " 0.00011874259786402926,\n",
       " 0.0001517825656467014,\n",
       " 5.034325828014965e-05,\n",
       " 0.0015397345882722702,\n",
       " 0.0002193450927734375,\n",
       " 4.827514175296754e-05]"
      ]
     },
     "execution_count": 40,
     "metadata": {},
     "output_type": "execute_result"
    }
   ],
   "source": [
    "percentage_cancer_pixels"
   ]
  },
  {
   "cell_type": "code",
   "execution_count": 42,
   "id": "civilian-representation",
   "metadata": {},
   "outputs": [
    {
     "data": {
      "text/plain": [
       "0.0005996856643402784"
      ]
     },
     "execution_count": 42,
     "metadata": {},
     "output_type": "execute_result"
    }
   ],
   "source": [
    "np.mean(percentage_cancer_pixels)"
   ]
  },
  {
   "cell_type": "code",
   "execution_count": 48,
   "id": "joined-slope",
   "metadata": {},
   "outputs": [
    {
     "data": {
      "text/plain": [
       "0.0003324432956836031"
      ]
     },
     "execution_count": 48,
     "metadata": {},
     "output_type": "execute_result"
    }
   ],
   "source": [
    "np.median(percentage_cancer_pixels)"
   ]
  },
  {
   "cell_type": "code",
   "execution_count": 50,
   "id": "blessed-singing",
   "metadata": {},
   "outputs": [
    {
     "data": {
      "text/plain": [
       "0.005706864173966225"
      ]
     },
     "execution_count": 50,
     "metadata": {},
     "output_type": "execute_result"
    }
   ],
   "source": [
    "np.max(percentage_cancer_pixels)"
   ]
  },
  {
   "cell_type": "code",
   "execution_count": 49,
   "id": "successful-growth",
   "metadata": {},
   "outputs": [
    {
     "data": {
      "text/plain": [
       "array([0.00017933, 0.00033244, 0.00073229, 0.00206513, 0.00316586])"
      ]
     },
     "execution_count": 49,
     "metadata": {},
     "output_type": "execute_result"
    }
   ],
   "source": [
    "np.quantile(percentage_cancer_pixels, [0.25, 0.5, 0.75, 0.95, 0.99])"
   ]
  },
  {
   "cell_type": "code",
   "execution_count": 47,
   "id": "organizational-casino",
   "metadata": {},
   "outputs": [
    {
     "data": {
      "text/plain": [
       "<AxesSubplot:ylabel='Frequency'>"
      ]
     },
     "execution_count": 47,
     "metadata": {},
     "output_type": "execute_result"
    },
    {
     "data": {
      "image/png": "[encoded data removed]",
      "text/plain": [
       "<Figure size 432x288 with 1 Axes>"
      ]
     },
     "metadata": {
      "needs_background": "light"
     },
     "output_type": "display_data"
    }
   ],
   "source": [
    "pd.Series(percentage_cancer_pixels).plot.hist(bins=30)"
   ]
  },
  {
   "cell_type": "markdown",
   "id": "right-assignment",
   "metadata": {},
   "source": [
    "The class unbalance is dramatic, they are all under 0.5%. 99% of them are at an unbalance of 0.3%, and 75% under 0.07& percent. We definetely need weights or up/down sampling of some sort. "
   ]
  }
 ],
 "metadata": {
  "kernelspec": {
   "display_name": "Python 3",
   "language": "python",
   "name": "python3"
  },
  "language_info": {
   "codemirror_mode": {
    "name": "ipython",
    "version": 3
   },
   "file_extension": ".py",
   "mimetype": "text/x-python",
   "name": "python",
   "nbconvert_exporter": "python",
   "pygments_lexer": "ipython3",
   "version": "3.7.9"
  }
 },
 "nbformat": 4,
 "nbformat_minor": 5
}
