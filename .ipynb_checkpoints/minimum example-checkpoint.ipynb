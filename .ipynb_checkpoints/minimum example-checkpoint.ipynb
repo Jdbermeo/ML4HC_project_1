{
 "cells": [
  {
   "cell_type": "code",
   "execution_count": 3,
   "id": "sunrise-miami",
   "metadata": {},
   "outputs": [],
   "source": [
    "import os\n",
    "\n",
    "import pandas as pd\n",
    "from sklearn.model_selection import KFold "
   ]
  },
  {
   "cell_type": "code",
   "execution_count": 4,
   "id": "effective-brown",
   "metadata": {},
   "outputs": [],
   "source": [
    "from img_generator import build_train_test_df, DataGenerator2D\n",
    "from model_utils import calculate_iou_holdout_set, jaccard_distance_loss, focal_loss"
   ]
  },
  {
   "cell_type": "code",
   "execution_count": 5,
   "id": "reasonable-migration",
   "metadata": {},
   "outputs": [],
   "source": [
    "data_path_source_dir = os.path.join('ml4h_proj1_colon_cancer_ct', 'ml4h_proj1_colon_cancer_ct')"
   ]
  },
  {
   "cell_type": "markdown",
   "id": "indie-toner",
   "metadata": {},
   "source": [
    "## Create dataframes in the format and with the information required by the generator"
   ]
  },
  {
   "cell_type": "markdown",
   "id": "understood-clinic",
   "metadata": {},
   "source": [
    "### Create datframes with paths and depth for the images"
   ]
  },
  {
   "cell_type": "code",
   "execution_count": 6,
   "id": "opposite-position",
   "metadata": {},
   "outputs": [],
   "source": [
    "tr_df, x_ts_df = build_train_test_df(data_path_source_dir)"
   ]
  },
  {
   "cell_type": "code",
   "execution_count": 7,
   "id": "potential-scottish",
   "metadata": {},
   "outputs": [
    {
     "data": {
      "text/html": [
       "<div>\n",
       "<style scoped>\n",
       "    .dataframe tbody tr th:only-of-type {\n",
       "        vertical-align: middle;\n",
       "    }\n",
       "\n",
       "    .dataframe tbody tr th {\n",
       "        vertical-align: top;\n",
       "    }\n",
       "\n",
       "    .dataframe thead th {\n",
       "        text-align: right;\n",
       "    }\n",
       "</style>\n",
       "<table border=\"1\" class=\"dataframe\">\n",
       "  <thead>\n",
       "    <tr style=\"text-align: right;\">\n",
       "      <th></th>\n",
       "      <th></th>\n",
       "      <th>x_tr_img_path</th>\n",
       "      <th>depth</th>\n",
       "      <th>y_tr_img_path</th>\n",
       "    </tr>\n",
       "    <tr>\n",
       "      <th>index</th>\n",
       "      <th>depth_i</th>\n",
       "      <th></th>\n",
       "      <th></th>\n",
       "      <th></th>\n",
       "    </tr>\n",
       "  </thead>\n",
       "  <tbody>\n",
       "    <tr>\n",
       "      <th rowspan=\"5\" valign=\"top\">001</th>\n",
       "      <th>0</th>\n",
       "      <td>ml4h_proj1_colon_cancer_ct\\ml4h_proj1_colon_ca...</td>\n",
       "      <td>60</td>\n",
       "      <td>ml4h_proj1_colon_cancer_ct\\ml4h_proj1_colon_ca...</td>\n",
       "    </tr>\n",
       "    <tr>\n",
       "      <th>1</th>\n",
       "      <td>ml4h_proj1_colon_cancer_ct\\ml4h_proj1_colon_ca...</td>\n",
       "      <td>60</td>\n",
       "      <td>ml4h_proj1_colon_cancer_ct\\ml4h_proj1_colon_ca...</td>\n",
       "    </tr>\n",
       "    <tr>\n",
       "      <th>2</th>\n",
       "      <td>ml4h_proj1_colon_cancer_ct\\ml4h_proj1_colon_ca...</td>\n",
       "      <td>60</td>\n",
       "      <td>ml4h_proj1_colon_cancer_ct\\ml4h_proj1_colon_ca...</td>\n",
       "    </tr>\n",
       "    <tr>\n",
       "      <th>3</th>\n",
       "      <td>ml4h_proj1_colon_cancer_ct\\ml4h_proj1_colon_ca...</td>\n",
       "      <td>60</td>\n",
       "      <td>ml4h_proj1_colon_cancer_ct\\ml4h_proj1_colon_ca...</td>\n",
       "    </tr>\n",
       "    <tr>\n",
       "      <th>4</th>\n",
       "      <td>ml4h_proj1_colon_cancer_ct\\ml4h_proj1_colon_ca...</td>\n",
       "      <td>60</td>\n",
       "      <td>ml4h_proj1_colon_cancer_ct\\ml4h_proj1_colon_ca...</td>\n",
       "    </tr>\n",
       "    <tr>\n",
       "      <th>...</th>\n",
       "      <th>...</th>\n",
       "      <td>...</td>\n",
       "      <td>...</td>\n",
       "      <td>...</td>\n",
       "    </tr>\n",
       "    <tr>\n",
       "      <th rowspan=\"5\" valign=\"top\">169</th>\n",
       "      <th>253</th>\n",
       "      <td>ml4h_proj1_colon_cancer_ct\\ml4h_proj1_colon_ca...</td>\n",
       "      <td>258</td>\n",
       "      <td>ml4h_proj1_colon_cancer_ct\\ml4h_proj1_colon_ca...</td>\n",
       "    </tr>\n",
       "    <tr>\n",
       "      <th>254</th>\n",
       "      <td>ml4h_proj1_colon_cancer_ct\\ml4h_proj1_colon_ca...</td>\n",
       "      <td>258</td>\n",
       "      <td>ml4h_proj1_colon_cancer_ct\\ml4h_proj1_colon_ca...</td>\n",
       "    </tr>\n",
       "    <tr>\n",
       "      <th>255</th>\n",
       "      <td>ml4h_proj1_colon_cancer_ct\\ml4h_proj1_colon_ca...</td>\n",
       "      <td>258</td>\n",
       "      <td>ml4h_proj1_colon_cancer_ct\\ml4h_proj1_colon_ca...</td>\n",
       "    </tr>\n",
       "    <tr>\n",
       "      <th>256</th>\n",
       "      <td>ml4h_proj1_colon_cancer_ct\\ml4h_proj1_colon_ca...</td>\n",
       "      <td>258</td>\n",
       "      <td>ml4h_proj1_colon_cancer_ct\\ml4h_proj1_colon_ca...</td>\n",
       "    </tr>\n",
       "    <tr>\n",
       "      <th>257</th>\n",
       "      <td>ml4h_proj1_colon_cancer_ct\\ml4h_proj1_colon_ca...</td>\n",
       "      <td>258</td>\n",
       "      <td>ml4h_proj1_colon_cancer_ct\\ml4h_proj1_colon_ca...</td>\n",
       "    </tr>\n",
       "  </tbody>\n",
       "</table>\n",
       "<p>10162 rows × 3 columns</p>\n",
       "</div>"
      ],
      "text/plain": [
       "                                                   x_tr_img_path  depth  \\\n",
       "index depth_i                                                             \n",
       "001   0        ml4h_proj1_colon_cancer_ct\\ml4h_proj1_colon_ca...     60   \n",
       "      1        ml4h_proj1_colon_cancer_ct\\ml4h_proj1_colon_ca...     60   \n",
       "      2        ml4h_proj1_colon_cancer_ct\\ml4h_proj1_colon_ca...     60   \n",
       "      3        ml4h_proj1_colon_cancer_ct\\ml4h_proj1_colon_ca...     60   \n",
       "      4        ml4h_proj1_colon_cancer_ct\\ml4h_proj1_colon_ca...     60   \n",
       "...                                                          ...    ...   \n",
       "169   253      ml4h_proj1_colon_cancer_ct\\ml4h_proj1_colon_ca...    258   \n",
       "      254      ml4h_proj1_colon_cancer_ct\\ml4h_proj1_colon_ca...    258   \n",
       "      255      ml4h_proj1_colon_cancer_ct\\ml4h_proj1_colon_ca...    258   \n",
       "      256      ml4h_proj1_colon_cancer_ct\\ml4h_proj1_colon_ca...    258   \n",
       "      257      ml4h_proj1_colon_cancer_ct\\ml4h_proj1_colon_ca...    258   \n",
       "\n",
       "                                                   y_tr_img_path  \n",
       "index depth_i                                                     \n",
       "001   0        ml4h_proj1_colon_cancer_ct\\ml4h_proj1_colon_ca...  \n",
       "      1        ml4h_proj1_colon_cancer_ct\\ml4h_proj1_colon_ca...  \n",
       "      2        ml4h_proj1_colon_cancer_ct\\ml4h_proj1_colon_ca...  \n",
       "      3        ml4h_proj1_colon_cancer_ct\\ml4h_proj1_colon_ca...  \n",
       "      4        ml4h_proj1_colon_cancer_ct\\ml4h_proj1_colon_ca...  \n",
       "...                                                          ...  \n",
       "169   253      ml4h_proj1_colon_cancer_ct\\ml4h_proj1_colon_ca...  \n",
       "      254      ml4h_proj1_colon_cancer_ct\\ml4h_proj1_colon_ca...  \n",
       "      255      ml4h_proj1_colon_cancer_ct\\ml4h_proj1_colon_ca...  \n",
       "      256      ml4h_proj1_colon_cancer_ct\\ml4h_proj1_colon_ca...  \n",
       "      257      ml4h_proj1_colon_cancer_ct\\ml4h_proj1_colon_ca...  \n",
       "\n",
       "[10162 rows x 3 columns]"
      ]
     },
     "execution_count": 7,
     "metadata": {},
     "output_type": "execute_result"
    }
   ],
   "source": [
    "tr_df"
   ]
  },
  {
   "cell_type": "code",
   "execution_count": 8,
   "id": "skilled-position",
   "metadata": {},
   "outputs": [
    {
     "data": {
      "text/html": [
       "<div>\n",
       "<style scoped>\n",
       "    .dataframe tbody tr th:only-of-type {\n",
       "        vertical-align: middle;\n",
       "    }\n",
       "\n",
       "    .dataframe tbody tr th {\n",
       "        vertical-align: top;\n",
       "    }\n",
       "\n",
       "    .dataframe thead th {\n",
       "        text-align: right;\n",
       "    }\n",
       "</style>\n",
       "<table border=\"1\" class=\"dataframe\">\n",
       "  <thead>\n",
       "    <tr style=\"text-align: right;\">\n",
       "      <th></th>\n",
       "      <th></th>\n",
       "      <th>x_ts_img_path</th>\n",
       "      <th>depth</th>\n",
       "    </tr>\n",
       "    <tr>\n",
       "      <th>index</th>\n",
       "      <th>depth_i</th>\n",
       "      <th></th>\n",
       "      <th></th>\n",
       "    </tr>\n",
       "  </thead>\n",
       "  <tbody>\n",
       "    <tr>\n",
       "      <th rowspan=\"5\" valign=\"top\">171</th>\n",
       "      <th>0</th>\n",
       "      <td>ml4h_proj1_colon_cancer_ct\\ml4h_proj1_colon_ca...</td>\n",
       "      <td>119</td>\n",
       "    </tr>\n",
       "    <tr>\n",
       "      <th>1</th>\n",
       "      <td>ml4h_proj1_colon_cancer_ct\\ml4h_proj1_colon_ca...</td>\n",
       "      <td>119</td>\n",
       "    </tr>\n",
       "    <tr>\n",
       "      <th>2</th>\n",
       "      <td>ml4h_proj1_colon_cancer_ct\\ml4h_proj1_colon_ca...</td>\n",
       "      <td>119</td>\n",
       "    </tr>\n",
       "    <tr>\n",
       "      <th>3</th>\n",
       "      <td>ml4h_proj1_colon_cancer_ct\\ml4h_proj1_colon_ca...</td>\n",
       "      <td>119</td>\n",
       "    </tr>\n",
       "    <tr>\n",
       "      <th>4</th>\n",
       "      <td>ml4h_proj1_colon_cancer_ct\\ml4h_proj1_colon_ca...</td>\n",
       "      <td>119</td>\n",
       "    </tr>\n",
       "    <tr>\n",
       "      <th>...</th>\n",
       "      <th>...</th>\n",
       "      <td>...</td>\n",
       "      <td>...</td>\n",
       "    </tr>\n",
       "    <tr>\n",
       "      <th rowspan=\"5\" valign=\"top\">219</th>\n",
       "      <th>132</th>\n",
       "      <td>ml4h_proj1_colon_cancer_ct\\ml4h_proj1_colon_ca...</td>\n",
       "      <td>137</td>\n",
       "    </tr>\n",
       "    <tr>\n",
       "      <th>133</th>\n",
       "      <td>ml4h_proj1_colon_cancer_ct\\ml4h_proj1_colon_ca...</td>\n",
       "      <td>137</td>\n",
       "    </tr>\n",
       "    <tr>\n",
       "      <th>134</th>\n",
       "      <td>ml4h_proj1_colon_cancer_ct\\ml4h_proj1_colon_ca...</td>\n",
       "      <td>137</td>\n",
       "    </tr>\n",
       "    <tr>\n",
       "      <th>135</th>\n",
       "      <td>ml4h_proj1_colon_cancer_ct\\ml4h_proj1_colon_ca...</td>\n",
       "      <td>137</td>\n",
       "    </tr>\n",
       "    <tr>\n",
       "      <th>136</th>\n",
       "      <td>ml4h_proj1_colon_cancer_ct\\ml4h_proj1_colon_ca...</td>\n",
       "      <td>137</td>\n",
       "    </tr>\n",
       "  </tbody>\n",
       "</table>\n",
       "<p>3324 rows × 2 columns</p>\n",
       "</div>"
      ],
      "text/plain": [
       "                                                   x_ts_img_path  depth\n",
       "index depth_i                                                          \n",
       "171   0        ml4h_proj1_colon_cancer_ct\\ml4h_proj1_colon_ca...    119\n",
       "      1        ml4h_proj1_colon_cancer_ct\\ml4h_proj1_colon_ca...    119\n",
       "      2        ml4h_proj1_colon_cancer_ct\\ml4h_proj1_colon_ca...    119\n",
       "      3        ml4h_proj1_colon_cancer_ct\\ml4h_proj1_colon_ca...    119\n",
       "      4        ml4h_proj1_colon_cancer_ct\\ml4h_proj1_colon_ca...    119\n",
       "...                                                          ...    ...\n",
       "219   132      ml4h_proj1_colon_cancer_ct\\ml4h_proj1_colon_ca...    137\n",
       "      133      ml4h_proj1_colon_cancer_ct\\ml4h_proj1_colon_ca...    137\n",
       "      134      ml4h_proj1_colon_cancer_ct\\ml4h_proj1_colon_ca...    137\n",
       "      135      ml4h_proj1_colon_cancer_ct\\ml4h_proj1_colon_ca...    137\n",
       "      136      ml4h_proj1_colon_cancer_ct\\ml4h_proj1_colon_ca...    137\n",
       "\n",
       "[3324 rows x 2 columns]"
      ]
     },
     "execution_count": 8,
     "metadata": {},
     "output_type": "execute_result"
    }
   ],
   "source": [
    "x_ts_df"
   ]
  },
  {
   "cell_type": "markdown",
   "id": "adaptive-heavy",
   "metadata": {},
   "source": [
    "### Create CV folds for `tr_df`"
   ]
  },
  {
   "cell_type": "markdown",
   "id": "blond-triumph",
   "metadata": {},
   "source": [
    "let's go for 3 folds"
   ]
  },
  {
   "cell_type": "code",
   "execution_count": 9,
   "id": "mature-orlando",
   "metadata": {},
   "outputs": [],
   "source": [
    "def generate_fold_dict(df_, n_folds=3, seed=123):\n",
    "    \n",
    "    img_num_idx_list = df_.index.levels[0]\n",
    "    folder = KFold(n_splits=n_folds, random_state=seed, shuffle=True)\n",
    "    df_fold_dict = dict()\n",
    "    \n",
    "    for i, (train_fold_i, holdout_i) in enumerate(folder.split(img_num_idx_list)):\n",
    "        train_fold_i_idx = img_num_idx_list[train_fold_i]\n",
    "        holdout_i_idx = img_num_idx_list[holdout_i]\n",
    "\n",
    "        df_fold_dict[f'fold_{i}'] = {\n",
    "            'train': df_.loc[pd.IndexSlice[train_fold_i_idx, :], :],\n",
    "            'holdout': df_.loc[pd.IndexSlice[holdout_i_idx, :], :]\n",
    "        }\n",
    "        \n",
    "    return df_fold_dict"
   ]
  },
  {
   "cell_type": "code",
   "execution_count": 10,
   "id": "ceramic-fancy",
   "metadata": {},
   "outputs": [],
   "source": [
    "tr_fold_df_dict =  generate_fold_dict(df_=tr_df, n_folds=3, seed=123)"
   ]
  },
  {
   "cell_type": "code",
   "execution_count": 11,
   "id": "acknowledged-mistake",
   "metadata": {},
   "outputs": [
    {
     "data": {
      "text/html": [
       "<div>\n",
       "<style scoped>\n",
       "    .dataframe tbody tr th:only-of-type {\n",
       "        vertical-align: middle;\n",
       "    }\n",
       "\n",
       "    .dataframe tbody tr th {\n",
       "        vertical-align: top;\n",
       "    }\n",
       "\n",
       "    .dataframe thead th {\n",
       "        text-align: right;\n",
       "    }\n",
       "</style>\n",
       "<table border=\"1\" class=\"dataframe\">\n",
       "  <thead>\n",
       "    <tr style=\"text-align: right;\">\n",
       "      <th></th>\n",
       "      <th></th>\n",
       "      <th>x_tr_img_path</th>\n",
       "      <th>depth</th>\n",
       "      <th>y_tr_img_path</th>\n",
       "    </tr>\n",
       "    <tr>\n",
       "      <th>index</th>\n",
       "      <th>depth_i</th>\n",
       "      <th></th>\n",
       "      <th></th>\n",
       "      <th></th>\n",
       "    </tr>\n",
       "  </thead>\n",
       "  <tbody>\n",
       "    <tr>\n",
       "      <th rowspan=\"5\" valign=\"top\">005</th>\n",
       "      <th>0</th>\n",
       "      <td>ml4h_proj1_colon_cancer_ct\\ml4h_proj1_colon_ca...</td>\n",
       "      <td>98</td>\n",
       "      <td>ml4h_proj1_colon_cancer_ct\\ml4h_proj1_colon_ca...</td>\n",
       "    </tr>\n",
       "    <tr>\n",
       "      <th>1</th>\n",
       "      <td>ml4h_proj1_colon_cancer_ct\\ml4h_proj1_colon_ca...</td>\n",
       "      <td>98</td>\n",
       "      <td>ml4h_proj1_colon_cancer_ct\\ml4h_proj1_colon_ca...</td>\n",
       "    </tr>\n",
       "    <tr>\n",
       "      <th>2</th>\n",
       "      <td>ml4h_proj1_colon_cancer_ct\\ml4h_proj1_colon_ca...</td>\n",
       "      <td>98</td>\n",
       "      <td>ml4h_proj1_colon_cancer_ct\\ml4h_proj1_colon_ca...</td>\n",
       "    </tr>\n",
       "    <tr>\n",
       "      <th>3</th>\n",
       "      <td>ml4h_proj1_colon_cancer_ct\\ml4h_proj1_colon_ca...</td>\n",
       "      <td>98</td>\n",
       "      <td>ml4h_proj1_colon_cancer_ct\\ml4h_proj1_colon_ca...</td>\n",
       "    </tr>\n",
       "    <tr>\n",
       "      <th>4</th>\n",
       "      <td>ml4h_proj1_colon_cancer_ct\\ml4h_proj1_colon_ca...</td>\n",
       "      <td>98</td>\n",
       "      <td>ml4h_proj1_colon_cancer_ct\\ml4h_proj1_colon_ca...</td>\n",
       "    </tr>\n",
       "    <tr>\n",
       "      <th>...</th>\n",
       "      <th>...</th>\n",
       "      <td>...</td>\n",
       "      <td>...</td>\n",
       "      <td>...</td>\n",
       "    </tr>\n",
       "    <tr>\n",
       "      <th rowspan=\"5\" valign=\"top\">169</th>\n",
       "      <th>253</th>\n",
       "      <td>ml4h_proj1_colon_cancer_ct\\ml4h_proj1_colon_ca...</td>\n",
       "      <td>258</td>\n",
       "      <td>ml4h_proj1_colon_cancer_ct\\ml4h_proj1_colon_ca...</td>\n",
       "    </tr>\n",
       "    <tr>\n",
       "      <th>254</th>\n",
       "      <td>ml4h_proj1_colon_cancer_ct\\ml4h_proj1_colon_ca...</td>\n",
       "      <td>258</td>\n",
       "      <td>ml4h_proj1_colon_cancer_ct\\ml4h_proj1_colon_ca...</td>\n",
       "    </tr>\n",
       "    <tr>\n",
       "      <th>255</th>\n",
       "      <td>ml4h_proj1_colon_cancer_ct\\ml4h_proj1_colon_ca...</td>\n",
       "      <td>258</td>\n",
       "      <td>ml4h_proj1_colon_cancer_ct\\ml4h_proj1_colon_ca...</td>\n",
       "    </tr>\n",
       "    <tr>\n",
       "      <th>256</th>\n",
       "      <td>ml4h_proj1_colon_cancer_ct\\ml4h_proj1_colon_ca...</td>\n",
       "      <td>258</td>\n",
       "      <td>ml4h_proj1_colon_cancer_ct\\ml4h_proj1_colon_ca...</td>\n",
       "    </tr>\n",
       "    <tr>\n",
       "      <th>257</th>\n",
       "      <td>ml4h_proj1_colon_cancer_ct\\ml4h_proj1_colon_ca...</td>\n",
       "      <td>258</td>\n",
       "      <td>ml4h_proj1_colon_cancer_ct\\ml4h_proj1_colon_ca...</td>\n",
       "    </tr>\n",
       "  </tbody>\n",
       "</table>\n",
       "<p>6696 rows × 3 columns</p>\n",
       "</div>"
      ],
      "text/plain": [
       "                                                   x_tr_img_path  depth  \\\n",
       "index depth_i                                                             \n",
       "005   0        ml4h_proj1_colon_cancer_ct\\ml4h_proj1_colon_ca...     98   \n",
       "      1        ml4h_proj1_colon_cancer_ct\\ml4h_proj1_colon_ca...     98   \n",
       "      2        ml4h_proj1_colon_cancer_ct\\ml4h_proj1_colon_ca...     98   \n",
       "      3        ml4h_proj1_colon_cancer_ct\\ml4h_proj1_colon_ca...     98   \n",
       "      4        ml4h_proj1_colon_cancer_ct\\ml4h_proj1_colon_ca...     98   \n",
       "...                                                          ...    ...   \n",
       "169   253      ml4h_proj1_colon_cancer_ct\\ml4h_proj1_colon_ca...    258   \n",
       "      254      ml4h_proj1_colon_cancer_ct\\ml4h_proj1_colon_ca...    258   \n",
       "      255      ml4h_proj1_colon_cancer_ct\\ml4h_proj1_colon_ca...    258   \n",
       "      256      ml4h_proj1_colon_cancer_ct\\ml4h_proj1_colon_ca...    258   \n",
       "      257      ml4h_proj1_colon_cancer_ct\\ml4h_proj1_colon_ca...    258   \n",
       "\n",
       "                                                   y_tr_img_path  \n",
       "index depth_i                                                     \n",
       "005   0        ml4h_proj1_colon_cancer_ct\\ml4h_proj1_colon_ca...  \n",
       "      1        ml4h_proj1_colon_cancer_ct\\ml4h_proj1_colon_ca...  \n",
       "      2        ml4h_proj1_colon_cancer_ct\\ml4h_proj1_colon_ca...  \n",
       "      3        ml4h_proj1_colon_cancer_ct\\ml4h_proj1_colon_ca...  \n",
       "      4        ml4h_proj1_colon_cancer_ct\\ml4h_proj1_colon_ca...  \n",
       "...                                                          ...  \n",
       "169   253      ml4h_proj1_colon_cancer_ct\\ml4h_proj1_colon_ca...  \n",
       "      254      ml4h_proj1_colon_cancer_ct\\ml4h_proj1_colon_ca...  \n",
       "      255      ml4h_proj1_colon_cancer_ct\\ml4h_proj1_colon_ca...  \n",
       "      256      ml4h_proj1_colon_cancer_ct\\ml4h_proj1_colon_ca...  \n",
       "      257      ml4h_proj1_colon_cancer_ct\\ml4h_proj1_colon_ca...  \n",
       "\n",
       "[6696 rows x 3 columns]"
      ]
     },
     "execution_count": 11,
     "metadata": {},
     "output_type": "execute_result"
    }
   ],
   "source": [
    "tr_fold_df_dict['fold_0']['train']"
   ]
  },
  {
   "cell_type": "code",
   "execution_count": 12,
   "id": "still-professor",
   "metadata": {},
   "outputs": [
    {
     "data": {
      "text/html": [
       "<div>\n",
       "<style scoped>\n",
       "    .dataframe tbody tr th:only-of-type {\n",
       "        vertical-align: middle;\n",
       "    }\n",
       "\n",
       "    .dataframe tbody tr th {\n",
       "        vertical-align: top;\n",
       "    }\n",
       "\n",
       "    .dataframe thead th {\n",
       "        text-align: right;\n",
       "    }\n",
       "</style>\n",
       "<table border=\"1\" class=\"dataframe\">\n",
       "  <thead>\n",
       "    <tr style=\"text-align: right;\">\n",
       "      <th></th>\n",
       "      <th></th>\n",
       "      <th>x_tr_img_path</th>\n",
       "      <th>depth</th>\n",
       "      <th>y_tr_img_path</th>\n",
       "    </tr>\n",
       "    <tr>\n",
       "      <th>index</th>\n",
       "      <th>depth_i</th>\n",
       "      <th></th>\n",
       "      <th></th>\n",
       "      <th></th>\n",
       "    </tr>\n",
       "  </thead>\n",
       "  <tbody>\n",
       "    <tr>\n",
       "      <th rowspan=\"5\" valign=\"top\">001</th>\n",
       "      <th>0</th>\n",
       "      <td>ml4h_proj1_colon_cancer_ct\\ml4h_proj1_colon_ca...</td>\n",
       "      <td>60</td>\n",
       "      <td>ml4h_proj1_colon_cancer_ct\\ml4h_proj1_colon_ca...</td>\n",
       "    </tr>\n",
       "    <tr>\n",
       "      <th>1</th>\n",
       "      <td>ml4h_proj1_colon_cancer_ct\\ml4h_proj1_colon_ca...</td>\n",
       "      <td>60</td>\n",
       "      <td>ml4h_proj1_colon_cancer_ct\\ml4h_proj1_colon_ca...</td>\n",
       "    </tr>\n",
       "    <tr>\n",
       "      <th>2</th>\n",
       "      <td>ml4h_proj1_colon_cancer_ct\\ml4h_proj1_colon_ca...</td>\n",
       "      <td>60</td>\n",
       "      <td>ml4h_proj1_colon_cancer_ct\\ml4h_proj1_colon_ca...</td>\n",
       "    </tr>\n",
       "    <tr>\n",
       "      <th>3</th>\n",
       "      <td>ml4h_proj1_colon_cancer_ct\\ml4h_proj1_colon_ca...</td>\n",
       "      <td>60</td>\n",
       "      <td>ml4h_proj1_colon_cancer_ct\\ml4h_proj1_colon_ca...</td>\n",
       "    </tr>\n",
       "    <tr>\n",
       "      <th>4</th>\n",
       "      <td>ml4h_proj1_colon_cancer_ct\\ml4h_proj1_colon_ca...</td>\n",
       "      <td>60</td>\n",
       "      <td>ml4h_proj1_colon_cancer_ct\\ml4h_proj1_colon_ca...</td>\n",
       "    </tr>\n",
       "    <tr>\n",
       "      <th>...</th>\n",
       "      <th>...</th>\n",
       "      <td>...</td>\n",
       "      <td>...</td>\n",
       "      <td>...</td>\n",
       "    </tr>\n",
       "    <tr>\n",
       "      <th rowspan=\"5\" valign=\"top\">159</th>\n",
       "      <th>90</th>\n",
       "      <td>ml4h_proj1_colon_cancer_ct\\ml4h_proj1_colon_ca...</td>\n",
       "      <td>95</td>\n",
       "      <td>ml4h_proj1_colon_cancer_ct\\ml4h_proj1_colon_ca...</td>\n",
       "    </tr>\n",
       "    <tr>\n",
       "      <th>91</th>\n",
       "      <td>ml4h_proj1_colon_cancer_ct\\ml4h_proj1_colon_ca...</td>\n",
       "      <td>95</td>\n",
       "      <td>ml4h_proj1_colon_cancer_ct\\ml4h_proj1_colon_ca...</td>\n",
       "    </tr>\n",
       "    <tr>\n",
       "      <th>92</th>\n",
       "      <td>ml4h_proj1_colon_cancer_ct\\ml4h_proj1_colon_ca...</td>\n",
       "      <td>95</td>\n",
       "      <td>ml4h_proj1_colon_cancer_ct\\ml4h_proj1_colon_ca...</td>\n",
       "    </tr>\n",
       "    <tr>\n",
       "      <th>93</th>\n",
       "      <td>ml4h_proj1_colon_cancer_ct\\ml4h_proj1_colon_ca...</td>\n",
       "      <td>95</td>\n",
       "      <td>ml4h_proj1_colon_cancer_ct\\ml4h_proj1_colon_ca...</td>\n",
       "    </tr>\n",
       "    <tr>\n",
       "      <th>94</th>\n",
       "      <td>ml4h_proj1_colon_cancer_ct\\ml4h_proj1_colon_ca...</td>\n",
       "      <td>95</td>\n",
       "      <td>ml4h_proj1_colon_cancer_ct\\ml4h_proj1_colon_ca...</td>\n",
       "    </tr>\n",
       "  </tbody>\n",
       "</table>\n",
       "<p>3466 rows × 3 columns</p>\n",
       "</div>"
      ],
      "text/plain": [
       "                                                   x_tr_img_path  depth  \\\n",
       "index depth_i                                                             \n",
       "001   0        ml4h_proj1_colon_cancer_ct\\ml4h_proj1_colon_ca...     60   \n",
       "      1        ml4h_proj1_colon_cancer_ct\\ml4h_proj1_colon_ca...     60   \n",
       "      2        ml4h_proj1_colon_cancer_ct\\ml4h_proj1_colon_ca...     60   \n",
       "      3        ml4h_proj1_colon_cancer_ct\\ml4h_proj1_colon_ca...     60   \n",
       "      4        ml4h_proj1_colon_cancer_ct\\ml4h_proj1_colon_ca...     60   \n",
       "...                                                          ...    ...   \n",
       "159   90       ml4h_proj1_colon_cancer_ct\\ml4h_proj1_colon_ca...     95   \n",
       "      91       ml4h_proj1_colon_cancer_ct\\ml4h_proj1_colon_ca...     95   \n",
       "      92       ml4h_proj1_colon_cancer_ct\\ml4h_proj1_colon_ca...     95   \n",
       "      93       ml4h_proj1_colon_cancer_ct\\ml4h_proj1_colon_ca...     95   \n",
       "      94       ml4h_proj1_colon_cancer_ct\\ml4h_proj1_colon_ca...     95   \n",
       "\n",
       "                                                   y_tr_img_path  \n",
       "index depth_i                                                     \n",
       "001   0        ml4h_proj1_colon_cancer_ct\\ml4h_proj1_colon_ca...  \n",
       "      1        ml4h_proj1_colon_cancer_ct\\ml4h_proj1_colon_ca...  \n",
       "      2        ml4h_proj1_colon_cancer_ct\\ml4h_proj1_colon_ca...  \n",
       "      3        ml4h_proj1_colon_cancer_ct\\ml4h_proj1_colon_ca...  \n",
       "      4        ml4h_proj1_colon_cancer_ct\\ml4h_proj1_colon_ca...  \n",
       "...                                                          ...  \n",
       "159   90       ml4h_proj1_colon_cancer_ct\\ml4h_proj1_colon_ca...  \n",
       "      91       ml4h_proj1_colon_cancer_ct\\ml4h_proj1_colon_ca...  \n",
       "      92       ml4h_proj1_colon_cancer_ct\\ml4h_proj1_colon_ca...  \n",
       "      93       ml4h_proj1_colon_cancer_ct\\ml4h_proj1_colon_ca...  \n",
       "      94       ml4h_proj1_colon_cancer_ct\\ml4h_proj1_colon_ca...  \n",
       "\n",
       "[3466 rows x 3 columns]"
      ]
     },
     "execution_count": 12,
     "metadata": {},
     "output_type": "execute_result"
    }
   ],
   "source": [
    "tr_fold_df_dict['fold_0']['holdout']"
   ]
  },
  {
   "cell_type": "markdown",
   "id": "lyric-writing",
   "metadata": {},
   "source": [
    "## Let's create a generator for the trainset"
   ]
  },
  {
   "cell_type": "markdown",
   "id": "social-radio",
   "metadata": {},
   "source": [
    "For the first fold"
   ]
  },
  {
   "cell_type": "code",
   "execution_count": 13,
   "id": "simplified-surface",
   "metadata": {},
   "outputs": [],
   "source": [
    "train_data_generator = DataGenerator2D(df=tr_fold_df_dict['fold_0']['train'], x_col='x_tr_img_path', y_col='y_tr_img_path', batch_size=16, num_classes=None, shuffle=True, \n",
    "                         resize_dim=(256, 256),\n",
    "                         rotate_range=30, horizontal_flip=True, vertical_flip=True)"
   ]
  },
  {
   "cell_type": "code",
   "execution_count": 20,
   "id": "informal-spread",
   "metadata": {},
   "outputs": [],
   "source": [
    "from keras_unet.models import custom_unet\n",
    "from tensorflow.keras.optimizers import Adam, SGD\n",
    "from keras_unet.metrics import iou, iou_thresholded\n",
    "from keras_unet.losses import jaccard_distance"
   ]
  },
  {
   "cell_type": "code",
   "execution_count": 18,
   "id": "satisfied-opening",
   "metadata": {},
   "outputs": [],
   "source": [
    "model = custom_unet(\n",
    "    input_shape=(256, 256, 192),\n",
    "    use_batch_norm=False,\n",
    "    num_classes=1,\n",
    "    filters=64,\n",
    "    dropout=0.2,\n",
    "    output_activation='sigmoid')"
   ]
  },
  {
   "cell_type": "code",
   "execution_count": 22,
   "id": "third-johnston",
   "metadata": {},
   "outputs": [],
   "source": [
    "model.compile(\n",
    "    optimizer=Adam(), \n",
    "    #optimizer=SGD(lr=0.01, momentum=0.99),\n",
    "    loss=focal_loss(gamma=2., alpha=0.9),\n",
    "    #loss=jaccard_distance,\n",
    "    metrics=[iou, iou_thresholded]\n",
    ")"
   ]
  },
  {
   "cell_type": "code",
   "execution_count": 15,
   "id": "needed-yacht",
   "metadata": {},
   "outputs": [
    {
     "name": "stdout",
     "output_type": "stream",
     "text": [
      "Requirement already satisfied: pydot in c:\\users\\juan diego\\documents\\ondemna\\venv\\lib\\site-packages (1.4.1)\n",
      "Requirement already satisfied: pyparsing>=2.1.4 in c:\\users\\juan diego\\documents\\ondemna\\venv\\lib\\site-packages (from pydot) (2.4.7)\n"
     ]
    }
   ],
   "source": [
    "!pip install pydot"
   ]
  },
  {
   "cell_type": "code",
   "execution_count": 16,
   "id": "historic-guide",
   "metadata": {},
   "outputs": [
    {
     "name": "stdout",
     "output_type": "stream",
     "text": [
      "Requirement already satisfied: pydotplus in c:\\users\\juan diego\\documents\\ondemna\\venv\\lib\\site-packages (2.0.2)\n",
      "Requirement already satisfied: pyparsing>=2.0.1 in c:\\users\\juan diego\\documents\\ondemna\\venv\\lib\\site-packages (from pydotplus) (2.4.7)\n"
     ]
    }
   ],
   "source": [
    "!pip install pydotplus"
   ]
  },
  {
   "cell_type": "code",
   "execution_count": 17,
   "id": "bronze-carpet",
   "metadata": {},
   "outputs": [
    {
     "name": "stdout",
     "output_type": "stream",
     "text": [
      "('Failed to import pydot. You must `pip install pydot` and install graphviz (https://graphviz.gitlab.io/download/), ', 'for `pydotprint` to work.')\n"
     ]
    }
   ],
   "source": [
    "import tensorflow as tf\n",
    "tf.keras.utils.plot_model(\n",
    "    model,\n",
    "    to_file=\"model.png\",\n",
    "    show_shapes=False,\n",
    "    show_dtype=False,\n",
    "    show_layer_names=True,\n",
    "    rankdir=\"TB\",\n",
    "    expand_nested=False,\n",
    "    dpi=96,\n",
    ")"
   ]
  },
  {
   "cell_type": "code",
   "execution_count": 18,
   "id": "beneficial-shoulder",
   "metadata": {},
   "outputs": [],
   "source": [
    "from keras.utils.vis_utils import plot_model"
   ]
  },
  {
   "cell_type": "code",
   "execution_count": 19,
   "id": "italic-quality",
   "metadata": {},
   "outputs": [
    {
     "name": "stdout",
     "output_type": "stream",
     "text": [
      "('Failed to import pydot. You must `pip install pydot` and install graphviz (https://graphviz.gitlab.io/download/), ', 'for `pydotprint` to work.')\n"
     ]
    }
   ],
   "source": [
    "plot_model(model, to_file='model_plot.png', show_shapes=True, show_layer_names=True)"
   ]
  },
  {
   "cell_type": "code",
   "execution_count": 34,
   "id": "delayed-notebook",
   "metadata": {},
   "outputs": [
    {
     "name": "stdout",
     "output_type": "stream",
     "text": [
      "Model: \"model_6\"\n",
      "__________________________________________________________________________________________________\n",
      "Layer (type)                    Output Shape         Param #     Connected to                     \n",
      "==================================================================================================\n",
      "input_7 (InputLayer)            [(None, 256, 256, 19 0                                            \n",
      "__________________________________________________________________________________________________\n",
      "conv2d_114 (Conv2D)             (None, 256, 256, 64) 110656      input_7[0][0]                    \n",
      "__________________________________________________________________________________________________\n",
      "spatial_dropout2d_30 (SpatialDr (None, 256, 256, 64) 0           conv2d_114[0][0]                 \n",
      "__________________________________________________________________________________________________\n",
      "conv2d_115 (Conv2D)             (None, 256, 256, 64) 36928       spatial_dropout2d_30[0][0]       \n",
      "__________________________________________________________________________________________________\n",
      "max_pooling2d_24 (MaxPooling2D) (None, 128, 128, 64) 0           conv2d_115[0][0]                 \n",
      "__________________________________________________________________________________________________\n",
      "conv2d_116 (Conv2D)             (None, 128, 128, 128 73856       max_pooling2d_24[0][0]           \n",
      "__________________________________________________________________________________________________\n",
      "spatial_dropout2d_31 (SpatialDr (None, 128, 128, 128 0           conv2d_116[0][0]                 \n",
      "__________________________________________________________________________________________________\n",
      "conv2d_117 (Conv2D)             (None, 128, 128, 128 147584      spatial_dropout2d_31[0][0]       \n",
      "__________________________________________________________________________________________________\n",
      "max_pooling2d_25 (MaxPooling2D) (None, 64, 64, 128)  0           conv2d_117[0][0]                 \n",
      "__________________________________________________________________________________________________\n",
      "conv2d_118 (Conv2D)             (None, 64, 64, 256)  295168      max_pooling2d_25[0][0]           \n",
      "__________________________________________________________________________________________________\n",
      "spatial_dropout2d_32 (SpatialDr (None, 64, 64, 256)  0           conv2d_118[0][0]                 \n",
      "__________________________________________________________________________________________________\n",
      "conv2d_119 (Conv2D)             (None, 64, 64, 256)  590080      spatial_dropout2d_32[0][0]       \n",
      "__________________________________________________________________________________________________\n",
      "max_pooling2d_26 (MaxPooling2D) (None, 32, 32, 256)  0           conv2d_119[0][0]                 \n",
      "__________________________________________________________________________________________________\n",
      "conv2d_120 (Conv2D)             (None, 32, 32, 512)  1180160     max_pooling2d_26[0][0]           \n",
      "__________________________________________________________________________________________________\n",
      "spatial_dropout2d_33 (SpatialDr (None, 32, 32, 512)  0           conv2d_120[0][0]                 \n",
      "__________________________________________________________________________________________________\n",
      "conv2d_121 (Conv2D)             (None, 32, 32, 512)  2359808     spatial_dropout2d_33[0][0]       \n",
      "__________________________________________________________________________________________________\n",
      "max_pooling2d_27 (MaxPooling2D) (None, 16, 16, 512)  0           conv2d_121[0][0]                 \n",
      "__________________________________________________________________________________________________\n",
      "conv2d_122 (Conv2D)             (None, 16, 16, 1024) 4719616     max_pooling2d_27[0][0]           \n",
      "__________________________________________________________________________________________________\n",
      "spatial_dropout2d_34 (SpatialDr (None, 16, 16, 1024) 0           conv2d_122[0][0]                 \n",
      "__________________________________________________________________________________________________\n",
      "conv2d_123 (Conv2D)             (None, 16, 16, 1024) 9438208     spatial_dropout2d_34[0][0]       \n",
      "__________________________________________________________________________________________________\n",
      "conv2d_transpose_24 (Conv2DTran (None, 32, 32, 512)  2097664     conv2d_123[0][0]                 \n",
      "__________________________________________________________________________________________________\n",
      "concatenate_24 (Concatenate)    (None, 32, 32, 1024) 0           conv2d_transpose_24[0][0]        \n",
      "                                                                 conv2d_121[0][0]                 \n",
      "__________________________________________________________________________________________________\n",
      "conv2d_124 (Conv2D)             (None, 32, 32, 512)  4719104     concatenate_24[0][0]             \n",
      "__________________________________________________________________________________________________\n",
      "conv2d_125 (Conv2D)             (None, 32, 32, 512)  2359808     conv2d_124[0][0]                 \n",
      "__________________________________________________________________________________________________\n",
      "conv2d_transpose_25 (Conv2DTran (None, 64, 64, 256)  524544      conv2d_125[0][0]                 \n",
      "__________________________________________________________________________________________________\n",
      "concatenate_25 (Concatenate)    (None, 64, 64, 512)  0           conv2d_transpose_25[0][0]        \n",
      "                                                                 conv2d_119[0][0]                 \n",
      "__________________________________________________________________________________________________\n",
      "conv2d_126 (Conv2D)             (None, 64, 64, 256)  1179904     concatenate_25[0][0]             \n",
      "__________________________________________________________________________________________________\n",
      "conv2d_127 (Conv2D)             (None, 64, 64, 256)  590080      conv2d_126[0][0]                 \n",
      "__________________________________________________________________________________________________\n",
      "conv2d_transpose_26 (Conv2DTran (None, 128, 128, 128 131200      conv2d_127[0][0]                 \n",
      "__________________________________________________________________________________________________\n",
      "concatenate_26 (Concatenate)    (None, 128, 128, 256 0           conv2d_transpose_26[0][0]        \n",
      "                                                                 conv2d_117[0][0]                 \n",
      "__________________________________________________________________________________________________\n",
      "conv2d_128 (Conv2D)             (None, 128, 128, 128 295040      concatenate_26[0][0]             \n",
      "__________________________________________________________________________________________________\n",
      "conv2d_129 (Conv2D)             (None, 128, 128, 128 147584      conv2d_128[0][0]                 \n",
      "__________________________________________________________________________________________________\n",
      "conv2d_transpose_27 (Conv2DTran (None, 256, 256, 64) 32832       conv2d_129[0][0]                 \n",
      "__________________________________________________________________________________________________\n",
      "concatenate_27 (Concatenate)    (None, 256, 256, 128 0           conv2d_transpose_27[0][0]        \n",
      "                                                                 conv2d_115[0][0]                 \n",
      "__________________________________________________________________________________________________\n",
      "conv2d_130 (Conv2D)             (None, 256, 256, 64) 73792       concatenate_27[0][0]             \n",
      "__________________________________________________________________________________________________\n",
      "conv2d_131 (Conv2D)             (None, 256, 256, 64) 36928       conv2d_130[0][0]                 \n",
      "__________________________________________________________________________________________________\n",
      "conv2d_132 (Conv2D)             (None, 256, 256, 1)  65          conv2d_131[0][0]                 \n",
      "==================================================================================================\n",
      "Total params: 31,140,609\n",
      "Trainable params: 31,140,609\n",
      "Non-trainable params: 0\n",
      "__________________________________________________________________________________________________\n"
     ]
    }
   ],
   "source": [
    "model.summary()"
   ]
  },
  {
   "cell_type": "code",
   "execution_count": 23,
   "id": "common-coating",
   "metadata": {},
   "outputs": [
    {
     "name": "stdout",
     "output_type": "stream",
     "text": [
      "WARNING:tensorflow:Model was constructed with shape (None, 256, 256, 192) for input KerasTensor(type_spec=TensorSpec(shape=(None, 256, 256, 192), dtype=tf.float32, name='input_2'), name='input_2', description=\"created by layer 'input_2'\"), but it was called on an input with incompatible shape (None, None, None).\n"
     ]
    },
    {
     "ename": "ValueError",
     "evalue": "in user code:\n\n    c:\\users\\juan diego\\documents\\ondemna\\venv\\lib\\site-packages\\tensorflow\\python\\keras\\engine\\training.py:805 train_function  *\n        return step_function(self, iterator)\n    c:\\users\\juan diego\\documents\\ondemna\\venv\\lib\\site-packages\\tensorflow\\python\\keras\\engine\\training.py:795 step_function  **\n        outputs = model.distribute_strategy.run(run_step, args=(data,))\n    c:\\users\\juan diego\\documents\\ondemna\\venv\\lib\\site-packages\\tensorflow\\python\\distribute\\distribute_lib.py:1259 run\n        return self._extended.call_for_each_replica(fn, args=args, kwargs=kwargs)\n    c:\\users\\juan diego\\documents\\ondemna\\venv\\lib\\site-packages\\tensorflow\\python\\distribute\\distribute_lib.py:2730 call_for_each_replica\n        return self._call_for_each_replica(fn, args, kwargs)\n    c:\\users\\juan diego\\documents\\ondemna\\venv\\lib\\site-packages\\tensorflow\\python\\distribute\\distribute_lib.py:3417 _call_for_each_replica\n        return fn(*args, **kwargs)\n    c:\\users\\juan diego\\documents\\ondemna\\venv\\lib\\site-packages\\tensorflow\\python\\keras\\engine\\training.py:788 run_step  **\n        outputs = model.train_step(data)\n    c:\\users\\juan diego\\documents\\ondemna\\venv\\lib\\site-packages\\tensorflow\\python\\keras\\engine\\training.py:754 train_step\n        y_pred = self(x, training=True)\n    c:\\users\\juan diego\\documents\\ondemna\\venv\\lib\\site-packages\\tensorflow\\python\\keras\\engine\\base_layer.py:1012 __call__\n        outputs = call_fn(inputs, *args, **kwargs)\n    c:\\users\\juan diego\\documents\\ondemna\\venv\\lib\\site-packages\\tensorflow\\python\\keras\\engine\\functional.py:425 call\n        inputs, training=training, mask=mask)\n    c:\\users\\juan diego\\documents\\ondemna\\venv\\lib\\site-packages\\tensorflow\\python\\keras\\engine\\functional.py:560 _run_internal_graph\n        outputs = node.layer(*args, **kwargs)\n    c:\\users\\juan diego\\documents\\ondemna\\venv\\lib\\site-packages\\tensorflow\\python\\keras\\engine\\base_layer.py:998 __call__\n        input_spec.assert_input_compatibility(self.input_spec, inputs, self.name)\n    c:\\users\\juan diego\\documents\\ondemna\\venv\\lib\\site-packages\\tensorflow\\python\\keras\\engine\\input_spec.py:239 assert_input_compatibility\n        str(tuple(shape)))\n\n    ValueError: Input 0 of layer conv2d_19 is incompatible with the layer: : expected min_ndim=4, found ndim=3. Full shape received: (None, None, None)\n",
     "output_type": "error",
     "traceback": [
      "\u001b[1;31m---------------------------------------------------------------------------\u001b[0m",
      "\u001b[1;31mValueError\u001b[0m                                Traceback (most recent call last)",
      "\u001b[1;32m<ipython-input-23-02757abd2189>\u001b[0m in \u001b[0;36m<module>\u001b[1;34m\u001b[0m\n\u001b[1;32m----> 1\u001b[1;33m \u001b[0mmodel\u001b[0m\u001b[1;33m.\u001b[0m\u001b[0mfit\u001b[0m\u001b[1;33m(\u001b[0m\u001b[0mtrain_data_generator\u001b[0m\u001b[1;33m,\u001b[0m \u001b[0mepochs\u001b[0m\u001b[1;33m=\u001b[0m\u001b[1;36m1\u001b[0m\u001b[1;33m)\u001b[0m\u001b[1;33m\u001b[0m\u001b[1;33m\u001b[0m\u001b[0m\n\u001b[0m",
      "\u001b[1;32mc:\\users\\juan diego\\documents\\ondemna\\venv\\lib\\site-packages\\tensorflow\\python\\keras\\engine\\training.py\u001b[0m in \u001b[0;36mfit\u001b[1;34m(self, x, y, batch_size, epochs, verbose, callbacks, validation_split, validation_data, shuffle, class_weight, sample_weight, initial_epoch, steps_per_epoch, validation_steps, validation_batch_size, validation_freq, max_queue_size, workers, use_multiprocessing)\u001b[0m\n\u001b[0;32m   1098\u001b[0m                 _r=1):\n\u001b[0;32m   1099\u001b[0m               \u001b[0mcallbacks\u001b[0m\u001b[1;33m.\u001b[0m\u001b[0mon_train_batch_begin\u001b[0m\u001b[1;33m(\u001b[0m\u001b[0mstep\u001b[0m\u001b[1;33m)\u001b[0m\u001b[1;33m\u001b[0m\u001b[1;33m\u001b[0m\u001b[0m\n\u001b[1;32m-> 1100\u001b[1;33m               \u001b[0mtmp_logs\u001b[0m \u001b[1;33m=\u001b[0m \u001b[0mself\u001b[0m\u001b[1;33m.\u001b[0m\u001b[0mtrain_function\u001b[0m\u001b[1;33m(\u001b[0m\u001b[0miterator\u001b[0m\u001b[1;33m)\u001b[0m\u001b[1;33m\u001b[0m\u001b[1;33m\u001b[0m\u001b[0m\n\u001b[0m\u001b[0;32m   1101\u001b[0m               \u001b[1;32mif\u001b[0m \u001b[0mdata_handler\u001b[0m\u001b[1;33m.\u001b[0m\u001b[0mshould_sync\u001b[0m\u001b[1;33m:\u001b[0m\u001b[1;33m\u001b[0m\u001b[1;33m\u001b[0m\u001b[0m\n\u001b[0;32m   1102\u001b[0m                 \u001b[0mcontext\u001b[0m\u001b[1;33m.\u001b[0m\u001b[0masync_wait\u001b[0m\u001b[1;33m(\u001b[0m\u001b[1;33m)\u001b[0m\u001b[1;33m\u001b[0m\u001b[1;33m\u001b[0m\u001b[0m\n",
      "\u001b[1;32mc:\\users\\juan diego\\documents\\ondemna\\venv\\lib\\site-packages\\tensorflow\\python\\eager\\def_function.py\u001b[0m in \u001b[0;36m__call__\u001b[1;34m(self, *args, **kwds)\u001b[0m\n\u001b[0;32m    826\u001b[0m     \u001b[0mtracing_count\u001b[0m \u001b[1;33m=\u001b[0m \u001b[0mself\u001b[0m\u001b[1;33m.\u001b[0m\u001b[0mexperimental_get_tracing_count\u001b[0m\u001b[1;33m(\u001b[0m\u001b[1;33m)\u001b[0m\u001b[1;33m\u001b[0m\u001b[1;33m\u001b[0m\u001b[0m\n\u001b[0;32m    827\u001b[0m     \u001b[1;32mwith\u001b[0m \u001b[0mtrace\u001b[0m\u001b[1;33m.\u001b[0m\u001b[0mTrace\u001b[0m\u001b[1;33m(\u001b[0m\u001b[0mself\u001b[0m\u001b[1;33m.\u001b[0m\u001b[0m_name\u001b[0m\u001b[1;33m)\u001b[0m \u001b[1;32mas\u001b[0m \u001b[0mtm\u001b[0m\u001b[1;33m:\u001b[0m\u001b[1;33m\u001b[0m\u001b[1;33m\u001b[0m\u001b[0m\n\u001b[1;32m--> 828\u001b[1;33m       \u001b[0mresult\u001b[0m \u001b[1;33m=\u001b[0m \u001b[0mself\u001b[0m\u001b[1;33m.\u001b[0m\u001b[0m_call\u001b[0m\u001b[1;33m(\u001b[0m\u001b[1;33m*\u001b[0m\u001b[0margs\u001b[0m\u001b[1;33m,\u001b[0m \u001b[1;33m**\u001b[0m\u001b[0mkwds\u001b[0m\u001b[1;33m)\u001b[0m\u001b[1;33m\u001b[0m\u001b[1;33m\u001b[0m\u001b[0m\n\u001b[0m\u001b[0;32m    829\u001b[0m       \u001b[0mcompiler\u001b[0m \u001b[1;33m=\u001b[0m \u001b[1;34m\"xla\"\u001b[0m \u001b[1;32mif\u001b[0m \u001b[0mself\u001b[0m\u001b[1;33m.\u001b[0m\u001b[0m_experimental_compile\u001b[0m \u001b[1;32melse\u001b[0m \u001b[1;34m\"nonXla\"\u001b[0m\u001b[1;33m\u001b[0m\u001b[1;33m\u001b[0m\u001b[0m\n\u001b[0;32m    830\u001b[0m       \u001b[0mnew_tracing_count\u001b[0m \u001b[1;33m=\u001b[0m \u001b[0mself\u001b[0m\u001b[1;33m.\u001b[0m\u001b[0mexperimental_get_tracing_count\u001b[0m\u001b[1;33m(\u001b[0m\u001b[1;33m)\u001b[0m\u001b[1;33m\u001b[0m\u001b[1;33m\u001b[0m\u001b[0m\n",
      "\u001b[1;32mc:\\users\\juan diego\\documents\\ondemna\\venv\\lib\\site-packages\\tensorflow\\python\\eager\\def_function.py\u001b[0m in \u001b[0;36m_call\u001b[1;34m(self, *args, **kwds)\u001b[0m\n\u001b[0;32m    869\u001b[0m       \u001b[1;31m# This is the first call of __call__, so we have to initialize.\u001b[0m\u001b[1;33m\u001b[0m\u001b[1;33m\u001b[0m\u001b[1;33m\u001b[0m\u001b[0m\n\u001b[0;32m    870\u001b[0m       \u001b[0minitializers\u001b[0m \u001b[1;33m=\u001b[0m \u001b[1;33m[\u001b[0m\u001b[1;33m]\u001b[0m\u001b[1;33m\u001b[0m\u001b[1;33m\u001b[0m\u001b[0m\n\u001b[1;32m--> 871\u001b[1;33m       \u001b[0mself\u001b[0m\u001b[1;33m.\u001b[0m\u001b[0m_initialize\u001b[0m\u001b[1;33m(\u001b[0m\u001b[0margs\u001b[0m\u001b[1;33m,\u001b[0m \u001b[0mkwds\u001b[0m\u001b[1;33m,\u001b[0m \u001b[0madd_initializers_to\u001b[0m\u001b[1;33m=\u001b[0m\u001b[0minitializers\u001b[0m\u001b[1;33m)\u001b[0m\u001b[1;33m\u001b[0m\u001b[1;33m\u001b[0m\u001b[0m\n\u001b[0m\u001b[0;32m    872\u001b[0m     \u001b[1;32mfinally\u001b[0m\u001b[1;33m:\u001b[0m\u001b[1;33m\u001b[0m\u001b[1;33m\u001b[0m\u001b[0m\n\u001b[0;32m    873\u001b[0m       \u001b[1;31m# At this point we know that the initialization is complete (or less\u001b[0m\u001b[1;33m\u001b[0m\u001b[1;33m\u001b[0m\u001b[1;33m\u001b[0m\u001b[0m\n",
      "\u001b[1;32mc:\\users\\juan diego\\documents\\ondemna\\venv\\lib\\site-packages\\tensorflow\\python\\eager\\def_function.py\u001b[0m in \u001b[0;36m_initialize\u001b[1;34m(self, args, kwds, add_initializers_to)\u001b[0m\n\u001b[0;32m    724\u001b[0m     self._concrete_stateful_fn = (\n\u001b[0;32m    725\u001b[0m         self._stateful_fn._get_concrete_function_internal_garbage_collected(  # pylint: disable=protected-access\n\u001b[1;32m--> 726\u001b[1;33m             *args, **kwds))\n\u001b[0m\u001b[0;32m    727\u001b[0m \u001b[1;33m\u001b[0m\u001b[0m\n\u001b[0;32m    728\u001b[0m     \u001b[1;32mdef\u001b[0m \u001b[0minvalid_creator_scope\u001b[0m\u001b[1;33m(\u001b[0m\u001b[1;33m*\u001b[0m\u001b[0munused_args\u001b[0m\u001b[1;33m,\u001b[0m \u001b[1;33m**\u001b[0m\u001b[0munused_kwds\u001b[0m\u001b[1;33m)\u001b[0m\u001b[1;33m:\u001b[0m\u001b[1;33m\u001b[0m\u001b[1;33m\u001b[0m\u001b[0m\n",
      "\u001b[1;32mc:\\users\\juan diego\\documents\\ondemna\\venv\\lib\\site-packages\\tensorflow\\python\\eager\\function.py\u001b[0m in \u001b[0;36m_get_concrete_function_internal_garbage_collected\u001b[1;34m(self, *args, **kwargs)\u001b[0m\n\u001b[0;32m   2967\u001b[0m       \u001b[0margs\u001b[0m\u001b[1;33m,\u001b[0m \u001b[0mkwargs\u001b[0m \u001b[1;33m=\u001b[0m \u001b[1;32mNone\u001b[0m\u001b[1;33m,\u001b[0m \u001b[1;32mNone\u001b[0m\u001b[1;33m\u001b[0m\u001b[1;33m\u001b[0m\u001b[0m\n\u001b[0;32m   2968\u001b[0m     \u001b[1;32mwith\u001b[0m \u001b[0mself\u001b[0m\u001b[1;33m.\u001b[0m\u001b[0m_lock\u001b[0m\u001b[1;33m:\u001b[0m\u001b[1;33m\u001b[0m\u001b[1;33m\u001b[0m\u001b[0m\n\u001b[1;32m-> 2969\u001b[1;33m       \u001b[0mgraph_function\u001b[0m\u001b[1;33m,\u001b[0m \u001b[0m_\u001b[0m \u001b[1;33m=\u001b[0m \u001b[0mself\u001b[0m\u001b[1;33m.\u001b[0m\u001b[0m_maybe_define_function\u001b[0m\u001b[1;33m(\u001b[0m\u001b[0margs\u001b[0m\u001b[1;33m,\u001b[0m \u001b[0mkwargs\u001b[0m\u001b[1;33m)\u001b[0m\u001b[1;33m\u001b[0m\u001b[1;33m\u001b[0m\u001b[0m\n\u001b[0m\u001b[0;32m   2970\u001b[0m     \u001b[1;32mreturn\u001b[0m \u001b[0mgraph_function\u001b[0m\u001b[1;33m\u001b[0m\u001b[1;33m\u001b[0m\u001b[0m\n\u001b[0;32m   2971\u001b[0m \u001b[1;33m\u001b[0m\u001b[0m\n",
      "\u001b[1;32mc:\\users\\juan diego\\documents\\ondemna\\venv\\lib\\site-packages\\tensorflow\\python\\eager\\function.py\u001b[0m in \u001b[0;36m_maybe_define_function\u001b[1;34m(self, args, kwargs)\u001b[0m\n\u001b[0;32m   3359\u001b[0m \u001b[1;33m\u001b[0m\u001b[0m\n\u001b[0;32m   3360\u001b[0m           \u001b[0mself\u001b[0m\u001b[1;33m.\u001b[0m\u001b[0m_function_cache\u001b[0m\u001b[1;33m.\u001b[0m\u001b[0mmissed\u001b[0m\u001b[1;33m.\u001b[0m\u001b[0madd\u001b[0m\u001b[1;33m(\u001b[0m\u001b[0mcall_context_key\u001b[0m\u001b[1;33m)\u001b[0m\u001b[1;33m\u001b[0m\u001b[1;33m\u001b[0m\u001b[0m\n\u001b[1;32m-> 3361\u001b[1;33m           \u001b[0mgraph_function\u001b[0m \u001b[1;33m=\u001b[0m \u001b[0mself\u001b[0m\u001b[1;33m.\u001b[0m\u001b[0m_create_graph_function\u001b[0m\u001b[1;33m(\u001b[0m\u001b[0margs\u001b[0m\u001b[1;33m,\u001b[0m \u001b[0mkwargs\u001b[0m\u001b[1;33m)\u001b[0m\u001b[1;33m\u001b[0m\u001b[1;33m\u001b[0m\u001b[0m\n\u001b[0m\u001b[0;32m   3362\u001b[0m           \u001b[0mself\u001b[0m\u001b[1;33m.\u001b[0m\u001b[0m_function_cache\u001b[0m\u001b[1;33m.\u001b[0m\u001b[0mprimary\u001b[0m\u001b[1;33m[\u001b[0m\u001b[0mcache_key\u001b[0m\u001b[1;33m]\u001b[0m \u001b[1;33m=\u001b[0m \u001b[0mgraph_function\u001b[0m\u001b[1;33m\u001b[0m\u001b[1;33m\u001b[0m\u001b[0m\n\u001b[0;32m   3363\u001b[0m \u001b[1;33m\u001b[0m\u001b[0m\n",
      "\u001b[1;32mc:\\users\\juan diego\\documents\\ondemna\\venv\\lib\\site-packages\\tensorflow\\python\\eager\\function.py\u001b[0m in \u001b[0;36m_create_graph_function\u001b[1;34m(self, args, kwargs, override_flat_arg_shapes)\u001b[0m\n\u001b[0;32m   3204\u001b[0m             \u001b[0marg_names\u001b[0m\u001b[1;33m=\u001b[0m\u001b[0marg_names\u001b[0m\u001b[1;33m,\u001b[0m\u001b[1;33m\u001b[0m\u001b[1;33m\u001b[0m\u001b[0m\n\u001b[0;32m   3205\u001b[0m             \u001b[0moverride_flat_arg_shapes\u001b[0m\u001b[1;33m=\u001b[0m\u001b[0moverride_flat_arg_shapes\u001b[0m\u001b[1;33m,\u001b[0m\u001b[1;33m\u001b[0m\u001b[1;33m\u001b[0m\u001b[0m\n\u001b[1;32m-> 3206\u001b[1;33m             capture_by_value=self._capture_by_value),\n\u001b[0m\u001b[0;32m   3207\u001b[0m         \u001b[0mself\u001b[0m\u001b[1;33m.\u001b[0m\u001b[0m_function_attributes\u001b[0m\u001b[1;33m,\u001b[0m\u001b[1;33m\u001b[0m\u001b[1;33m\u001b[0m\u001b[0m\n\u001b[0;32m   3208\u001b[0m         \u001b[0mfunction_spec\u001b[0m\u001b[1;33m=\u001b[0m\u001b[0mself\u001b[0m\u001b[1;33m.\u001b[0m\u001b[0mfunction_spec\u001b[0m\u001b[1;33m,\u001b[0m\u001b[1;33m\u001b[0m\u001b[1;33m\u001b[0m\u001b[0m\n",
      "\u001b[1;32mc:\\users\\juan diego\\documents\\ondemna\\venv\\lib\\site-packages\\tensorflow\\python\\framework\\func_graph.py\u001b[0m in \u001b[0;36mfunc_graph_from_py_func\u001b[1;34m(name, python_func, args, kwargs, signature, func_graph, autograph, autograph_options, add_control_dependencies, arg_names, op_return_value, collections, capture_by_value, override_flat_arg_shapes)\u001b[0m\n\u001b[0;32m    988\u001b[0m         \u001b[0m_\u001b[0m\u001b[1;33m,\u001b[0m \u001b[0moriginal_func\u001b[0m \u001b[1;33m=\u001b[0m \u001b[0mtf_decorator\u001b[0m\u001b[1;33m.\u001b[0m\u001b[0munwrap\u001b[0m\u001b[1;33m(\u001b[0m\u001b[0mpython_func\u001b[0m\u001b[1;33m)\u001b[0m\u001b[1;33m\u001b[0m\u001b[1;33m\u001b[0m\u001b[0m\n\u001b[0;32m    989\u001b[0m \u001b[1;33m\u001b[0m\u001b[0m\n\u001b[1;32m--> 990\u001b[1;33m       \u001b[0mfunc_outputs\u001b[0m \u001b[1;33m=\u001b[0m \u001b[0mpython_func\u001b[0m\u001b[1;33m(\u001b[0m\u001b[1;33m*\u001b[0m\u001b[0mfunc_args\u001b[0m\u001b[1;33m,\u001b[0m \u001b[1;33m**\u001b[0m\u001b[0mfunc_kwargs\u001b[0m\u001b[1;33m)\u001b[0m\u001b[1;33m\u001b[0m\u001b[1;33m\u001b[0m\u001b[0m\n\u001b[0m\u001b[0;32m    991\u001b[0m \u001b[1;33m\u001b[0m\u001b[0m\n\u001b[0;32m    992\u001b[0m       \u001b[1;31m# invariant: `func_outputs` contains only Tensors, CompositeTensors,\u001b[0m\u001b[1;33m\u001b[0m\u001b[1;33m\u001b[0m\u001b[1;33m\u001b[0m\u001b[0m\n",
      "\u001b[1;32mc:\\users\\juan diego\\documents\\ondemna\\venv\\lib\\site-packages\\tensorflow\\python\\eager\\def_function.py\u001b[0m in \u001b[0;36mwrapped_fn\u001b[1;34m(*args, **kwds)\u001b[0m\n\u001b[0;32m    632\u001b[0m             \u001b[0mxla_context\u001b[0m\u001b[1;33m.\u001b[0m\u001b[0mExit\u001b[0m\u001b[1;33m(\u001b[0m\u001b[1;33m)\u001b[0m\u001b[1;33m\u001b[0m\u001b[1;33m\u001b[0m\u001b[0m\n\u001b[0;32m    633\u001b[0m         \u001b[1;32melse\u001b[0m\u001b[1;33m:\u001b[0m\u001b[1;33m\u001b[0m\u001b[1;33m\u001b[0m\u001b[0m\n\u001b[1;32m--> 634\u001b[1;33m           \u001b[0mout\u001b[0m \u001b[1;33m=\u001b[0m \u001b[0mweak_wrapped_fn\u001b[0m\u001b[1;33m(\u001b[0m\u001b[1;33m)\u001b[0m\u001b[1;33m.\u001b[0m\u001b[0m__wrapped__\u001b[0m\u001b[1;33m(\u001b[0m\u001b[1;33m*\u001b[0m\u001b[0margs\u001b[0m\u001b[1;33m,\u001b[0m \u001b[1;33m**\u001b[0m\u001b[0mkwds\u001b[0m\u001b[1;33m)\u001b[0m\u001b[1;33m\u001b[0m\u001b[1;33m\u001b[0m\u001b[0m\n\u001b[0m\u001b[0;32m    635\u001b[0m         \u001b[1;32mreturn\u001b[0m \u001b[0mout\u001b[0m\u001b[1;33m\u001b[0m\u001b[1;33m\u001b[0m\u001b[0m\n\u001b[0;32m    636\u001b[0m \u001b[1;33m\u001b[0m\u001b[0m\n",
      "\u001b[1;32mc:\\users\\juan diego\\documents\\ondemna\\venv\\lib\\site-packages\\tensorflow\\python\\framework\\func_graph.py\u001b[0m in \u001b[0;36mwrapper\u001b[1;34m(*args, **kwargs)\u001b[0m\n\u001b[0;32m    975\u001b[0m           \u001b[1;32mexcept\u001b[0m \u001b[0mException\u001b[0m \u001b[1;32mas\u001b[0m \u001b[0me\u001b[0m\u001b[1;33m:\u001b[0m  \u001b[1;31m# pylint:disable=broad-except\u001b[0m\u001b[1;33m\u001b[0m\u001b[1;33m\u001b[0m\u001b[0m\n\u001b[0;32m    976\u001b[0m             \u001b[1;32mif\u001b[0m \u001b[0mhasattr\u001b[0m\u001b[1;33m(\u001b[0m\u001b[0me\u001b[0m\u001b[1;33m,\u001b[0m \u001b[1;34m\"ag_error_metadata\"\u001b[0m\u001b[1;33m)\u001b[0m\u001b[1;33m:\u001b[0m\u001b[1;33m\u001b[0m\u001b[1;33m\u001b[0m\u001b[0m\n\u001b[1;32m--> 977\u001b[1;33m               \u001b[1;32mraise\u001b[0m \u001b[0me\u001b[0m\u001b[1;33m.\u001b[0m\u001b[0mag_error_metadata\u001b[0m\u001b[1;33m.\u001b[0m\u001b[0mto_exception\u001b[0m\u001b[1;33m(\u001b[0m\u001b[0me\u001b[0m\u001b[1;33m)\u001b[0m\u001b[1;33m\u001b[0m\u001b[1;33m\u001b[0m\u001b[0m\n\u001b[0m\u001b[0;32m    978\u001b[0m             \u001b[1;32melse\u001b[0m\u001b[1;33m:\u001b[0m\u001b[1;33m\u001b[0m\u001b[1;33m\u001b[0m\u001b[0m\n\u001b[0;32m    979\u001b[0m               \u001b[1;32mraise\u001b[0m\u001b[1;33m\u001b[0m\u001b[1;33m\u001b[0m\u001b[0m\n",
      "\u001b[1;31mValueError\u001b[0m: in user code:\n\n    c:\\users\\juan diego\\documents\\ondemna\\venv\\lib\\site-packages\\tensorflow\\python\\keras\\engine\\training.py:805 train_function  *\n        return step_function(self, iterator)\n    c:\\users\\juan diego\\documents\\ondemna\\venv\\lib\\site-packages\\tensorflow\\python\\keras\\engine\\training.py:795 step_function  **\n        outputs = model.distribute_strategy.run(run_step, args=(data,))\n    c:\\users\\juan diego\\documents\\ondemna\\venv\\lib\\site-packages\\tensorflow\\python\\distribute\\distribute_lib.py:1259 run\n        return self._extended.call_for_each_replica(fn, args=args, kwargs=kwargs)\n    c:\\users\\juan diego\\documents\\ondemna\\venv\\lib\\site-packages\\tensorflow\\python\\distribute\\distribute_lib.py:2730 call_for_each_replica\n        return self._call_for_each_replica(fn, args, kwargs)\n    c:\\users\\juan diego\\documents\\ondemna\\venv\\lib\\site-packages\\tensorflow\\python\\distribute\\distribute_lib.py:3417 _call_for_each_replica\n        return fn(*args, **kwargs)\n    c:\\users\\juan diego\\documents\\ondemna\\venv\\lib\\site-packages\\tensorflow\\python\\keras\\engine\\training.py:788 run_step  **\n        outputs = model.train_step(data)\n    c:\\users\\juan diego\\documents\\ondemna\\venv\\lib\\site-packages\\tensorflow\\python\\keras\\engine\\training.py:754 train_step\n        y_pred = self(x, training=True)\n    c:\\users\\juan diego\\documents\\ondemna\\venv\\lib\\site-packages\\tensorflow\\python\\keras\\engine\\base_layer.py:1012 __call__\n        outputs = call_fn(inputs, *args, **kwargs)\n    c:\\users\\juan diego\\documents\\ondemna\\venv\\lib\\site-packages\\tensorflow\\python\\keras\\engine\\functional.py:425 call\n        inputs, training=training, mask=mask)\n    c:\\users\\juan diego\\documents\\ondemna\\venv\\lib\\site-packages\\tensorflow\\python\\keras\\engine\\functional.py:560 _run_internal_graph\n        outputs = node.layer(*args, **kwargs)\n    c:\\users\\juan diego\\documents\\ondemna\\venv\\lib\\site-packages\\tensorflow\\python\\keras\\engine\\base_layer.py:998 __call__\n        input_spec.assert_input_compatibility(self.input_spec, inputs, self.name)\n    c:\\users\\juan diego\\documents\\ondemna\\venv\\lib\\site-packages\\tensorflow\\python\\keras\\engine\\input_spec.py:239 assert_input_compatibility\n        str(tuple(shape)))\n\n    ValueError: Input 0 of layer conv2d_19 is incompatible with the layer: : expected min_ndim=4, found ndim=3. Full shape received: (None, None, None)\n"
     ]
    }
   ],
   "source": [
    "model.fit(train_data_generator, epochs=1)"
   ]
  },
  {
   "cell_type": "code",
   "execution_count": 52,
   "id": "imposed-hygiene",
   "metadata": {},
   "outputs": [],
   "source": [
    "holdout_df = tr_fold_df_dict['fold_0']['train']\n",
    "holdout_data_generator = DataGenerator2D(df=holdout_df, x_col='x_tr_img_path', y_col='y_tr_img_path', batch_size=16, num_classes=None, shuffle=False,\n",
    "                                         resize_dim=(256, 256),\n",
    "                                         rotate_range=None, horizontal_flip=False, vertical_flip=False)"
   ]
  },
  {
   "cell_type": "code",
   "execution_count": 54,
   "id": "forced-raise",
   "metadata": {},
   "outputs": [
    {
     "data": {
      "text/plain": [
       "x_tr_img_path    ml4h_proj1_colon_cancer_ct\\ml4h_proj1_colon_ca...\n",
       "depth                                                           98\n",
       "y_tr_img_path    ml4h_proj1_colon_cancer_ct\\ml4h_proj1_colon_ca...\n",
       "Name: (005, 0), dtype: object"
      ]
     },
     "execution_count": 54,
     "metadata": {},
     "output_type": "execute_result"
    }
   ],
   "source": [
    "holdout_df.iloc[0,:]"
   ]
  }
 ],
 "metadata": {
  "kernelspec": {
   "display_name": "Python 3",
   "language": "python",
   "name": "python3"
  },
  "language_info": {
   "codemirror_mode": {
    "name": "ipython",
    "version": 3
   },
   "file_extension": ".py",
   "mimetype": "text/x-python",
   "name": "python",
   "nbconvert_exporter": "python",
   "pygments_lexer": "ipython3",
   "version": "3.7.9"
  }
 },
 "nbformat": 4,
 "nbformat_minor": 5
}
