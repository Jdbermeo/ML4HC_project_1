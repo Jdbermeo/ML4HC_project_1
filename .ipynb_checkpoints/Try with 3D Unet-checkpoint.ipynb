{
 "cells": [
  {
   "cell_type": "markdown",
   "id": "contrary-helena",
   "metadata": {},
   "source": [
    "# Try with 3D Unet"
   ]
  },
  {
   "cell_type": "code",
   "execution_count": 5,
   "id": "traditional-relative",
   "metadata": {},
   "outputs": [],
   "source": [
    "import os\n",
    "import matplotlib.pyplot as plt\n",
    "\n",
    "import tensorflow as tf\n",
    "from tensorflow import keras\n",
    "\n",
    "IMAGE_HEIGHT = 256\n",
    "IMAGE_WIDTH = 256\n",
    "IMG_SIZE = (IMAGE_HEIGHT, IMAGE_WIDTH)\n",
    "\n",
    "def unet(n_levels, initial_features=32, n_blocks=2, kernel_size=3, pooling_size=2, strides=(1, 1, 2),\n",
    "         image_height=256, image_width=256, image_depth=None, in_channels=1, out_channels=1):\n",
    "    \n",
    "    inputs = keras.layers.Input(shape=(image_height, image_width, image_depth,in_channels))\n",
    "    x = inputs\n",
    "    \n",
    "    convpars = dict(kernel_size=kernel_size, activation='relu', padding='same')\n",
    "    \n",
    "    #downstream\n",
    "    skips = {}\n",
    "    for level in range(n_levels):\n",
    "        for _ in range(n_blocks):\n",
    "            x = keras.layers.Conv3D(initial_features * 2 ** level, **convpars)(x)\n",
    "        if level < n_levels - 1:\n",
    "            skips[level] = x\n",
    "            x = keras.layers.MaxPool3D(pooling_size)(x)\n",
    "            \n",
    "    # upstream\n",
    "    for level in reversed(range(n_levels-1)):\n",
    "        x = keras.layers.Conv3DTranspose(initial_features * 2 ** level, strides=pooling_size, **convpars)(x)\n",
    "        x = keras.layers.Concatenate()([x, skips[level]])\n",
    "        for _ in range(n_blocks):\n",
    "            x = keras.layers.Conv3D(initial_features * 2 ** level, **convpars)(x)\n",
    "            \n",
    "    # output\n",
    "    activation = 'sigmoid' if out_channels == 1 else 'softmax'\n",
    "    x = keras.layers.Conv3D(out_channels, kernel_size=1, activation=activation, padding='same')(x)\n",
    "    \n",
    "    return keras.Model(inputs=[inputs], outputs=[x], name=f'UNET-L{n_levels}-F{initial_features}')"
   ]
  },
  {
   "cell_type": "code",
   "execution_count": 10,
   "id": "successful-ordering",
   "metadata": {},
   "outputs": [],
   "source": [
    "model_3D = unet(n_levels=4, initial_features=64, n_blocks=2, kernel_size=3, pooling_size=2, \n",
    "                image_height=128, image_width=128, image_depth=None, in_channels=1, out_channels=1)"
   ]
  },
  {
   "cell_type": "code",
   "execution_count": 11,
   "id": "binary-disclaimer",
   "metadata": {},
   "outputs": [
    {
     "name": "stdout",
     "output_type": "stream",
     "text": [
      "Model: \"UNET-L4-F64\"\n",
      "__________________________________________________________________________________________________\n",
      "Layer (type)                    Output Shape         Param #     Connected to                     \n",
      "==================================================================================================\n",
      "input_3 (InputLayer)            [(None, 128, 128, No 0                                            \n",
      "__________________________________________________________________________________________________\n",
      "conv3d_30 (Conv3D)              (None, 128, 128, Non 1792        input_3[0][0]                    \n",
      "__________________________________________________________________________________________________\n",
      "conv3d_31 (Conv3D)              (None, 128, 128, Non 110656      conv3d_30[0][0]                  \n",
      "__________________________________________________________________________________________________\n",
      "max_pooling3d_6 (MaxPooling3D)  (None, 64, 64, None, 0           conv3d_31[0][0]                  \n",
      "__________________________________________________________________________________________________\n",
      "conv3d_32 (Conv3D)              (None, 64, 64, None, 221312      max_pooling3d_6[0][0]            \n",
      "__________________________________________________________________________________________________\n",
      "conv3d_33 (Conv3D)              (None, 64, 64, None, 442496      conv3d_32[0][0]                  \n",
      "__________________________________________________________________________________________________\n",
      "max_pooling3d_7 (MaxPooling3D)  (None, 32, 32, None, 0           conv3d_33[0][0]                  \n",
      "__________________________________________________________________________________________________\n",
      "conv3d_34 (Conv3D)              (None, 32, 32, None, 884992      max_pooling3d_7[0][0]            \n",
      "__________________________________________________________________________________________________\n",
      "conv3d_35 (Conv3D)              (None, 32, 32, None, 1769728     conv3d_34[0][0]                  \n",
      "__________________________________________________________________________________________________\n",
      "max_pooling3d_8 (MaxPooling3D)  (None, 16, 16, None, 0           conv3d_35[0][0]                  \n",
      "__________________________________________________________________________________________________\n",
      "conv3d_36 (Conv3D)              (None, 16, 16, None, 3539456     max_pooling3d_8[0][0]            \n",
      "__________________________________________________________________________________________________\n",
      "conv3d_37 (Conv3D)              (None, 16, 16, None, 7078400     conv3d_36[0][0]                  \n",
      "__________________________________________________________________________________________________\n",
      "conv3d_transpose_6 (Conv3DTrans (None, 32, 32, None, 3539200     conv3d_37[0][0]                  \n",
      "__________________________________________________________________________________________________\n",
      "concatenate_6 (Concatenate)     (None, 32, 32, None, 0           conv3d_transpose_6[0][0]         \n",
      "                                                                 conv3d_35[0][0]                  \n",
      "__________________________________________________________________________________________________\n",
      "conv3d_38 (Conv3D)              (None, 32, 32, None, 3539200     concatenate_6[0][0]              \n",
      "__________________________________________________________________________________________________\n",
      "conv3d_39 (Conv3D)              (None, 32, 32, None, 1769728     conv3d_38[0][0]                  \n",
      "__________________________________________________________________________________________________\n",
      "conv3d_transpose_7 (Conv3DTrans (None, 64, 64, None, 884864      conv3d_39[0][0]                  \n",
      "__________________________________________________________________________________________________\n",
      "concatenate_7 (Concatenate)     (None, 64, 64, None, 0           conv3d_transpose_7[0][0]         \n",
      "                                                                 conv3d_33[0][0]                  \n",
      "__________________________________________________________________________________________________\n",
      "conv3d_40 (Conv3D)              (None, 64, 64, None, 884864      concatenate_7[0][0]              \n",
      "__________________________________________________________________________________________________\n",
      "conv3d_41 (Conv3D)              (None, 64, 64, None, 442496      conv3d_40[0][0]                  \n",
      "__________________________________________________________________________________________________\n",
      "conv3d_transpose_8 (Conv3DTrans (None, 128, 128, Non 221248      conv3d_41[0][0]                  \n",
      "__________________________________________________________________________________________________\n",
      "concatenate_8 (Concatenate)     (None, 128, 128, Non 0           conv3d_transpose_8[0][0]         \n",
      "                                                                 conv3d_31[0][0]                  \n",
      "__________________________________________________________________________________________________\n",
      "conv3d_42 (Conv3D)              (None, 128, 128, Non 221248      concatenate_8[0][0]              \n",
      "__________________________________________________________________________________________________\n",
      "conv3d_43 (Conv3D)              (None, 128, 128, Non 110656      conv3d_42[0][0]                  \n",
      "__________________________________________________________________________________________________\n",
      "conv3d_44 (Conv3D)              (None, 128, 128, Non 65          conv3d_43[0][0]                  \n",
      "==================================================================================================\n",
      "Total params: 25,662,401\n",
      "Trainable params: 25,662,401\n",
      "Non-trainable params: 0\n",
      "__________________________________________________________________________________________________\n"
     ]
    }
   ],
   "source": [
    "model_3D.summary()"
   ]
  }
 ],
 "metadata": {
  "kernelspec": {
   "display_name": "Python 3",
   "language": "python",
   "name": "python3"
  },
  "language_info": {
   "codemirror_mode": {
    "name": "ipython",
    "version": 3
   },
   "file_extension": ".py",
   "mimetype": "text/x-python",
   "name": "python",
   "nbconvert_exporter": "python",
   "pygments_lexer": "ipython3",
   "version": "3.7.9"
  }
 },
 "nbformat": 4,
 "nbformat_minor": 5
}
