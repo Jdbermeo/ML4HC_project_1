{
 "cells": [
  {
   "cell_type": "markdown",
   "metadata": {
    "ExecuteTime": {
     "start_time": "2021-03-01T15:50:20.786Z"
    }
   },
   "source": [
    "### If \"nilabel\" is not installed, run the following command"
   ]
  },
  {
   "cell_type": "code",
   "execution_count": 1,
   "metadata": {
    "ExecuteTime": {
     "end_time": "2021-03-01T16:27:49.498729Z",
     "start_time": "2021-03-01T16:27:49.487845Z"
    }
   },
   "outputs": [],
   "source": [
    "# !pip install nibabel"
   ]
  },
  {
   "cell_type": "code",
   "execution_count": 3,
   "metadata": {
    "ExecuteTime": {
     "end_time": "2021-03-01T16:27:50.387520Z",
     "start_time": "2021-03-01T16:27:49.515580Z"
    }
   },
   "outputs": [],
   "source": [
    "import os\n",
    "import numpy as np\n",
    "import nibabel as nib"
   ]
  },
  {
   "cell_type": "code",
   "execution_count": 4,
   "metadata": {
    "ExecuteTime": {
     "end_time": "2021-03-01T16:27:50.396681Z",
     "start_time": "2021-03-01T16:27:50.390014Z"
    }
   },
   "outputs": [],
   "source": [
    "def read_training_data(data_path):\n",
    "    '''Read training data'''\n",
    "    imgs = []\n",
    "    lbls = []\n",
    "    for f in os.listdir(os.path.join(data_path, 'imagesTr')):\n",
    "        if '.DS_Store' in f:\n",
    "            continue\n",
    "        imgs.append( nib.load(os.path.join(data_path, 'imagesTr', f)).get_fdata() )\n",
    "        lbls.append( nib.load(os.path.join(data_path, 'labelsTr', f)).get_fdata() )\n",
    "    return imgs, lbls\n",
    "\n",
    "def read_testing_data(data_path):\n",
    "    '''Read testing data'''\n",
    "    imgs = []\n",
    "    for f in os.listdir(os.path.join(data_path, 'imagesTs')):\n",
    "        if '.DS_Store' in f:\n",
    "            continue\n",
    "        imgs.append( nib.load(os.path.join(data_path, 'imagesTs', f)).get_fdata() )\n",
    "    return imgs"
   ]
  },
  {
   "cell_type": "code",
   "execution_count": 4,
   "metadata": {
    "ExecuteTime": {
     "end_time": "2021-03-01T16:30:46.613345Z",
     "start_time": "2021-03-01T16:27:50.399252Z"
    }
   },
   "outputs": [],
   "source": [
    "data_path = \"ml4h_proj1_colon_cancer_ct/\"\n",
    "imgs, lbls = read_training_data(data_path)"
   ]
  },
  {
   "cell_type": "markdown",
   "metadata": {},
   "source": [
    "# Test loading a single image "
   ]
  },
  {
   "cell_type": "code",
   "execution_count": 30,
   "metadata": {},
   "outputs": [],
   "source": [
    "import os\n",
    "import pandas as pd"
   ]
  },
  {
   "cell_type": "code",
   "execution_count": 6,
   "metadata": {},
   "outputs": [],
   "source": [
    "data_path_source_dir = os.path.join('ml4h_proj1_colon_cancer_ct', 'ml4h_proj1_colon_cancer_ct')\n",
    "\n",
    "train_images_dir = os.path.join(data_path_source_dir, 'imagesTr')\n",
    "\n",
    "train_images_path_list = [os.path.join(train_images_dir, filename) for filename in os.listdir(train_images_dir) if filename != '.DS_Store' and '._' not in filename]"
   ]
  },
  {
   "cell_type": "code",
   "execution_count": 24,
   "metadata": {},
   "outputs": [],
   "source": [
    "a = nib.load(train_images_path_list[0])"
   ]
  },
  {
   "cell_type": "code",
   "execution_count": 27,
   "metadata": {},
   "outputs": [
    {
     "name": "stderr",
     "output_type": "stream",
     "text": [
      "c:\\users\\juan diego\\documents\\ondemna\\venv\\lib\\site-packages\\ipykernel_launcher.py:3: DeprecationWarning: get_data() is deprecated in favor of get_fdata(), which has a more predictable return type. To obtain get_data() behavior going forward, use numpy.asanyarray(img.dataobj).\n",
      "\n",
      "* deprecated from version: 3.0\n",
      "* Will raise <class 'nibabel.deprecator.ExpiredDeprecationError'> as of version: 5.0\n",
      "  This is separate from the ipykernel package so we can avoid doing imports until\n"
     ]
    }
   ],
   "source": [
    "images_shape = list()\n",
    "for image_path in train_images_path_list:\n",
    "    images_shape.append(nib.load(image_path).get_data().shape)"
   ]
  },
  {
   "cell_type": "code",
   "execution_count": 34,
   "metadata": {},
   "outputs": [
    {
     "data": {
      "text/plain": [
       "<AxesSubplot:ylabel='Frequency'>"
      ]
     },
     "execution_count": 34,
     "metadata": {},
     "output_type": "execute_result"
    },
    {
     "data": {
      "image/png": "[encoded data removed]",
      "text/plain": [
       "<Figure size 432x288 with 1 Axes>"
      ]
     },
     "metadata": {
      "needs_background": "light"
     },
     "output_type": "display_data"
    }
   ],
   "source": [
    "pd.DataFrame(images_shape)[2].plot.hist()"
   ]
  }
 ],
 "metadata": {
  "kernelspec": {
   "display_name": "Python 3",
   "language": "python",
   "name": "python3"
  },
  "language_info": {
   "codemirror_mode": {
    "name": "ipython",
    "version": 3
   },
   "file_extension": ".py",
   "mimetype": "text/x-python",
   "name": "python",
   "nbconvert_exporter": "python",
   "pygments_lexer": "ipython3",
   "version": "3.7.9"
  }
 },
 "nbformat": 4,
 "nbformat_minor": 4
}
