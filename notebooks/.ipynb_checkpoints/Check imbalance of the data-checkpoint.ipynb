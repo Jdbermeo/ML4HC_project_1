{
 "cells": [
  {
   "cell_type": "code",
   "execution_count": 1,
   "id": "weekly-adoption",
   "metadata": {},
   "outputs": [],
   "source": [
    "import os\n",
    "import random \n",
    "\n",
    "import numpy as np\n",
    "import pandas as pd\n",
    "import matplotlib.pyplot as plt"
   ]
  },
  {
   "cell_type": "code",
   "execution_count": 2,
   "id": "resident-amsterdam",
   "metadata": {},
   "outputs": [],
   "source": [
    "os.chdir('..')"
   ]
  },
  {
   "cell_type": "code",
   "execution_count": 3,
   "id": "planned-armenia",
   "metadata": {},
   "outputs": [],
   "source": [
    "from model.img_generator import DataGenerator2D\n",
    "from preprocessing.get_ct_scan_information import build_train_test_df"
   ]
  },
  {
   "cell_type": "code",
   "execution_count": 4,
   "id": "unknown-printing",
   "metadata": {},
   "outputs": [],
   "source": [
    "data_path_source_dir = os.path.join('ml4h_proj1_colon_cancer_ct')"
   ]
  },
  {
   "cell_type": "markdown",
   "id": "offensive-threshold",
   "metadata": {},
   "source": [
    "# Let's check the imbalance in the data"
   ]
  },
  {
   "cell_type": "code",
   "execution_count": 5,
   "id": "affiliated-catch",
   "metadata": {},
   "outputs": [],
   "source": [
    "random.seed(123)\n",
    "np.random.seed(123)"
   ]
  },
  {
   "cell_type": "markdown",
   "id": "minor-reunion",
   "metadata": {},
   "source": [
    "Let's choose a set of images that have cancer labeled in them "
   ]
  },
  {
   "cell_type": "code",
   "execution_count": 6,
   "id": "crude-adapter",
   "metadata": {},
   "outputs": [],
   "source": [
    "tr_df, x_ts_df = build_train_test_df(data_path_source_dir)"
   ]
  },
  {
   "cell_type": "code",
   "execution_count": 7,
   "id": "surprised-italy",
   "metadata": {},
   "outputs": [],
   "source": [
    "cancer_pixels_df = pd.read_pickle('cancer_pixels_df')\n",
    "cancer_pixels_df.reset_index(inplace=True)"
   ]
  },
  {
   "cell_type": "code",
   "execution_count": 8,
   "id": "narrow-argument",
   "metadata": {},
   "outputs": [],
   "source": [
    "cancer_pixels_df['index'] = cancer_pixels_df.image_name.map(lambda str_: str_.split('.nii.gz')[0].split('colon_')[1])"
   ]
  },
  {
   "cell_type": "code",
   "execution_count": 9,
   "id": "nearby-river",
   "metadata": {},
   "outputs": [],
   "source": [
    "tr_df_only_cancer = cancer_pixels_df.set_index(['index', 'depth_i'])[['cancer_pixel_area']].join(tr_df, how='inner')"
   ]
  },
  {
   "cell_type": "code",
   "execution_count": 10,
   "id": "experimental-causing",
   "metadata": {},
   "outputs": [
    {
     "data": {
      "text/html": [
       "<div>\n",
       "<style scoped>\n",
       "    .dataframe tbody tr th:only-of-type {\n",
       "        vertical-align: middle;\n",
       "    }\n",
       "\n",
       "    .dataframe tbody tr th {\n",
       "        vertical-align: top;\n",
       "    }\n",
       "\n",
       "    .dataframe thead th {\n",
       "        text-align: right;\n",
       "    }\n",
       "</style>\n",
       "<table border=\"1\" class=\"dataframe\">\n",
       "  <thead>\n",
       "    <tr style=\"text-align: right;\">\n",
       "      <th></th>\n",
       "      <th></th>\n",
       "      <th>cancer_pixel_area</th>\n",
       "      <th>x_tr_img_path</th>\n",
       "      <th>depth</th>\n",
       "      <th>y_tr_img_path</th>\n",
       "    </tr>\n",
       "    <tr>\n",
       "      <th>index</th>\n",
       "      <th>depth_i</th>\n",
       "      <th></th>\n",
       "      <th></th>\n",
       "      <th></th>\n",
       "      <th></th>\n",
       "    </tr>\n",
       "  </thead>\n",
       "  <tbody>\n",
       "    <tr>\n",
       "      <th rowspan=\"3\" valign=\"top\">001</th>\n",
       "      <th>51</th>\n",
       "      <td>841.0</td>\n",
       "      <td>ml4h_proj1_colon_cancer_ct\\imagesTr\\colon_001....</td>\n",
       "      <td>60</td>\n",
       "      <td>ml4h_proj1_colon_cancer_ct\\labelsTr\\colon_001....</td>\n",
       "    </tr>\n",
       "    <tr>\n",
       "      <th>52</th>\n",
       "      <td>646.0</td>\n",
       "      <td>ml4h_proj1_colon_cancer_ct\\imagesTr\\colon_001....</td>\n",
       "      <td>60</td>\n",
       "      <td>ml4h_proj1_colon_cancer_ct\\labelsTr\\colon_001....</td>\n",
       "    </tr>\n",
       "    <tr>\n",
       "      <th>53</th>\n",
       "      <td>296.0</td>\n",
       "      <td>ml4h_proj1_colon_cancer_ct\\imagesTr\\colon_001....</td>\n",
       "      <td>60</td>\n",
       "      <td>ml4h_proj1_colon_cancer_ct\\labelsTr\\colon_001....</td>\n",
       "    </tr>\n",
       "    <tr>\n",
       "      <th rowspan=\"2\" valign=\"top\">005</th>\n",
       "      <th>44</th>\n",
       "      <td>278.0</td>\n",
       "      <td>ml4h_proj1_colon_cancer_ct\\imagesTr\\colon_005....</td>\n",
       "      <td>98</td>\n",
       "      <td>ml4h_proj1_colon_cancer_ct\\labelsTr\\colon_005....</td>\n",
       "    </tr>\n",
       "    <tr>\n",
       "      <th>50</th>\n",
       "      <td>270.0</td>\n",
       "      <td>ml4h_proj1_colon_cancer_ct\\imagesTr\\colon_005....</td>\n",
       "      <td>98</td>\n",
       "      <td>ml4h_proj1_colon_cancer_ct\\labelsTr\\colon_005....</td>\n",
       "    </tr>\n",
       "    <tr>\n",
       "      <th>...</th>\n",
       "      <th>...</th>\n",
       "      <td>...</td>\n",
       "      <td>...</td>\n",
       "      <td>...</td>\n",
       "      <td>...</td>\n",
       "    </tr>\n",
       "    <tr>\n",
       "      <th rowspan=\"5\" valign=\"top\">169</th>\n",
       "      <th>139</th>\n",
       "      <td>245.0</td>\n",
       "      <td>ml4h_proj1_colon_cancer_ct\\imagesTr\\colon_169....</td>\n",
       "      <td>258</td>\n",
       "      <td>ml4h_proj1_colon_cancer_ct\\labelsTr\\colon_169....</td>\n",
       "    </tr>\n",
       "    <tr>\n",
       "      <th>140</th>\n",
       "      <td>228.0</td>\n",
       "      <td>ml4h_proj1_colon_cancer_ct\\imagesTr\\colon_169....</td>\n",
       "      <td>258</td>\n",
       "      <td>ml4h_proj1_colon_cancer_ct\\labelsTr\\colon_169....</td>\n",
       "    </tr>\n",
       "    <tr>\n",
       "      <th>141</th>\n",
       "      <td>198.0</td>\n",
       "      <td>ml4h_proj1_colon_cancer_ct\\imagesTr\\colon_169....</td>\n",
       "      <td>258</td>\n",
       "      <td>ml4h_proj1_colon_cancer_ct\\labelsTr\\colon_169....</td>\n",
       "    </tr>\n",
       "    <tr>\n",
       "      <th>142</th>\n",
       "      <td>153.0</td>\n",
       "      <td>ml4h_proj1_colon_cancer_ct\\imagesTr\\colon_169....</td>\n",
       "      <td>258</td>\n",
       "      <td>ml4h_proj1_colon_cancer_ct\\labelsTr\\colon_169....</td>\n",
       "    </tr>\n",
       "    <tr>\n",
       "      <th>143</th>\n",
       "      <td>131.0</td>\n",
       "      <td>ml4h_proj1_colon_cancer_ct\\imagesTr\\colon_169....</td>\n",
       "      <td>258</td>\n",
       "      <td>ml4h_proj1_colon_cancer_ct\\labelsTr\\colon_169....</td>\n",
       "    </tr>\n",
       "  </tbody>\n",
       "</table>\n",
       "<p>1034 rows × 4 columns</p>\n",
       "</div>"
      ],
      "text/plain": [
       "               cancer_pixel_area  \\\n",
       "index depth_i                      \n",
       "001   51                   841.0   \n",
       "      52                   646.0   \n",
       "      53                   296.0   \n",
       "005   44                   278.0   \n",
       "      50                   270.0   \n",
       "...                          ...   \n",
       "169   139                  245.0   \n",
       "      140                  228.0   \n",
       "      141                  198.0   \n",
       "      142                  153.0   \n",
       "      143                  131.0   \n",
       "\n",
       "                                                   x_tr_img_path  depth  \\\n",
       "index depth_i                                                             \n",
       "001   51       ml4h_proj1_colon_cancer_ct\\imagesTr\\colon_001....     60   \n",
       "      52       ml4h_proj1_colon_cancer_ct\\imagesTr\\colon_001....     60   \n",
       "      53       ml4h_proj1_colon_cancer_ct\\imagesTr\\colon_001....     60   \n",
       "005   44       ml4h_proj1_colon_cancer_ct\\imagesTr\\colon_005....     98   \n",
       "      50       ml4h_proj1_colon_cancer_ct\\imagesTr\\colon_005....     98   \n",
       "...                                                          ...    ...   \n",
       "169   139      ml4h_proj1_colon_cancer_ct\\imagesTr\\colon_169....    258   \n",
       "      140      ml4h_proj1_colon_cancer_ct\\imagesTr\\colon_169....    258   \n",
       "      141      ml4h_proj1_colon_cancer_ct\\imagesTr\\colon_169....    258   \n",
       "      142      ml4h_proj1_colon_cancer_ct\\imagesTr\\colon_169....    258   \n",
       "      143      ml4h_proj1_colon_cancer_ct\\imagesTr\\colon_169....    258   \n",
       "\n",
       "                                                   y_tr_img_path  \n",
       "index depth_i                                                     \n",
       "001   51       ml4h_proj1_colon_cancer_ct\\labelsTr\\colon_001....  \n",
       "      52       ml4h_proj1_colon_cancer_ct\\labelsTr\\colon_001....  \n",
       "      53       ml4h_proj1_colon_cancer_ct\\labelsTr\\colon_001....  \n",
       "005   44       ml4h_proj1_colon_cancer_ct\\labelsTr\\colon_005....  \n",
       "      50       ml4h_proj1_colon_cancer_ct\\labelsTr\\colon_005....  \n",
       "...                                                          ...  \n",
       "169   139      ml4h_proj1_colon_cancer_ct\\labelsTr\\colon_169....  \n",
       "      140      ml4h_proj1_colon_cancer_ct\\labelsTr\\colon_169....  \n",
       "      141      ml4h_proj1_colon_cancer_ct\\labelsTr\\colon_169....  \n",
       "      142      ml4h_proj1_colon_cancer_ct\\labelsTr\\colon_169....  \n",
       "      143      ml4h_proj1_colon_cancer_ct\\labelsTr\\colon_169....  \n",
       "\n",
       "[1034 rows x 4 columns]"
      ]
     },
     "execution_count": 10,
     "metadata": {},
     "output_type": "execute_result"
    }
   ],
   "source": [
    "tr_df_only_cancer"
   ]
  },
  {
   "cell_type": "markdown",
   "id": "tested-boring",
   "metadata": {},
   "source": [
    "## Distribution of images that have cancer pixels"
   ]
  },
  {
   "cell_type": "code",
   "execution_count": 11,
   "id": "paperback-remove",
   "metadata": {},
   "outputs": [],
   "source": [
    "a = tr_df.join(tr_df_only_cancer.groupby(level=0)['cancer_pixel_area'].count().rename('cancer_cut_counts'))"
   ]
  },
  {
   "cell_type": "code",
   "execution_count": 12,
   "id": "under-jerusalem",
   "metadata": {},
   "outputs": [
    {
     "data": {
      "text/plain": [
       "<AxesSubplot:ylabel='Frequency'>"
      ]
     },
     "execution_count": 12,
     "metadata": {},
     "output_type": "execute_result"
    },
    {
     "data": {
      "image/png": "[encoded data removed]",
      "text/plain": [
       "<Figure size 432x288 with 1 Axes>"
      ]
     },
     "metadata": {
      "needs_background": "light"
     },
     "output_type": "display_data"
    }
   ],
   "source": [
    "(a['cancer_cut_counts']/a['depth']).plot.hist()"
   ]
  },
  {
   "cell_type": "code",
   "execution_count": 13,
   "id": "synthetic-impact",
   "metadata": {},
   "outputs": [
    {
     "data": {
      "text/plain": [
       "0.10175162369612281"
      ]
     },
     "execution_count": 13,
     "metadata": {},
     "output_type": "execute_result"
    }
   ],
   "source": [
    "(a['cancer_cut_counts']/a['depth']).mean()"
   ]
  },
  {
   "cell_type": "code",
   "execution_count": 14,
   "id": "applied-truth",
   "metadata": {},
   "outputs": [
    {
     "data": {
      "text/plain": [
       "0.08888888888888889"
      ]
     },
     "execution_count": 14,
     "metadata": {},
     "output_type": "execute_result"
    }
   ],
   "source": [
    "(a['cancer_cut_counts']/a['depth']).median()"
   ]
  },
  {
   "cell_type": "code",
   "execution_count": 15,
   "id": "interstate-nature",
   "metadata": {},
   "outputs": [
    {
     "data": {
      "text/plain": [
       "0.25    0.063415\n",
       "0.50    0.088889\n",
       "0.75    0.129032\n",
       "0.95    0.215686\n",
       "0.99    0.283019\n",
       "dtype: float64"
      ]
     },
     "execution_count": 15,
     "metadata": {},
     "output_type": "execute_result"
    }
   ],
   "source": [
    "(a['cancer_cut_counts']/a['depth']).quantile([0.25, 0.5, 0.75, 0.95, 0.99])"
   ]
  },
  {
   "cell_type": "markdown",
   "id": "adolescent-digit",
   "metadata": {},
   "source": [
    "A very very big portion of them have cancer pixels in only 20% of the transversal cuts. Let's check pixel percentage wise over all the image but it's not looking too promising  "
   ]
  },
  {
   "cell_type": "markdown",
   "id": "ahead-bibliography",
   "metadata": {},
   "source": [
    "## Relative frequency of cancer pixels "
   ]
  },
  {
   "cell_type": "code",
   "execution_count": 16,
   "id": "amended-symbol",
   "metadata": {},
   "outputs": [],
   "source": [
    "import nibabel as nib"
   ]
  },
  {
   "cell_type": "code",
   "execution_count": 17,
   "id": "adult-wrong",
   "metadata": {
    "collapsed": true,
    "jupyter": {
     "outputs_hidden": true
    },
    "tags": []
   },
   "outputs": [
    {
     "name": "stdout",
     "output_type": "stream",
     "text": [
      "ml4h_proj1_colon_cancer_ct\\labelsTr\\colon_001.nii.gz\n"
     ]
    },
    {
     "name": "stderr",
     "output_type": "stream",
     "text": [
      "C:\\Users\\Juan Diego\\anaconda3\\envs\\Project_1\\lib\\site-packages\\ipykernel_launcher.py:4: DeprecationWarning: get_data() is deprecated in favor of get_fdata(), which has a more predictable return type. To obtain get_data() behavior going forward, use numpy.asanyarray(img.dataobj).\n",
      "\n",
      "* deprecated from version: 3.0\n",
      "* Will raise <class 'nibabel.deprecator.ExpiredDeprecationError'> as of version: 5.0\n",
      "  after removing the cwd from sys.path.\n"
     ]
    },
    {
     "name": "stdout",
     "output_type": "stream",
     "text": [
      "ml4h_proj1_colon_cancer_ct\\labelsTr\\colon_005.nii.gz\n",
      "ml4h_proj1_colon_cancer_ct\\labelsTr\\colon_006.nii.gz\n",
      "ml4h_proj1_colon_cancer_ct\\labelsTr\\colon_007.nii.gz\n",
      "ml4h_proj1_colon_cancer_ct\\labelsTr\\colon_008.nii.gz\n",
      "ml4h_proj1_colon_cancer_ct\\labelsTr\\colon_009.nii.gz\n",
      "ml4h_proj1_colon_cancer_ct\\labelsTr\\colon_011.nii.gz\n",
      "ml4h_proj1_colon_cancer_ct\\labelsTr\\colon_012.nii.gz\n",
      "ml4h_proj1_colon_cancer_ct\\labelsTr\\colon_015.nii.gz\n",
      "ml4h_proj1_colon_cancer_ct\\labelsTr\\colon_022.nii.gz\n",
      "ml4h_proj1_colon_cancer_ct\\labelsTr\\colon_024.nii.gz\n",
      "ml4h_proj1_colon_cancer_ct\\labelsTr\\colon_025.nii.gz\n",
      "ml4h_proj1_colon_cancer_ct\\labelsTr\\colon_026.nii.gz\n",
      "ml4h_proj1_colon_cancer_ct\\labelsTr\\colon_027.nii.gz\n",
      "ml4h_proj1_colon_cancer_ct\\labelsTr\\colon_028.nii.gz\n",
      "ml4h_proj1_colon_cancer_ct\\labelsTr\\colon_029.nii.gz\n",
      "ml4h_proj1_colon_cancer_ct\\labelsTr\\colon_030.nii.gz\n",
      "ml4h_proj1_colon_cancer_ct\\labelsTr\\colon_031.nii.gz\n",
      "ml4h_proj1_colon_cancer_ct\\labelsTr\\colon_032.nii.gz\n",
      "ml4h_proj1_colon_cancer_ct\\labelsTr\\colon_033.nii.gz\n",
      "ml4h_proj1_colon_cancer_ct\\labelsTr\\colon_036.nii.gz\n",
      "ml4h_proj1_colon_cancer_ct\\labelsTr\\colon_038.nii.gz\n",
      "ml4h_proj1_colon_cancer_ct\\labelsTr\\colon_039.nii.gz\n",
      "ml4h_proj1_colon_cancer_ct\\labelsTr\\colon_040.nii.gz\n",
      "ml4h_proj1_colon_cancer_ct\\labelsTr\\colon_041.nii.gz\n",
      "ml4h_proj1_colon_cancer_ct\\labelsTr\\colon_042.nii.gz\n",
      "ml4h_proj1_colon_cancer_ct\\labelsTr\\colon_045.nii.gz\n",
      "ml4h_proj1_colon_cancer_ct\\labelsTr\\colon_046.nii.gz\n",
      "ml4h_proj1_colon_cancer_ct\\labelsTr\\colon_050.nii.gz\n",
      "ml4h_proj1_colon_cancer_ct\\labelsTr\\colon_051.nii.gz\n",
      "ml4h_proj1_colon_cancer_ct\\labelsTr\\colon_053.nii.gz\n",
      "ml4h_proj1_colon_cancer_ct\\labelsTr\\colon_054.nii.gz\n",
      "ml4h_proj1_colon_cancer_ct\\labelsTr\\colon_059.nii.gz\n",
      "ml4h_proj1_colon_cancer_ct\\labelsTr\\colon_061.nii.gz\n",
      "ml4h_proj1_colon_cancer_ct\\labelsTr\\colon_064.nii.gz\n",
      "ml4h_proj1_colon_cancer_ct\\labelsTr\\colon_065.nii.gz\n",
      "ml4h_proj1_colon_cancer_ct\\labelsTr\\colon_066.nii.gz\n",
      "ml4h_proj1_colon_cancer_ct\\labelsTr\\colon_069.nii.gz\n",
      "ml4h_proj1_colon_cancer_ct\\labelsTr\\colon_072.nii.gz\n",
      "ml4h_proj1_colon_cancer_ct\\labelsTr\\colon_074.nii.gz\n",
      "ml4h_proj1_colon_cancer_ct\\labelsTr\\colon_075.nii.gz\n",
      "ml4h_proj1_colon_cancer_ct\\labelsTr\\colon_077.nii.gz\n",
      "ml4h_proj1_colon_cancer_ct\\labelsTr\\colon_078.nii.gz\n",
      "ml4h_proj1_colon_cancer_ct\\labelsTr\\colon_081.nii.gz\n",
      "ml4h_proj1_colon_cancer_ct\\labelsTr\\colon_086.nii.gz\n",
      "ml4h_proj1_colon_cancer_ct\\labelsTr\\colon_088.nii.gz\n",
      "ml4h_proj1_colon_cancer_ct\\labelsTr\\colon_089.nii.gz\n",
      "ml4h_proj1_colon_cancer_ct\\labelsTr\\colon_091.nii.gz\n",
      "ml4h_proj1_colon_cancer_ct\\labelsTr\\colon_092.nii.gz\n",
      "ml4h_proj1_colon_cancer_ct\\labelsTr\\colon_095.nii.gz\n",
      "ml4h_proj1_colon_cancer_ct\\labelsTr\\colon_096.nii.gz\n",
      "ml4h_proj1_colon_cancer_ct\\labelsTr\\colon_098.nii.gz\n",
      "ml4h_proj1_colon_cancer_ct\\labelsTr\\colon_099.nii.gz\n",
      "ml4h_proj1_colon_cancer_ct\\labelsTr\\colon_100.nii.gz\n",
      "ml4h_proj1_colon_cancer_ct\\labelsTr\\colon_102.nii.gz\n",
      "ml4h_proj1_colon_cancer_ct\\labelsTr\\colon_103.nii.gz\n",
      "ml4h_proj1_colon_cancer_ct\\labelsTr\\colon_104.nii.gz\n",
      "ml4h_proj1_colon_cancer_ct\\labelsTr\\colon_106.nii.gz\n",
      "ml4h_proj1_colon_cancer_ct\\labelsTr\\colon_107.nii.gz\n",
      "ml4h_proj1_colon_cancer_ct\\labelsTr\\colon_108.nii.gz\n",
      "ml4h_proj1_colon_cancer_ct\\labelsTr\\colon_111.nii.gz\n",
      "ml4h_proj1_colon_cancer_ct\\labelsTr\\colon_112.nii.gz\n",
      "ml4h_proj1_colon_cancer_ct\\labelsTr\\colon_114.nii.gz\n",
      "ml4h_proj1_colon_cancer_ct\\labelsTr\\colon_115.nii.gz\n",
      "ml4h_proj1_colon_cancer_ct\\labelsTr\\colon_117.nii.gz\n",
      "ml4h_proj1_colon_cancer_ct\\labelsTr\\colon_118.nii.gz\n",
      "ml4h_proj1_colon_cancer_ct\\labelsTr\\colon_119.nii.gz\n",
      "ml4h_proj1_colon_cancer_ct\\labelsTr\\colon_120.nii.gz\n",
      "ml4h_proj1_colon_cancer_ct\\labelsTr\\colon_122.nii.gz\n",
      "ml4h_proj1_colon_cancer_ct\\labelsTr\\colon_124.nii.gz\n",
      "ml4h_proj1_colon_cancer_ct\\labelsTr\\colon_126.nii.gz\n",
      "ml4h_proj1_colon_cancer_ct\\labelsTr\\colon_127.nii.gz\n",
      "ml4h_proj1_colon_cancer_ct\\labelsTr\\colon_129.nii.gz\n",
      "ml4h_proj1_colon_cancer_ct\\labelsTr\\colon_131.nii.gz\n",
      "ml4h_proj1_colon_cancer_ct\\labelsTr\\colon_133.nii.gz\n",
      "ml4h_proj1_colon_cancer_ct\\labelsTr\\colon_134.nii.gz\n",
      "ml4h_proj1_colon_cancer_ct\\labelsTr\\colon_136.nii.gz\n",
      "ml4h_proj1_colon_cancer_ct\\labelsTr\\colon_137.nii.gz\n",
      "ml4h_proj1_colon_cancer_ct\\labelsTr\\colon_138.nii.gz\n",
      "ml4h_proj1_colon_cancer_ct\\labelsTr\\colon_139.nii.gz\n",
      "ml4h_proj1_colon_cancer_ct\\labelsTr\\colon_140.nii.gz\n",
      "ml4h_proj1_colon_cancer_ct\\labelsTr\\colon_141.nii.gz\n",
      "ml4h_proj1_colon_cancer_ct\\labelsTr\\colon_142.nii.gz\n",
      "ml4h_proj1_colon_cancer_ct\\labelsTr\\colon_143.nii.gz\n",
      "ml4h_proj1_colon_cancer_ct\\labelsTr\\colon_144.nii.gz\n",
      "ml4h_proj1_colon_cancer_ct\\labelsTr\\colon_145.nii.gz\n",
      "ml4h_proj1_colon_cancer_ct\\labelsTr\\colon_148.nii.gz\n",
      "ml4h_proj1_colon_cancer_ct\\labelsTr\\colon_149.nii.gz\n",
      "ml4h_proj1_colon_cancer_ct\\labelsTr\\colon_154.nii.gz\n",
      "ml4h_proj1_colon_cancer_ct\\labelsTr\\colon_155.nii.gz\n",
      "ml4h_proj1_colon_cancer_ct\\labelsTr\\colon_157.nii.gz\n",
      "ml4h_proj1_colon_cancer_ct\\labelsTr\\colon_159.nii.gz\n",
      "ml4h_proj1_colon_cancer_ct\\labelsTr\\colon_161.nii.gz\n",
      "ml4h_proj1_colon_cancer_ct\\labelsTr\\colon_162.nii.gz\n",
      "ml4h_proj1_colon_cancer_ct\\labelsTr\\colon_163.nii.gz\n",
      "ml4h_proj1_colon_cancer_ct\\labelsTr\\colon_164.nii.gz\n",
      "ml4h_proj1_colon_cancer_ct\\labelsTr\\colon_165.nii.gz\n",
      "ml4h_proj1_colon_cancer_ct\\labelsTr\\colon_166.nii.gz\n",
      "ml4h_proj1_colon_cancer_ct\\labelsTr\\colon_168.nii.gz\n",
      "ml4h_proj1_colon_cancer_ct\\labelsTr\\colon_169.nii.gz\n"
     ]
    }
   ],
   "source": [
    "percentage_cancer_pixels = list()\n",
    "for img_path in tr_df.y_tr_img_path.unique():\n",
    "    img_i = nib.load(img_path).get_data()\n",
    "    percentage_cancer_pixels.append(img_i.sum()/(img_i.shape[0]*img_i.shape[1]*img_i.shape[2]))"
   ]
  },
  {
   "cell_type": "code",
   "execution_count": 25,
   "id": "stupid-elephant",
   "metadata": {},
   "outputs": [
    {
     "data": {
      "text/html": [
       "<div>\n",
       "<style scoped>\n",
       "    .dataframe tbody tr th:only-of-type {\n",
       "        vertical-align: middle;\n",
       "    }\n",
       "\n",
       "    .dataframe tbody tr th {\n",
       "        vertical-align: top;\n",
       "    }\n",
       "\n",
       "    .dataframe thead th {\n",
       "        text-align: right;\n",
       "    }\n",
       "</style>\n",
       "<table border=\"1\" class=\"dataframe\">\n",
       "  <thead>\n",
       "    <tr style=\"text-align: right;\">\n",
       "      <th></th>\n",
       "      <th>0</th>\n",
       "    </tr>\n",
       "  </thead>\n",
       "  <tbody>\n",
       "    <tr>\n",
       "      <th>0</th>\n",
       "      <td>0.000113</td>\n",
       "    </tr>\n",
       "    <tr>\n",
       "      <th>1</th>\n",
       "      <td>0.000592</td>\n",
       "    </tr>\n",
       "    <tr>\n",
       "      <th>2</th>\n",
       "      <td>0.000067</td>\n",
       "    </tr>\n",
       "    <tr>\n",
       "      <th>3</th>\n",
       "      <td>0.000237</td>\n",
       "    </tr>\n",
       "    <tr>\n",
       "      <th>4</th>\n",
       "      <td>0.000224</td>\n",
       "    </tr>\n",
       "    <tr>\n",
       "      <th>...</th>\n",
       "      <td>...</td>\n",
       "    </tr>\n",
       "    <tr>\n",
       "      <th>95</th>\n",
       "      <td>0.000152</td>\n",
       "    </tr>\n",
       "    <tr>\n",
       "      <th>96</th>\n",
       "      <td>0.000050</td>\n",
       "    </tr>\n",
       "    <tr>\n",
       "      <th>97</th>\n",
       "      <td>0.001540</td>\n",
       "    </tr>\n",
       "    <tr>\n",
       "      <th>98</th>\n",
       "      <td>0.000219</td>\n",
       "    </tr>\n",
       "    <tr>\n",
       "      <th>99</th>\n",
       "      <td>0.000048</td>\n",
       "    </tr>\n",
       "  </tbody>\n",
       "</table>\n",
       "<p>100 rows × 1 columns</p>\n",
       "</div>"
      ],
      "text/plain": [
       "           0\n",
       "0   0.000113\n",
       "1   0.000592\n",
       "2   0.000067\n",
       "3   0.000237\n",
       "4   0.000224\n",
       "..       ...\n",
       "95  0.000152\n",
       "96  0.000050\n",
       "97  0.001540\n",
       "98  0.000219\n",
       "99  0.000048\n",
       "\n",
       "[100 rows x 1 columns]"
      ]
     },
     "execution_count": 25,
     "metadata": {},
     "output_type": "execute_result"
    }
   ],
   "source": [
    "pd.DataFrame(percentage_cancer_pixels)"
   ]
  },
  {
   "cell_type": "code",
   "execution_count": 19,
   "id": "actual-indian",
   "metadata": {},
   "outputs": [
    {
     "data": {
      "text/plain": [
       "0.0005996856643402784"
      ]
     },
     "execution_count": 19,
     "metadata": {},
     "output_type": "execute_result"
    }
   ],
   "source": [
    "np.mean(percentage_cancer_pixels)"
   ]
  },
  {
   "cell_type": "code",
   "execution_count": 20,
   "id": "medium-tumor",
   "metadata": {},
   "outputs": [
    {
     "data": {
      "text/plain": [
       "0.0003324432956836031"
      ]
     },
     "execution_count": 20,
     "metadata": {},
     "output_type": "execute_result"
    }
   ],
   "source": [
    "np.median(percentage_cancer_pixels)"
   ]
  },
  {
   "cell_type": "code",
   "execution_count": 21,
   "id": "musical-walker",
   "metadata": {},
   "outputs": [
    {
     "data": {
      "text/plain": [
       "0.005706864173966225"
      ]
     },
     "execution_count": 21,
     "metadata": {},
     "output_type": "execute_result"
    }
   ],
   "source": [
    "np.max(percentage_cancer_pixels)"
   ]
  },
  {
   "cell_type": "code",
   "execution_count": 22,
   "id": "cooperative-domain",
   "metadata": {},
   "outputs": [
    {
     "data": {
      "text/plain": [
       "array([0.00017933, 0.00033244, 0.00073229, 0.00206513, 0.00316586])"
      ]
     },
     "execution_count": 22,
     "metadata": {},
     "output_type": "execute_result"
    }
   ],
   "source": [
    "np.quantile(percentage_cancer_pixels, [0.25, 0.5, 0.75, 0.95, 0.99])"
   ]
  },
  {
   "cell_type": "code",
   "execution_count": 23,
   "id": "parliamentary-soundtrack",
   "metadata": {},
   "outputs": [
    {
     "data": {
      "text/plain": [
       "<AxesSubplot:ylabel='Frequency'>"
      ]
     },
     "execution_count": 23,
     "metadata": {},
     "output_type": "execute_result"
    },
    {
     "data": {
      "image/png": "[encoded data removed]",
      "text/plain": [
       "<Figure size 432x288 with 1 Axes>"
      ]
     },
     "metadata": {
      "needs_background": "light"
     },
     "output_type": "display_data"
    }
   ],
   "source": [
    "pd.Series(percentage_cancer_pixels).plot.hist(bins=30)"
   ]
  },
  {
   "cell_type": "markdown",
   "id": "closing-rebound",
   "metadata": {},
   "source": [
    "The class unbalance is dramatic, they are all under 0.5%. 99% of them are at an unbalance of 0.3%, and 75% under 0.07& percent. We definetely need weights or up/down sampling of some sort. "
   ]
  }
 ],
 "metadata": {
  "kernelspec": {
   "display_name": "Python 3",
   "language": "python",
   "name": "python3"
  },
  "language_info": {
   "codemirror_mode": {
    "name": "ipython",
    "version": 3
   },
   "file_extension": ".py",
   "mimetype": "text/x-python",
   "name": "python",
   "nbconvert_exporter": "python",
   "pygments_lexer": "ipython3",
   "version": "3.7.10"
  }
 },
 "nbformat": 4,
 "nbformat_minor": 5
}
