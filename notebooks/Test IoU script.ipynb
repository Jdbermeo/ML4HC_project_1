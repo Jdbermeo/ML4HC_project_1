{
 "cells": [
  {
   "cell_type": "markdown",
   "id": "geological-dairy",
   "metadata": {},
   "source": [
    "## Test IoU script"
   ]
  },
  {
   "cell_type": "code",
   "execution_count": 1,
   "id": "scenic-perth",
   "metadata": {},
   "outputs": [],
   "source": [
    "import os\n",
    "import random\n",
    "\n",
    "import cv2 as cv\n",
    "import numpy as np\n",
    "import pandas as pd\n",
    "import nibabel as nib\n",
    "import matplotlib.pyplot as plt\n",
    "\n",
    "from typing import Tuple\n",
    "import numpy as np\n",
    "import pandas as pd\n",
    "import tensorflow as tf\n",
    "from keras import backend as K"
   ]
  },
  {
   "cell_type": "code",
   "execution_count": 2,
   "id": "instrumental-springfield",
   "metadata": {},
   "outputs": [],
   "source": [
    "os.chdir('..')"
   ]
  },
  {
   "cell_type": "code",
   "execution_count": 3,
   "id": "shaped-violation",
   "metadata": {},
   "outputs": [],
   "source": [
    "from model.metric_utils import calculate_iou\n",
    "from preprocessing.get_ct_scan_information import build_train_test_df\n",
    "from model.img_generator import DataGenerator2D"
   ]
  },
  {
   "cell_type": "code",
   "execution_count": 4,
   "id": "alpha-character",
   "metadata": {},
   "outputs": [],
   "source": [
    "data_path_source_dir = os.path.join('ml4h_proj1_colon_cancer_ct')\n",
    "\n",
    "train_images_dir = os.path.join(data_path_source_dir, 'imagesTr')\n",
    "\n",
    "train_images_label_dir = os.path.join(data_path_source_dir, 'labelsTr')\n",
    "\n",
    "train_images_path_list = [os.path.join(train_images_dir, filename) for filename in os.listdir(train_images_dir) if filename != '.DS_Store' and '._' not in filename]\n",
    "train_images_labels_path_list = [os.path.join(train_images_label_dir, filename) for filename in os.listdir(train_images_label_dir) if filename != '.DS_Store' and '._' not in filename]"
   ]
  },
  {
   "cell_type": "markdown",
   "id": "radio-vegetation",
   "metadata": {},
   "source": [
    "### Let's check if the IoU base function works"
   ]
  },
  {
   "cell_type": "code",
   "execution_count": 5,
   "id": "widespread-madonna",
   "metadata": {},
   "outputs": [
    {
     "name": "stderr",
     "output_type": "stream",
     "text": [
      "C:\\Users\\Juan Diego\\anaconda3\\envs\\Project_1\\lib\\site-packages\\ipykernel_launcher.py:1: DeprecationWarning: get_data() is deprecated in favor of get_fdata(), which has a more predictable return type. To obtain get_data() behavior going forward, use numpy.asanyarray(img.dataobj).\n",
      "\n",
      "* deprecated from version: 3.0\n",
      "* Will raise <class 'nibabel.deprecator.ExpiredDeprecationError'> as of version: 5.0\n",
      "  \"\"\"Entry point for launching an IPython kernel.\n"
     ]
    }
   ],
   "source": [
    "a = nib.load(train_images_labels_path_list[0]).get_data()"
   ]
  },
  {
   "cell_type": "code",
   "execution_count": 6,
   "id": "fifty-browser",
   "metadata": {},
   "outputs": [
    {
     "data": {
      "text/plain": [
       "(512, 512, 60)"
      ]
     },
     "execution_count": 6,
     "metadata": {},
     "output_type": "execute_result"
    }
   ],
   "source": [
    "a.shape"
   ]
  },
  {
   "cell_type": "code",
   "execution_count": 7,
   "id": "future-serve",
   "metadata": {},
   "outputs": [
    {
     "data": {
      "text/plain": [
       "0.9988795518207283"
      ]
     },
     "execution_count": 7,
     "metadata": {},
     "output_type": "execute_result"
    }
   ],
   "source": [
    "calculate_iou(target=a, prediction=cv.GaussianBlur(a, (5,5), 0) > 0.5)"
   ]
  },
  {
   "cell_type": "code",
   "execution_count": 8,
   "id": "divine-newman",
   "metadata": {},
   "outputs": [
    {
     "data": {
      "text/plain": [
       "0.0"
      ]
     },
     "execution_count": 8,
     "metadata": {},
     "output_type": "execute_result"
    }
   ],
   "source": [
    "calculate_iou(target=a, prediction=cv.flip(a, 0) > 0.5)"
   ]
  },
  {
   "cell_type": "code",
   "execution_count": 9,
   "id": "norman-shore",
   "metadata": {},
   "outputs": [
    {
     "data": {
      "text/plain": [
       "1.0"
      ]
     },
     "execution_count": 9,
     "metadata": {},
     "output_type": "execute_result"
    }
   ],
   "source": [
    "calculate_iou(target=a, prediction=cv.flip(cv.flip(a, 0), 0) > 0.5)"
   ]
  },
  {
   "cell_type": "markdown",
   "id": "cross-richmond",
   "metadata": {},
   "source": [
    "# Let's check the behavior of the augmentation operations of the generator"
   ]
  },
  {
   "cell_type": "code",
   "execution_count": 10,
   "id": "maritime-trance",
   "metadata": {},
   "outputs": [],
   "source": [
    "random.seed(123)\n",
    "np.random.seed(123)"
   ]
  },
  {
   "cell_type": "markdown",
   "id": "adult-watts",
   "metadata": {},
   "source": [
    "Let's choose a set of images that have cancer labeled in them "
   ]
  },
  {
   "cell_type": "code",
   "execution_count": 11,
   "id": "secret-seven",
   "metadata": {},
   "outputs": [],
   "source": [
    "tr_df, x_ts_df = build_train_test_df(data_path_source_dir)"
   ]
  },
  {
   "cell_type": "code",
   "execution_count": 12,
   "id": "minute-swimming",
   "metadata": {},
   "outputs": [],
   "source": [
    "cancer_pixels_df = pd.read_pickle('cancer_pixels_df')\n",
    "cancer_pixels_df.reset_index(inplace=True)"
   ]
  },
  {
   "cell_type": "code",
   "execution_count": 13,
   "id": "modern-extra",
   "metadata": {},
   "outputs": [],
   "source": [
    "cancer_pixels_df['index'] = cancer_pixels_df.image_name.map(lambda str_: str_.split('.nii.gz')[0].split('colon_')[1])"
   ]
  },
  {
   "cell_type": "code",
   "execution_count": 14,
   "id": "stainless-asthma",
   "metadata": {},
   "outputs": [],
   "source": [
    "tr_df_only_cancer = cancer_pixels_df.set_index(['index', 'depth_i'])[['cancer_pixel_area']].join(tr_df, how='inner')"
   ]
  },
  {
   "cell_type": "markdown",
   "id": "opponent-lawsuit",
   "metadata": {},
   "source": [
    "### Identity case"
   ]
  },
  {
   "cell_type": "code",
   "execution_count": 15,
   "id": "terminal-paradise",
   "metadata": {},
   "outputs": [],
   "source": [
    "def calculate_iou_df(df_: pd.DataFrame, img_dims: Tuple, model_,\n",
    "                     pixel_threshold: float = 0.5, prediction_batch_size: int = 32) \\\n",
    "        -> Tuple[pd.DataFrame, list, list]:\n",
    "    \"\"\"\n",
    "\n",
    "    :param df_:\n",
    "    :param img_dims:\n",
    "    :param model_:\n",
    "    :param pixel_threshold:\n",
    "    :param prediction_batch_size:\n",
    "    :return:\n",
    "    \"\"\"\n",
    "\n",
    "    iou_list = list()\n",
    "    y_pred_list = list()\n",
    "    y_list = list()\n",
    "\n",
    "    for img_dx, df_ in df_.groupby(level=0):\n",
    "        img_i_generator = DataGenerator2D(df=df_, x_col='x_tr_img_path', y_col=None,\n",
    "                                          batch_size=prediction_batch_size, num_classes=None, shuffle=False,\n",
    "                                          resize_dim=img_dims)\n",
    "\n",
    "        label_i_generator = DataGenerator2D(df=df_, x_col='x_tr_img_path', y_col='y_tr_img_path',\n",
    "                                            batch_size=prediction_batch_size, num_classes=None, shuffle=False,\n",
    "                                            resize_dim=None)\n",
    "\n",
    "        # Predict for a group of cuts of the same image\n",
    "        for i, ((X_cut_i, _), (_, y_cut_i)) in enumerate(zip(img_i_generator, label_i_generator)):\n",
    "\n",
    "            # y_cut_i_predict = model_.predict(X_cut_i)\n",
    "            y_cut_i_predict = y_cut_i\n",
    "\n",
    "            # Resize prediction to match label mask dimensions and restack\n",
    "            #  the predictions so that hey are channel last\n",
    "            for j, depth_i in enumerate(range(X_cut_i.shape[0])):\n",
    "                y_cut_i_predict_resized_j = cv.resize(\n",
    "                    y_cut_i_predict[j, :, :], y_cut_i.shape[1:],\n",
    "                    interpolation=cv.INTER_CUBIC)  # INTER_LINEAR is faster but INTER_CUBIC is better\n",
    "\n",
    "                # Add extra dim at the end\n",
    "                y_cut_i_predict_resized_j = y_cut_i_predict_resized_j.reshape(y_cut_i_predict_resized_j.shape + (1,))\n",
    "                y_cut_i_j = y_cut_i[j, :, :].reshape(y_cut_i[j, :, :].shape + (1,))\n",
    "\n",
    "                if j == 0:\n",
    "                    y_cut_i_predict_resized = y_cut_i_predict_resized_j\n",
    "                    y_cut_i_restacked = y_cut_i_j\n",
    "\n",
    "                else:\n",
    "                    y_cut_i_predict_resized = np.concatenate([y_cut_i_predict_resized, y_cut_i_predict_resized_j],\n",
    "                                                             axis=2)\n",
    "                    y_cut_i_restacked = np.concatenate([y_cut_i_restacked, y_cut_i_j], axis=2)\n",
    "\n",
    "            # When there is only one image in the minibatch it adds an extra dimension\n",
    "            if len(y_cut_i_restacked.shape) > 3:\n",
    "                y_cut_i_restacked = np.squeeze(y_cut_i_restacked, axis=3)\n",
    "\n",
    "            # Now stack the minibatches along the 3rd axis to complete the 3D image\n",
    "            if i == 0:\n",
    "                y_i_predict_3d = y_cut_i_predict_resized\n",
    "                y_i_3d = y_cut_i_restacked\n",
    "\n",
    "            else:\n",
    "                y_i_predict_3d = np.concatenate([y_i_predict_3d, y_cut_i_predict_resized], axis=2)\n",
    "                y_i_3d = np.concatenate([y_i_3d, y_cut_i_restacked], axis=2)\n",
    "\n",
    "        y_pred_list.append(y_i_predict_3d)\n",
    "        y_list.append(y_i_3d)\n",
    "\n",
    "        # Measure IoU over entire 3D image after concatenating all of the cuts\n",
    "        iou_list.append({'index': img_dx,\n",
    "                         'iou': calculate_iou(target=y_i_3d, prediction=(y_i_predict_3d > pixel_threshold) * 1)})\n",
    "\n",
    "    # Let's convert the iou to a pandas dataframe\n",
    "    iou_df = pd.DataFrame(iou_list).set_index('index')\n",
    "\n",
    "    return iou_df, y_list, y_pred_list"
   ]
  },
  {
   "cell_type": "code",
   "execution_count": 16,
   "id": "original-hospital",
   "metadata": {},
   "outputs": [],
   "source": [
    "sample_imgs_indx = tr_df.reset_index(level=0)['index'].sample(10)"
   ]
  },
  {
   "cell_type": "code",
   "execution_count": 17,
   "id": "static-sitting",
   "metadata": {},
   "outputs": [],
   "source": [
    "sample_tr_df = tr_df.loc[pd.IndexSlice[sample_imgs_indx, :], :]"
   ]
  },
  {
   "cell_type": "code",
   "execution_count": 18,
   "id": "tight-communication",
   "metadata": {
    "tags": []
   },
   "outputs": [],
   "source": [
    "iou_df, _, _ = calculate_iou_df(df_=sample_tr_df, img_dims=(512, 512), model_=None,\n",
    "                          pixel_threshold= 0.5, prediction_batch_size= 32)"
   ]
  },
  {
   "cell_type": "code",
   "execution_count": 19,
   "id": "lasting-burner",
   "metadata": {},
   "outputs": [
    {
     "data": {
      "text/plain": [
       "0"
      ]
     },
     "execution_count": 19,
     "metadata": {},
     "output_type": "execute_result"
    }
   ],
   "source": [
    "iou_df.iou.isna().sum()"
   ]
  },
  {
   "cell_type": "code",
   "execution_count": 20,
   "id": "boxed-emergency",
   "metadata": {},
   "outputs": [
    {
     "data": {
      "text/plain": [
       "1.0"
      ]
     },
     "execution_count": 20,
     "metadata": {},
     "output_type": "execute_result"
    }
   ],
   "source": [
    "iou_df.iou.mean()"
   ]
  },
  {
   "cell_type": "code",
   "execution_count": 21,
   "id": "optical-local",
   "metadata": {},
   "outputs": [
    {
     "data": {
      "text/html": [
       "<div>\n",
       "<style scoped>\n",
       "    .dataframe tbody tr th:only-of-type {\n",
       "        vertical-align: middle;\n",
       "    }\n",
       "\n",
       "    .dataframe tbody tr th {\n",
       "        vertical-align: top;\n",
       "    }\n",
       "\n",
       "    .dataframe thead th {\n",
       "        text-align: right;\n",
       "    }\n",
       "</style>\n",
       "<table border=\"1\" class=\"dataframe\">\n",
       "  <thead>\n",
       "    <tr style=\"text-align: right;\">\n",
       "      <th></th>\n",
       "      <th>iou</th>\n",
       "    </tr>\n",
       "    <tr>\n",
       "      <th>index</th>\n",
       "      <th></th>\n",
       "    </tr>\n",
       "  </thead>\n",
       "  <tbody>\n",
       "    <tr>\n",
       "      <th>011</th>\n",
       "      <td>1.0</td>\n",
       "    </tr>\n",
       "    <tr>\n",
       "      <th>028</th>\n",
       "      <td>1.0</td>\n",
       "    </tr>\n",
       "    <tr>\n",
       "      <th>031</th>\n",
       "      <td>1.0</td>\n",
       "    </tr>\n",
       "    <tr>\n",
       "      <th>088</th>\n",
       "      <td>1.0</td>\n",
       "    </tr>\n",
       "    <tr>\n",
       "      <th>111</th>\n",
       "      <td>1.0</td>\n",
       "    </tr>\n",
       "    <tr>\n",
       "      <th>124</th>\n",
       "      <td>1.0</td>\n",
       "    </tr>\n",
       "    <tr>\n",
       "      <th>162</th>\n",
       "      <td>1.0</td>\n",
       "    </tr>\n",
       "    <tr>\n",
       "      <th>164</th>\n",
       "      <td>1.0</td>\n",
       "    </tr>\n",
       "  </tbody>\n",
       "</table>\n",
       "</div>"
      ],
      "text/plain": [
       "       iou\n",
       "index     \n",
       "011    1.0\n",
       "028    1.0\n",
       "031    1.0\n",
       "088    1.0\n",
       "111    1.0\n",
       "124    1.0\n",
       "162    1.0\n",
       "164    1.0"
      ]
     },
     "execution_count": 21,
     "metadata": {},
     "output_type": "execute_result"
    }
   ],
   "source": [
    "iou_df"
   ]
  },
  {
   "cell_type": "markdown",
   "id": "strategic-article",
   "metadata": {},
   "source": [
    "### Use Gaussian blur to reduce concordancy"
   ]
  },
  {
   "cell_type": "code",
   "execution_count": 22,
   "id": "supported-fraction",
   "metadata": {},
   "outputs": [],
   "source": [
    "def calculate_iou_df(df_: pd.DataFrame, img_dims: Tuple, model_,\n",
    "                     pixel_threshold: float = 0.5, prediction_batch_size: int = 32) \\\n",
    "        -> Tuple[pd.DataFrame, list, list]:\n",
    "    \"\"\"\n",
    "\n",
    "    :param df_:\n",
    "    :param img_dims:\n",
    "    :param model_:\n",
    "    :param pixel_threshold:\n",
    "    :param prediction_batch_size:\n",
    "    :return:\n",
    "    \"\"\"\n",
    "\n",
    "    iou_list = list()\n",
    "    y_pred_list = list()\n",
    "    y_list = list()\n",
    "\n",
    "    for img_dx, df_ in df_.groupby(level=0):\n",
    "        img_i_generator = DataGenerator2D(df=df_, x_col='x_tr_img_path', y_col=None,\n",
    "                                          batch_size=prediction_batch_size, num_classes=None, shuffle=False,\n",
    "                                          resize_dim=img_dims)\n",
    "\n",
    "        label_i_generator = DataGenerator2D(df=df_, x_col='x_tr_img_path', y_col='y_tr_img_path',\n",
    "                                            batch_size=prediction_batch_size, num_classes=None, shuffle=False,\n",
    "                                            resize_dim=None)\n",
    "\n",
    "        # Predict for a group of cuts of the same image\n",
    "        for i, ((X_cut_i, _), (_, y_cut_i)) in enumerate(zip(img_i_generator, label_i_generator)):\n",
    "\n",
    "            #y_cut_i_predict = model_.predict(X_cut_i)\n",
    "            y_cut_i_predict = cv.GaussianBlur(y_cut_i, (11,11), 0)\n",
    "\n",
    "            # Resize prediction to match label mask dimensions and restack\n",
    "            #  the predictions so that hey are channel last\n",
    "            for j, depth_i in enumerate(range(X_cut_i.shape[0])):\n",
    "                y_cut_i_predict_resized_j = cv.resize(\n",
    "                    y_cut_i_predict[j, :, :], y_cut_i.shape[1:],\n",
    "                    interpolation=cv.INTER_CUBIC)  # INTER_LINEAR is faster but INTER_CUBIC is better\n",
    "\n",
    "                # Add extra dim at the end\n",
    "                y_cut_i_predict_resized_j = y_cut_i_predict_resized_j.reshape(y_cut_i_predict_resized_j.shape + (1,))\n",
    "                y_cut_i_j = y_cut_i[j, :, :].reshape(y_cut_i[j, :, :].shape + (1,))\n",
    "\n",
    "                if j == 0:\n",
    "                    y_cut_i_predict_resized = y_cut_i_predict_resized_j\n",
    "                    y_cut_i_restacked = y_cut_i_j\n",
    "\n",
    "                else:\n",
    "                    y_cut_i_predict_resized = np.concatenate([y_cut_i_predict_resized, y_cut_i_predict_resized_j],\n",
    "                                                             axis=2)\n",
    "                    y_cut_i_restacked = np.concatenate([y_cut_i_restacked, y_cut_i_j], axis=2)\n",
    "\n",
    "            # When there is only one image in the minibatch it adds an extra dimension\n",
    "            if len(y_cut_i_restacked.shape) > 3:\n",
    "                y_cut_i_restacked = np.squeeze(y_cut_i_restacked, axis=3)\n",
    "\n",
    "            # Now stack the minibatches along the 3rd axis to complete the 3D image\n",
    "            if i == 0:\n",
    "                y_i_predict_3d = y_cut_i_predict_resized\n",
    "                y_i_3d = y_cut_i_restacked\n",
    "\n",
    "            else:\n",
    "                y_i_predict_3d = np.concatenate([y_i_predict_3d, y_cut_i_predict_resized], axis=2)\n",
    "                y_i_3d = np.concatenate([y_i_3d, y_cut_i_restacked], axis=2)\n",
    "\n",
    "        y_pred_list.append(y_i_predict_3d)\n",
    "        y_list.append(y_i_3d)\n",
    "\n",
    "        # Measure IoU over entire 3D image after concatenating all of the cuts\n",
    "        iou_list.append({'index': img_dx,\n",
    "                         'iou': calculate_iou(target=y_i_3d, prediction=(y_i_predict_3d > pixel_threshold) * 1)})\n",
    "\n",
    "    # Let's convert the iou to a pandas dataframe\n",
    "    iou_df = pd.DataFrame(iou_list).set_index('index')\n",
    "\n",
    "    return iou_df, y_list, y_pred_list\n"
   ]
  },
  {
   "cell_type": "code",
   "execution_count": 23,
   "id": "perfect-suggestion",
   "metadata": {
    "tags": []
   },
   "outputs": [],
   "source": [
    "iou_df, _, _ = calculate_iou_df(df_=sample_tr_df, img_dims=(512, 512), model_=None,\n",
    "                          pixel_threshold= 0.5, prediction_batch_size= 32)"
   ]
  },
  {
   "cell_type": "code",
   "execution_count": 24,
   "id": "under-reconstruction",
   "metadata": {},
   "outputs": [
    {
     "data": {
      "text/plain": [
       "0"
      ]
     },
     "execution_count": 24,
     "metadata": {},
     "output_type": "execute_result"
    }
   ],
   "source": [
    "iou_df.iou.isna().sum()"
   ]
  },
  {
   "cell_type": "code",
   "execution_count": 25,
   "id": "selected-angel",
   "metadata": {},
   "outputs": [
    {
     "data": {
      "text/plain": [
       "0.5708457330442347"
      ]
     },
     "execution_count": 25,
     "metadata": {},
     "output_type": "execute_result"
    }
   ],
   "source": [
    "iou_df.iou.mean()"
   ]
  },
  {
   "cell_type": "code",
   "execution_count": 26,
   "id": "corporate-township",
   "metadata": {},
   "outputs": [
    {
     "data": {
      "text/html": [
       "<div>\n",
       "<style scoped>\n",
       "    .dataframe tbody tr th:only-of-type {\n",
       "        vertical-align: middle;\n",
       "    }\n",
       "\n",
       "    .dataframe tbody tr th {\n",
       "        vertical-align: top;\n",
       "    }\n",
       "\n",
       "    .dataframe thead th {\n",
       "        text-align: right;\n",
       "    }\n",
       "</style>\n",
       "<table border=\"1\" class=\"dataframe\">\n",
       "  <thead>\n",
       "    <tr style=\"text-align: right;\">\n",
       "      <th></th>\n",
       "      <th>iou</th>\n",
       "    </tr>\n",
       "    <tr>\n",
       "      <th>index</th>\n",
       "      <th></th>\n",
       "    </tr>\n",
       "  </thead>\n",
       "  <tbody>\n",
       "    <tr>\n",
       "      <th>011</th>\n",
       "      <td>0.563790</td>\n",
       "    </tr>\n",
       "    <tr>\n",
       "      <th>028</th>\n",
       "      <td>0.431753</td>\n",
       "    </tr>\n",
       "    <tr>\n",
       "      <th>031</th>\n",
       "      <td>0.703364</td>\n",
       "    </tr>\n",
       "    <tr>\n",
       "      <th>088</th>\n",
       "      <td>0.482270</td>\n",
       "    </tr>\n",
       "    <tr>\n",
       "      <th>111</th>\n",
       "      <td>0.831689</td>\n",
       "    </tr>\n",
       "    <tr>\n",
       "      <th>124</th>\n",
       "      <td>0.741255</td>\n",
       "    </tr>\n",
       "    <tr>\n",
       "      <th>162</th>\n",
       "      <td>0.402155</td>\n",
       "    </tr>\n",
       "    <tr>\n",
       "      <th>164</th>\n",
       "      <td>0.410490</td>\n",
       "    </tr>\n",
       "  </tbody>\n",
       "</table>\n",
       "</div>"
      ],
      "text/plain": [
       "            iou\n",
       "index          \n",
       "011    0.563790\n",
       "028    0.431753\n",
       "031    0.703364\n",
       "088    0.482270\n",
       "111    0.831689\n",
       "124    0.741255\n",
       "162    0.402155\n",
       "164    0.410490"
      ]
     },
     "execution_count": 26,
     "metadata": {},
     "output_type": "execute_result"
    }
   ],
   "source": [
    "iou_df"
   ]
  },
  {
   "cell_type": "markdown",
   "id": "israeli-singapore",
   "metadata": {},
   "source": [
    "### Use flipping"
   ]
  },
  {
   "cell_type": "code",
   "execution_count": 27,
   "id": "printable-operations",
   "metadata": {},
   "outputs": [],
   "source": [
    "def calculate_iou_df(df_: pd.DataFrame, img_dims: Tuple, model_,\n",
    "                     pixel_threshold: float = 0.5, prediction_batch_size: int = 32) \\\n",
    "        -> Tuple[pd.DataFrame, list, list]:\n",
    "    \"\"\"\n",
    "\n",
    "    :param df_:\n",
    "    :param img_dims:\n",
    "    :param model_:\n",
    "    :param pixel_threshold:\n",
    "    :param prediction_batch_size:\n",
    "    :return:\n",
    "    \"\"\"\n",
    "\n",
    "    iou_list = list()\n",
    "    y_pred_list = list()\n",
    "    y_list = list()\n",
    "\n",
    "    for img_dx, df_ in df_.groupby(level=0):\n",
    "        img_i_generator = DataGenerator2D(df=df_, x_col='x_tr_img_path', y_col=None,\n",
    "                                          batch_size=prediction_batch_size, num_classes=None, shuffle=False,\n",
    "                                          resize_dim=img_dims)\n",
    "\n",
    "        label_i_generator = DataGenerator2D(df=df_, x_col='x_tr_img_path', y_col='y_tr_img_path',\n",
    "                                            batch_size=prediction_batch_size, num_classes=None, shuffle=False,\n",
    "                                            resize_dim=None)\n",
    "\n",
    "        # Predict for a group of cuts of the same image\n",
    "        for i, ((X_cut_i, _), (_, y_cut_i)) in enumerate(zip(img_i_generator, label_i_generator)):\n",
    "\n",
    "            #y_cut_i_predict = model_.predict(X_cut_i)\n",
    "            y_cut_i_predict = cv.flip(y_cut_i, 0)\n",
    "\n",
    "            # Resize prediction to match label mask dimensions and restack\n",
    "            #  the predictions so that hey are channel last\n",
    "            for j, depth_i in enumerate(range(X_cut_i.shape[0])):\n",
    "                y_cut_i_predict_resized_j = cv.resize(\n",
    "                    y_cut_i_predict[j, :, :], y_cut_i.shape[1:],\n",
    "                    interpolation=cv.INTER_CUBIC)  # INTER_LINEAR is faster but INTER_CUBIC is better\n",
    "\n",
    "                # Add extra dim at the end\n",
    "                y_cut_i_predict_resized_j = y_cut_i_predict_resized_j.reshape(y_cut_i_predict_resized_j.shape + (1,))\n",
    "                y_cut_i_j = y_cut_i[j, :, :].reshape(y_cut_i[j, :, :].shape + (1,))\n",
    "\n",
    "                if j == 0:\n",
    "                    y_cut_i_predict_resized = y_cut_i_predict_resized_j\n",
    "                    y_cut_i_restacked = y_cut_i_j\n",
    "\n",
    "                else:\n",
    "                    y_cut_i_predict_resized = np.concatenate([y_cut_i_predict_resized, y_cut_i_predict_resized_j],\n",
    "                                                             axis=2)\n",
    "                    y_cut_i_restacked = np.concatenate([y_cut_i_restacked, y_cut_i_j], axis=2)\n",
    "\n",
    "            # When there is only one image in the minibatch it adds an extra dimension\n",
    "            if len(y_cut_i_restacked.shape) > 3:\n",
    "                y_cut_i_restacked = np.squeeze(y_cut_i_restacked, axis=3)\n",
    "\n",
    "            # Now stack the minibatches along the 3rd axis to complete the 3D image\n",
    "            if i == 0:\n",
    "                y_i_predict_3d = y_cut_i_predict_resized\n",
    "                y_i_3d = y_cut_i_restacked\n",
    "\n",
    "            else:\n",
    "                y_i_predict_3d = np.concatenate([y_i_predict_3d, y_cut_i_predict_resized], axis=2)\n",
    "                y_i_3d = np.concatenate([y_i_3d, y_cut_i_restacked], axis=2)\n",
    "\n",
    "        y_pred_list.append(y_i_predict_3d)\n",
    "        y_list.append(y_i_3d)\n",
    "\n",
    "        # Measure IoU over entire 3D image after concatenating all of the cuts\n",
    "        iou_list.append({'index': img_dx,\n",
    "                         'iou': calculate_iou(target=y_i_3d, prediction=(y_i_predict_3d > pixel_threshold) * 1)})\n",
    "\n",
    "    # Let's convert the iou to a pandas dataframe\n",
    "    iou_df = pd.DataFrame(iou_list).set_index('index')\n",
    "\n",
    "    return iou_df, y_list, y_pred_list\n"
   ]
  },
  {
   "cell_type": "code",
   "execution_count": 28,
   "id": "reflected-footage",
   "metadata": {},
   "outputs": [],
   "source": [
    "iou_df, _, _ = calculate_iou_df(df_=sample_tr_df, img_dims=(512, 512), model_=None,\n",
    "                          pixel_threshold= 0.5, prediction_batch_size= 32)"
   ]
  },
  {
   "cell_type": "code",
   "execution_count": 29,
   "id": "mathematical-aquarium",
   "metadata": {},
   "outputs": [
    {
     "data": {
      "text/plain": [
       "0"
      ]
     },
     "execution_count": 29,
     "metadata": {},
     "output_type": "execute_result"
    }
   ],
   "source": [
    "iou_df.iou.isna().sum()"
   ]
  },
  {
   "cell_type": "code",
   "execution_count": 30,
   "id": "prospective-disney",
   "metadata": {},
   "outputs": [
    {
     "data": {
      "text/plain": [
       "0.04927614325935405"
      ]
     },
     "execution_count": 30,
     "metadata": {},
     "output_type": "execute_result"
    }
   ],
   "source": [
    "iou_df.iou.mean()"
   ]
  },
  {
   "cell_type": "code",
   "execution_count": 31,
   "id": "eight-shareware",
   "metadata": {},
   "outputs": [
    {
     "data": {
      "text/html": [
       "<div>\n",
       "<style scoped>\n",
       "    .dataframe tbody tr th:only-of-type {\n",
       "        vertical-align: middle;\n",
       "    }\n",
       "\n",
       "    .dataframe tbody tr th {\n",
       "        vertical-align: top;\n",
       "    }\n",
       "\n",
       "    .dataframe thead th {\n",
       "        text-align: right;\n",
       "    }\n",
       "</style>\n",
       "<table border=\"1\" class=\"dataframe\">\n",
       "  <thead>\n",
       "    <tr style=\"text-align: right;\">\n",
       "      <th></th>\n",
       "      <th>iou</th>\n",
       "    </tr>\n",
       "    <tr>\n",
       "      <th>index</th>\n",
       "      <th></th>\n",
       "    </tr>\n",
       "  </thead>\n",
       "  <tbody>\n",
       "    <tr>\n",
       "      <th>011</th>\n",
       "      <td>0.000000</td>\n",
       "    </tr>\n",
       "    <tr>\n",
       "      <th>028</th>\n",
       "      <td>0.000000</td>\n",
       "    </tr>\n",
       "    <tr>\n",
       "      <th>031</th>\n",
       "      <td>0.000000</td>\n",
       "    </tr>\n",
       "    <tr>\n",
       "      <th>088</th>\n",
       "      <td>0.213227</td>\n",
       "    </tr>\n",
       "    <tr>\n",
       "      <th>111</th>\n",
       "      <td>0.180982</td>\n",
       "    </tr>\n",
       "    <tr>\n",
       "      <th>124</th>\n",
       "      <td>0.000000</td>\n",
       "    </tr>\n",
       "    <tr>\n",
       "      <th>162</th>\n",
       "      <td>0.000000</td>\n",
       "    </tr>\n",
       "    <tr>\n",
       "      <th>164</th>\n",
       "      <td>0.000000</td>\n",
       "    </tr>\n",
       "  </tbody>\n",
       "</table>\n",
       "</div>"
      ],
      "text/plain": [
       "            iou\n",
       "index          \n",
       "011    0.000000\n",
       "028    0.000000\n",
       "031    0.000000\n",
       "088    0.213227\n",
       "111    0.180982\n",
       "124    0.000000\n",
       "162    0.000000\n",
       "164    0.000000"
      ]
     },
     "execution_count": 31,
     "metadata": {},
     "output_type": "execute_result"
    }
   ],
   "source": [
    "iou_df"
   ]
  }
 ],
 "metadata": {
  "kernelspec": {
   "display_name": "Python 3",
   "language": "python",
   "name": "python3"
  },
  "language_info": {
   "codemirror_mode": {
    "name": "ipython",
    "version": 3
   },
   "file_extension": ".py",
   "mimetype": "text/x-python",
   "name": "python",
   "nbconvert_exporter": "python",
   "pygments_lexer": "ipython3",
   "version": "3.7.10"
  }
 },
 "nbformat": 4,
 "nbformat_minor": 5
}
