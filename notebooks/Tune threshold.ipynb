{
 "cells": [
  {
   "cell_type": "code",
   "execution_count": 1,
   "id": "least-timer",
   "metadata": {},
   "outputs": [
    {
     "name": "stdout",
     "output_type": "stream",
     "text": [
      "-----------------------------------------\n",
      "keras-unet init: TF version is >= 2.0.0 - using `tf.keras` instead of `Keras`\n",
      "-----------------------------------------\n"
     ]
    }
   ],
   "source": [
    "import os\n",
    "\n",
    "import numpy as np\n",
    "import pandas as pd\n",
    "import tensorflow as tf\n",
    "from keras_unet.metrics import iou, iou_thresholded, dice_coef"
   ]
  },
  {
   "cell_type": "code",
   "execution_count": 2,
   "id": "pregnant-credit",
   "metadata": {},
   "outputs": [],
   "source": [
    "os.chdir('..')"
   ]
  },
  {
   "cell_type": "code",
   "execution_count": 3,
   "id": "opponent-thailand",
   "metadata": {},
   "outputs": [],
   "source": [
    "from model.metric_utils import calculate_iou_df,  calculate_iou \n",
    "from model.loss_functions import jaccard_distance_loss, focal_loss, dice_coef_loss, binary_focal_loss"
   ]
  },
  {
   "cell_type": "markdown",
   "id": "cardiac-finance",
   "metadata": {},
   "source": [
    "# Tune threshold for a scpecific model checkpoint"
   ]
  },
  {
   "cell_type": "code",
   "execution_count": 4,
   "id": "enabling-mouth",
   "metadata": {},
   "outputs": [],
   "source": [
    "holdout_df_pkl_path_dir = os.path.join('preprocessed_dataframes', 'holdout_fold_0_df_cancer_info.pkl')\n",
    "\n",
    "model_path = './best_performing_model/model_sampling.17-0.09.h5'\n",
    "model_resize_dims = (128, 128)\n",
    "loss_fn = binary_focal_loss(gamma=2., alpha=0.7)\n",
    "prediction_batch_size = 32\n",
    "pixel_threshold = 0.0875"
   ]
  },
  {
   "cell_type": "markdown",
   "id": "olympic-harvard",
   "metadata": {},
   "source": [
    "Load `holdout_df` for `fold_0` (This assumes you have already executed the `main.py --mode train`)"
   ]
  },
  {
   "cell_type": "code",
   "execution_count": 18,
   "id": "downtown-optimization",
   "metadata": {},
   "outputs": [
    {
     "data": {
      "text/html": [
       "<div>\n",
       "<style scoped>\n",
       "    .dataframe tbody tr th:only-of-type {\n",
       "        vertical-align: middle;\n",
       "    }\n",
       "\n",
       "    .dataframe tbody tr th {\n",
       "        vertical-align: top;\n",
       "    }\n",
       "\n",
       "    .dataframe thead th {\n",
       "        text-align: right;\n",
       "    }\n",
       "</style>\n",
       "<table border=\"1\" class=\"dataframe\">\n",
       "  <thead>\n",
       "    <tr style=\"text-align: right;\">\n",
       "      <th></th>\n",
       "      <th></th>\n",
       "      <th>x_tr_img_path</th>\n",
       "      <th>depth</th>\n",
       "      <th>y_tr_img_path</th>\n",
       "      <th>cancer_pixel_area</th>\n",
       "      <th>has_cancer_pixels</th>\n",
       "    </tr>\n",
       "    <tr>\n",
       "      <th>index</th>\n",
       "      <th>depth_i</th>\n",
       "      <th></th>\n",
       "      <th></th>\n",
       "      <th></th>\n",
       "      <th></th>\n",
       "      <th></th>\n",
       "    </tr>\n",
       "  </thead>\n",
       "  <tbody>\n",
       "    <tr>\n",
       "      <th rowspan=\"5\" valign=\"top\">001</th>\n",
       "      <th>0</th>\n",
       "      <td>ml4h_proj1_colon_cancer_ct\\imagesTr\\colon_001....</td>\n",
       "      <td>60</td>\n",
       "      <td>ml4h_proj1_colon_cancer_ct\\labelsTr\\colon_001....</td>\n",
       "      <td>0.0</td>\n",
       "      <td>False</td>\n",
       "    </tr>\n",
       "    <tr>\n",
       "      <th>1</th>\n",
       "      <td>ml4h_proj1_colon_cancer_ct\\imagesTr\\colon_001....</td>\n",
       "      <td>60</td>\n",
       "      <td>ml4h_proj1_colon_cancer_ct\\labelsTr\\colon_001....</td>\n",
       "      <td>0.0</td>\n",
       "      <td>False</td>\n",
       "    </tr>\n",
       "    <tr>\n",
       "      <th>2</th>\n",
       "      <td>ml4h_proj1_colon_cancer_ct\\imagesTr\\colon_001....</td>\n",
       "      <td>60</td>\n",
       "      <td>ml4h_proj1_colon_cancer_ct\\labelsTr\\colon_001....</td>\n",
       "      <td>0.0</td>\n",
       "      <td>False</td>\n",
       "    </tr>\n",
       "    <tr>\n",
       "      <th>3</th>\n",
       "      <td>ml4h_proj1_colon_cancer_ct\\imagesTr\\colon_001....</td>\n",
       "      <td>60</td>\n",
       "      <td>ml4h_proj1_colon_cancer_ct\\labelsTr\\colon_001....</td>\n",
       "      <td>0.0</td>\n",
       "      <td>False</td>\n",
       "    </tr>\n",
       "    <tr>\n",
       "      <th>4</th>\n",
       "      <td>ml4h_proj1_colon_cancer_ct\\imagesTr\\colon_001....</td>\n",
       "      <td>60</td>\n",
       "      <td>ml4h_proj1_colon_cancer_ct\\labelsTr\\colon_001....</td>\n",
       "      <td>0.0</td>\n",
       "      <td>False</td>\n",
       "    </tr>\n",
       "  </tbody>\n",
       "</table>\n",
       "</div>"
      ],
      "text/plain": [
       "                                                   x_tr_img_path  depth  \\\n",
       "index depth_i                                                             \n",
       "001   0        ml4h_proj1_colon_cancer_ct\\imagesTr\\colon_001....     60   \n",
       "      1        ml4h_proj1_colon_cancer_ct\\imagesTr\\colon_001....     60   \n",
       "      2        ml4h_proj1_colon_cancer_ct\\imagesTr\\colon_001....     60   \n",
       "      3        ml4h_proj1_colon_cancer_ct\\imagesTr\\colon_001....     60   \n",
       "      4        ml4h_proj1_colon_cancer_ct\\imagesTr\\colon_001....     60   \n",
       "\n",
       "                                                   y_tr_img_path  \\\n",
       "index depth_i                                                      \n",
       "001   0        ml4h_proj1_colon_cancer_ct\\labelsTr\\colon_001....   \n",
       "      1        ml4h_proj1_colon_cancer_ct\\labelsTr\\colon_001....   \n",
       "      2        ml4h_proj1_colon_cancer_ct\\labelsTr\\colon_001....   \n",
       "      3        ml4h_proj1_colon_cancer_ct\\labelsTr\\colon_001....   \n",
       "      4        ml4h_proj1_colon_cancer_ct\\labelsTr\\colon_001....   \n",
       "\n",
       "               cancer_pixel_area  has_cancer_pixels  \n",
       "index depth_i                                        \n",
       "001   0                      0.0              False  \n",
       "      1                      0.0              False  \n",
       "      2                      0.0              False  \n",
       "      3                      0.0              False  \n",
       "      4                      0.0              False  "
      ]
     },
     "execution_count": 18,
     "metadata": {},
     "output_type": "execute_result"
    }
   ],
   "source": [
    "holdout_fold_0_df = pd.read_pickle(holdout_df_pkl_path_dir)\n",
    "\n",
    "holdout_fold_0_df.head()"
   ]
  },
  {
   "cell_type": "markdown",
   "id": "marine-sampling",
   "metadata": {},
   "source": [
    "Load model"
   ]
  },
  {
   "cell_type": "code",
   "execution_count": 7,
   "id": "future-luxembourg",
   "metadata": {
    "executionInfo": {
     "elapsed": 4578,
     "status": "ok",
     "timestamp": 1616665286281,
     "user": {
      "displayName": "Juan Diego Bermeo",
      "photoUrl": "",
      "userId": "11124578296137739363"
     },
     "user_tz": -60
    },
    "id": "LidTkde-va0p"
   },
   "outputs": [],
   "source": [
    "model = model = tf.keras.models.load_model(\n",
    "    model_path,\n",
    "    custom_objects={'iou':iou, 'iou_thresholded': iou_thresholded,\n",
    "                    'binary_focal_loss_fixed': loss_fn})"
   ]
  },
  {
   "cell_type": "code",
   "execution_count": 8,
   "id": "australian-evening",
   "metadata": {
    "executionInfo": {
     "elapsed": 2119071,
     "status": "ok",
     "timestamp": 1616667486433,
     "user": {
      "displayName": "Juan Diego Bermeo",
      "photoUrl": "",
      "userId": "11124578296137739363"
     },
     "user_tz": -60
    },
    "id": "H8UGKWjSgW8U"
   },
   "outputs": [],
   "source": [
    "iou_df, y_list, y_pred_list = calculate_iou_df(df_=holdout_fold_0_df, img_dims=model_resize_dims,\n",
    "                                               model_=model, pixel_threshold=pixel_threshold,\n",
    "                                               prediction_batch_size=prediction_batch_size)"
   ]
  },
  {
   "cell_type": "code",
   "execution_count": 9,
   "id": "fixed-operation",
   "metadata": {
    "colab": {
     "base_uri": "https://localhost:8080/",
     "height": 377
    },
    "executionInfo": {
     "elapsed": 2118234,
     "status": "ok",
     "timestamp": 1616667486438,
     "user": {
      "displayName": "Juan Diego Bermeo",
      "photoUrl": "",
      "userId": "11124578296137739363"
     },
     "user_tz": -60
    },
    "id": "VfllLbZoiWfW",
    "outputId": "7f24ff43-e36c-40e1-fce9-90321dd5833b"
   },
   "outputs": [
    {
     "data": {
      "text/html": [
       "<div>\n",
       "<style scoped>\n",
       "    .dataframe tbody tr th:only-of-type {\n",
       "        vertical-align: middle;\n",
       "    }\n",
       "\n",
       "    .dataframe tbody tr th {\n",
       "        vertical-align: top;\n",
       "    }\n",
       "\n",
       "    .dataframe thead th {\n",
       "        text-align: right;\n",
       "    }\n",
       "</style>\n",
       "<table border=\"1\" class=\"dataframe\">\n",
       "  <thead>\n",
       "    <tr style=\"text-align: right;\">\n",
       "      <th></th>\n",
       "      <th>iou</th>\n",
       "    </tr>\n",
       "    <tr>\n",
       "      <th>index</th>\n",
       "      <th></th>\n",
       "    </tr>\n",
       "  </thead>\n",
       "  <tbody>\n",
       "    <tr>\n",
       "      <th>001</th>\n",
       "      <td>0.000000</td>\n",
       "    </tr>\n",
       "    <tr>\n",
       "      <th>008</th>\n",
       "      <td>0.014979</td>\n",
       "    </tr>\n",
       "    <tr>\n",
       "      <th>009</th>\n",
       "      <td>0.000000</td>\n",
       "    </tr>\n",
       "    <tr>\n",
       "      <th>015</th>\n",
       "      <td>0.000000</td>\n",
       "    </tr>\n",
       "    <tr>\n",
       "      <th>050</th>\n",
       "      <td>0.109385</td>\n",
       "    </tr>\n",
       "    <tr>\n",
       "      <th>096</th>\n",
       "      <td>0.000000</td>\n",
       "    </tr>\n",
       "    <tr>\n",
       "      <th>115</th>\n",
       "      <td>0.000198</td>\n",
       "    </tr>\n",
       "    <tr>\n",
       "      <th>126</th>\n",
       "      <td>0.018269</td>\n",
       "    </tr>\n",
       "    <tr>\n",
       "      <th>141</th>\n",
       "      <td>0.000000</td>\n",
       "    </tr>\n",
       "    <tr>\n",
       "      <th>142</th>\n",
       "      <td>0.017669</td>\n",
       "    </tr>\n",
       "  </tbody>\n",
       "</table>\n",
       "</div>"
      ],
      "text/plain": [
       "            iou\n",
       "index          \n",
       "001    0.000000\n",
       "008    0.014979\n",
       "009    0.000000\n",
       "015    0.000000\n",
       "050    0.109385\n",
       "096    0.000000\n",
       "115    0.000198\n",
       "126    0.018269\n",
       "141    0.000000\n",
       "142    0.017669"
      ]
     },
     "execution_count": 9,
     "metadata": {},
     "output_type": "execute_result"
    }
   ],
   "source": [
    "iou_df"
   ]
  },
  {
   "cell_type": "code",
   "execution_count": 10,
   "id": "driven-roulette",
   "metadata": {
    "colab": {
     "base_uri": "https://localhost:8080/"
    },
    "executionInfo": {
     "elapsed": 2116248,
     "status": "ok",
     "timestamp": 1616667486439,
     "user": {
      "displayName": "Juan Diego Bermeo",
      "photoUrl": "",
      "userId": "11124578296137739363"
     },
     "user_tz": -60
    },
    "id": "tKmnCsskk5_L",
    "outputId": "10ea686b-f25b-4f48-e76c-45c2a2878d27"
   },
   "outputs": [
    {
     "data": {
      "text/plain": [
       "0.016050000706552655"
      ]
     },
     "execution_count": 10,
     "metadata": {},
     "output_type": "execute_result"
    }
   ],
   "source": [
    "iou_df.iou.mean()"
   ]
  },
  {
   "cell_type": "markdown",
   "id": "comfortable-reliance",
   "metadata": {
    "id": "14uWGRULg8VX"
   },
   "source": [
    "Check mins and max of the predicted pixels to set the ranges when looking for a good threshold"
   ]
  },
  {
   "cell_type": "code",
   "execution_count": 11,
   "id": "certain-recorder",
   "metadata": {
    "colab": {
     "base_uri": "https://localhost:8080/"
    },
    "executionInfo": {
     "elapsed": 2115701,
     "status": "ok",
     "timestamp": 1616667486439,
     "user": {
      "displayName": "Juan Diego Bermeo",
      "photoUrl": "",
      "userId": "11124578296137739363"
     },
     "user_tz": -60
    },
    "id": "iDd0P84Og5dL",
    "outputId": "825c01a0-b9aa-4e85-e4ac-b5c6766bf327"
   },
   "outputs": [
    {
     "name": "stdout",
     "output_type": "stream",
     "text": [
      "0.024295947\n",
      "0.022170266\n",
      "0.024316907\n",
      "0.027923748\n",
      "0.02572728\n",
      "0.023608748\n",
      "0.02272472\n",
      "0.024095915\n",
      "0.027042862\n",
      "0.023235222\n"
     ]
    }
   ],
   "source": [
    "for y_i, y_pred_i in zip(y_list, y_pred_list):\n",
    "  print(np.min(y_pred_i))"
   ]
  },
  {
   "cell_type": "code",
   "execution_count": 12,
   "id": "lyric-silicon",
   "metadata": {
    "colab": {
     "base_uri": "https://localhost:8080/"
    },
    "executionInfo": {
     "elapsed": 2114484,
     "status": "ok",
     "timestamp": 1616667486440,
     "user": {
      "displayName": "Juan Diego Bermeo",
      "photoUrl": "",
      "userId": "11124578296137739363"
     },
     "user_tz": -60
    },
    "id": "0Us6FUxgg7cy",
    "outputId": "f7133d3f-f8a9-45ba-b765-0db289bb0073"
   },
   "outputs": [
    {
     "name": "stdout",
     "output_type": "stream",
     "text": [
      "0.18731242\n",
      "0.21498904\n",
      "0.22245656\n",
      "0.12731746\n",
      "0.18486786\n",
      "0.2647509\n",
      "0.15172875\n",
      "0.30670488\n",
      "0.23900378\n",
      "0.23258016\n"
     ]
    }
   ],
   "source": [
    "for y_i, y_pred_i in zip(y_list, y_pred_list):\n",
    "  print(np.max(y_pred_i))"
   ]
  },
  {
   "cell_type": "code",
   "execution_count": 13,
   "id": "executed-regulation",
   "metadata": {
    "colab": {
     "base_uri": "https://localhost:8080/",
     "height": 293
    },
    "executionInfo": {
     "elapsed": 2117348,
     "status": "ok",
     "timestamp": 1616667490320,
     "user": {
      "displayName": "Juan Diego Bermeo",
      "photoUrl": "",
      "userId": "11124578296137739363"
     },
     "user_tz": -60
    },
    "id": "6p7iug-ehF-A",
    "outputId": "03de1e62-3845-4971-ea14-76c77ddfae00"
   },
   "outputs": [
    {
     "data": {
      "text/plain": [
       "<AxesSubplot:ylabel='Frequency'>"
      ]
     },
     "execution_count": 13,
     "metadata": {},
     "output_type": "execute_result"
    },
    {
     "data": {
      "image/png": "[encoded data removed]",
      "text/plain": [
       "<Figure size 432x288 with 1 Axes>"
      ]
     },
     "metadata": {
      "needs_background": "light"
     },
     "output_type": "display_data"
    }
   ],
   "source": [
    "# This is very similar to what the train script saves, except that it does it for 5 images sampled at random\n",
    "pd.Series(np.unique(y_pred_list[8])).plot.hist(bins=35)"
   ]
  },
  {
   "cell_type": "markdown",
   "id": "mechanical-annual",
   "metadata": {
    "id": "Lr9IgRpYhJon"
   },
   "source": [
    "Look for thresholds that have a better IoU"
   ]
  },
  {
   "cell_type": "code",
   "execution_count": 14,
   "id": "irish-satisfaction",
   "metadata": {
    "executionInfo": {
     "elapsed": 62651,
     "status": "ok",
     "timestamp": 1616663924603,
     "user": {
      "displayName": "Juan Diego Bermeo",
      "photoUrl": "",
      "userId": "11124578296137739363"
     },
     "user_tz": -60
    },
    "id": "as2U4u-4hJta"
   },
   "outputs": [],
   "source": [
    "iou_list = list()\n",
    "min_theshold = 0\n",
    "max_threshold = 0.1\n",
    "n_samples = 20\n",
    "true_label_threshold = 0.5\n",
    "result_list = list()\n",
    "\n",
    "for threshold in np.random.uniform(min_theshold, max_threshold, n_samples):\n",
    "  for y_i, y_pred_i in zip(y_list, y_pred_list):\n",
    "    img_i_iou = calculate_iou(target=(y_i > true_label_threshold)*1,\n",
    "                              prediction=(y_pred_i > threshold)*1)\n",
    "    iou_list.append(img_i_iou)  \n",
    "\n",
    "  result_list.append({'threshold': threshold, 'mean_iou':np.mean(img_i_iou)})"
   ]
  },
  {
   "cell_type": "code",
   "execution_count": 15,
   "id": "facial-secondary",
   "metadata": {
    "colab": {
     "base_uri": "https://localhost:8080/",
     "height": 647
    },
    "executionInfo": {
     "elapsed": 59092,
     "status": "ok",
     "timestamp": 1616663924603,
     "user": {
      "displayName": "Juan Diego Bermeo",
      "photoUrl": "",
      "userId": "11124578296137739363"
     },
     "user_tz": -60
    },
    "id": "xDTWynqUhRzR",
    "outputId": "bd67f52f-c59e-4e47-c682-1a2deefe72c7"
   },
   "outputs": [
    {
     "data": {
      "text/html": [
       "<div>\n",
       "<style scoped>\n",
       "    .dataframe tbody tr th:only-of-type {\n",
       "        vertical-align: middle;\n",
       "    }\n",
       "\n",
       "    .dataframe tbody tr th {\n",
       "        vertical-align: top;\n",
       "    }\n",
       "\n",
       "    .dataframe thead th {\n",
       "        text-align: right;\n",
       "    }\n",
       "</style>\n",
       "<table border=\"1\" class=\"dataframe\">\n",
       "  <thead>\n",
       "    <tr style=\"text-align: right;\">\n",
       "      <th></th>\n",
       "      <th>threshold</th>\n",
       "      <th>mean_iou</th>\n",
       "    </tr>\n",
       "  </thead>\n",
       "  <tbody>\n",
       "    <tr>\n",
       "      <th>0</th>\n",
       "      <td>0.060020</td>\n",
       "      <td>0.003520</td>\n",
       "    </tr>\n",
       "    <tr>\n",
       "      <th>1</th>\n",
       "      <td>0.034662</td>\n",
       "      <td>0.000497</td>\n",
       "    </tr>\n",
       "    <tr>\n",
       "      <th>2</th>\n",
       "      <td>0.000504</td>\n",
       "      <td>0.000497</td>\n",
       "    </tr>\n",
       "    <tr>\n",
       "      <th>3</th>\n",
       "      <td>0.040879</td>\n",
       "      <td>0.000501</td>\n",
       "    </tr>\n",
       "    <tr>\n",
       "      <th>4</th>\n",
       "      <td>0.038922</td>\n",
       "      <td>0.000498</td>\n",
       "    </tr>\n",
       "    <tr>\n",
       "      <th>5</th>\n",
       "      <td>0.041767</td>\n",
       "      <td>0.000503</td>\n",
       "    </tr>\n",
       "    <tr>\n",
       "      <th>6</th>\n",
       "      <td>0.077292</td>\n",
       "      <td>0.012094</td>\n",
       "    </tr>\n",
       "    <tr>\n",
       "      <th>7</th>\n",
       "      <td>0.038823</td>\n",
       "      <td>0.000498</td>\n",
       "    </tr>\n",
       "    <tr>\n",
       "      <th>8</th>\n",
       "      <td>0.016102</td>\n",
       "      <td>0.000497</td>\n",
       "    </tr>\n",
       "    <tr>\n",
       "      <th>9</th>\n",
       "      <td>0.033071</td>\n",
       "      <td>0.000497</td>\n",
       "    </tr>\n",
       "    <tr>\n",
       "      <th>10</th>\n",
       "      <td>0.081670</td>\n",
       "      <td>0.014812</td>\n",
       "    </tr>\n",
       "    <tr>\n",
       "      <th>11</th>\n",
       "      <td>0.028567</td>\n",
       "      <td>0.000497</td>\n",
       "    </tr>\n",
       "    <tr>\n",
       "      <th>12</th>\n",
       "      <td>0.018843</td>\n",
       "      <td>0.000497</td>\n",
       "    </tr>\n",
       "    <tr>\n",
       "      <th>13</th>\n",
       "      <td>0.070325</td>\n",
       "      <td>0.008233</td>\n",
       "    </tr>\n",
       "    <tr>\n",
       "      <th>14</th>\n",
       "      <td>0.058679</td>\n",
       "      <td>0.002783</td>\n",
       "    </tr>\n",
       "    <tr>\n",
       "      <th>15</th>\n",
       "      <td>0.065902</td>\n",
       "      <td>0.006073</td>\n",
       "    </tr>\n",
       "    <tr>\n",
       "      <th>16</th>\n",
       "      <td>0.024066</td>\n",
       "      <td>0.000497</td>\n",
       "    </tr>\n",
       "    <tr>\n",
       "      <th>17</th>\n",
       "      <td>0.016010</td>\n",
       "      <td>0.000497</td>\n",
       "    </tr>\n",
       "    <tr>\n",
       "      <th>18</th>\n",
       "      <td>0.028378</td>\n",
       "      <td>0.000497</td>\n",
       "    </tr>\n",
       "    <tr>\n",
       "      <th>19</th>\n",
       "      <td>0.036300</td>\n",
       "      <td>0.000498</td>\n",
       "    </tr>\n",
       "  </tbody>\n",
       "</table>\n",
       "</div>"
      ],
      "text/plain": [
       "    threshold  mean_iou\n",
       "0    0.060020  0.003520\n",
       "1    0.034662  0.000497\n",
       "2    0.000504  0.000497\n",
       "3    0.040879  0.000501\n",
       "4    0.038922  0.000498\n",
       "5    0.041767  0.000503\n",
       "6    0.077292  0.012094\n",
       "7    0.038823  0.000498\n",
       "8    0.016102  0.000497\n",
       "9    0.033071  0.000497\n",
       "10   0.081670  0.014812\n",
       "11   0.028567  0.000497\n",
       "12   0.018843  0.000497\n",
       "13   0.070325  0.008233\n",
       "14   0.058679  0.002783\n",
       "15   0.065902  0.006073\n",
       "16   0.024066  0.000497\n",
       "17   0.016010  0.000497\n",
       "18   0.028378  0.000497\n",
       "19   0.036300  0.000498"
      ]
     },
     "execution_count": 15,
     "metadata": {},
     "output_type": "execute_result"
    }
   ],
   "source": [
    "results_df = pd.DataFrame(result_list)\n",
    "results_df"
   ]
  },
  {
   "cell_type": "code",
   "execution_count": 16,
   "id": "roman-sustainability",
   "metadata": {
    "colab": {
     "base_uri": "https://localhost:8080/"
    },
    "executionInfo": {
     "elapsed": 57544,
     "status": "ok",
     "timestamp": 1616663924604,
     "user": {
      "displayName": "Juan Diego Bermeo",
      "photoUrl": "",
      "userId": "11124578296137739363"
     },
     "user_tz": -60
    },
    "id": "gedyp8Ddq06D",
    "outputId": "cb48350c-9ce9-49ce-8902-5511d65ea5ba"
   },
   "outputs": [
    {
     "name": "stdout",
     "output_type": "stream",
     "text": [
      "Best theshold\n"
     ]
    },
    {
     "data": {
      "text/plain": [
       "0.08166977625100674"
      ]
     },
     "execution_count": 16,
     "metadata": {},
     "output_type": "execute_result"
    }
   ],
   "source": [
    "print('Best theshold')\n",
    "results_df.threshold[results_df.mean_iou.idxmax()]"
   ]
  },
  {
   "cell_type": "code",
   "execution_count": 17,
   "id": "occasional-blocking",
   "metadata": {
    "colab": {
     "base_uri": "https://localhost:8080/"
    },
    "executionInfo": {
     "elapsed": 57544,
     "status": "ok",
     "timestamp": 1616663924604,
     "user": {
      "displayName": "Juan Diego Bermeo",
      "photoUrl": "",
      "userId": "11124578296137739363"
     },
     "user_tz": -60
    },
    "id": "gedyp8Ddq06D",
    "outputId": "cb48350c-9ce9-49ce-8902-5511d65ea5ba"
   },
   "outputs": [
    {
     "name": "stdout",
     "output_type": "stream",
     "text": [
      "IoU of the best theshold\n"
     ]
    },
    {
     "data": {
      "text/plain": [
       "0.014812076945567685"
      ]
     },
     "execution_count": 17,
     "metadata": {},
     "output_type": "execute_result"
    }
   ],
   "source": [
    "print('IoU of the best theshold')\n",
    "results_df.mean_iou.max()"
   ]
  }
 ],
 "metadata": {
  "kernelspec": {
   "display_name": "Python 3",
   "language": "python",
   "name": "python3"
  },
  "language_info": {
   "codemirror_mode": {
    "name": "ipython",
    "version": 3
   },
   "file_extension": ".py",
   "mimetype": "text/x-python",
   "name": "python",
   "nbconvert_exporter": "python",
   "pygments_lexer": "ipython3",
   "version": "3.7.10"
  }
 },
 "nbformat": 4,
 "nbformat_minor": 5
}
