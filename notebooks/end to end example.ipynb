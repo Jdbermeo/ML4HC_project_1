{
 "cells": [
  {
   "cell_type": "code",
   "execution_count": 1,
   "id": "stylish-heaven",
   "metadata": {
    "colab": {
     "base_uri": "https://localhost:8080/"
    },
    "executionInfo": {
     "elapsed": 9978,
     "status": "ok",
     "timestamp": 1616660172512,
     "user": {
      "displayName": "Juan Diego Bermeo",
      "photoUrl": "",
      "userId": "11124578296137739363"
     },
     "user_tz": -60
    },
    "id": "reported-contest",
    "outputId": "be1710f4-c720-49d2-daa5-8a36344c2ee9"
   },
   "outputs": [
    {
     "name": "stdout",
     "output_type": "stream",
     "text": [
      "-----------------------------------------\n",
      "keras-unet init: TF version is >= 2.0.0 - using `tf.keras` instead of `Keras`\n",
      "-----------------------------------------\n"
     ]
    }
   ],
   "source": [
    "import os\n",
    "\n",
    "import pandas as pd\n",
    "import numpy as np\n",
    "import matplotlib.pyplot as plt\n",
    "from sklearn.model_selection import KFold \n",
    "from keras_unet.models import custom_unet\n",
    "import tensorflow as tf \n",
    "from tensorflow.keras.optimizers import Adam, SGD\n",
    "from keras_unet.metrics import iou, iou_thresholded, dice_coef"
   ]
  },
  {
   "cell_type": "code",
   "execution_count": 2,
   "id": "proof-hours",
   "metadata": {},
   "outputs": [],
   "source": [
    "os.chdir('..')"
   ]
  },
  {
   "cell_type": "code",
   "execution_count": 26,
   "id": "primary-argument",
   "metadata": {
    "colab": {
     "base_uri": "https://localhost:8080/"
    },
    "executionInfo": {
     "elapsed": 9978,
     "status": "ok",
     "timestamp": 1616660172512,
     "user": {
      "displayName": "Juan Diego Bermeo",
      "photoUrl": "",
      "userId": "11124578296137739363"
     },
     "user_tz": -60
    },
    "id": "reported-contest",
    "outputId": "be1710f4-c720-49d2-daa5-8a36344c2ee9"
   },
   "outputs": [],
   "source": [
    "from preprocessing.get_ct_scan_information import build_train_test_df, get_cancer_pixel_count_df, add_cancer_pixel_info\n",
    "from model.img_generator import DataGenerator2D, DataGenerator3D\n",
    "from model.predict import predict_test_set\n",
    "from model.metric_utils import calculate_iou_df,  calculate_iou \n",
    "from model.loss_functions import jaccard_distance_loss, focal_loss, dice_coef_loss, binary_focal_loss"
   ]
  },
  {
   "cell_type": "markdown",
   "id": "signed-factory",
   "metadata": {
    "id": "asian-maria"
   },
   "source": [
    "## Create dataframes in the format and with the information required by the generator"
   ]
  },
  {
   "cell_type": "markdown",
   "id": "exposed-hindu",
   "metadata": {
    "id": "incident-zimbabwe"
   },
   "source": [
    "### Create datframes with paths and depth for the images"
   ]
  },
  {
   "cell_type": "code",
   "execution_count": 4,
   "id": "arctic-viewer",
   "metadata": {
    "executionInfo": {
     "elapsed": 525,
     "status": "ok",
     "timestamp": 1616660209970,
     "user": {
      "displayName": "Juan Diego Bermeo",
      "photoUrl": "",
      "userId": "11124578296137739363"
     },
     "user_tz": -60
    },
    "id": "invalid-mills"
   },
   "outputs": [],
   "source": [
    "data_path_source_dir = os.path.join('ml4h_proj1_colon_cancer_ct')"
   ]
  },
  {
   "cell_type": "code",
   "execution_count": 5,
   "id": "noticed-connecticut",
   "metadata": {
    "executionInfo": {
     "elapsed": 160413,
     "status": "ok",
     "timestamp": 1616660369861,
     "user": {
      "displayName": "Juan Diego Bermeo",
      "photoUrl": "",
      "userId": "11124578296137739363"
     },
     "user_tz": -60
    },
    "id": "subtle-borough"
   },
   "outputs": [],
   "source": [
    "tr_df, x_ts_df = build_train_test_df(data_path_source_dir)"
   ]
  },
  {
   "cell_type": "code",
   "execution_count": 6,
   "id": "later-metropolitan",
   "metadata": {
    "colab": {
     "base_uri": "https://localhost:8080/",
     "height": 436
    },
    "executionInfo": {
     "elapsed": 77365,
     "status": "ok",
     "timestamp": 1616605532447,
     "user": {
      "displayName": "Juan Diego Bermeo",
      "photoUrl": "",
      "userId": "11124578296137739363"
     },
     "user_tz": -60
    },
    "id": "internal-headquarters",
    "outputId": "13a891e2-21f8-4a5d-90d9-887583bb120d"
   },
   "outputs": [
    {
     "data": {
      "text/html": [
       "<div>\n",
       "<style scoped>\n",
       "    .dataframe tbody tr th:only-of-type {\n",
       "        vertical-align: middle;\n",
       "    }\n",
       "\n",
       "    .dataframe tbody tr th {\n",
       "        vertical-align: top;\n",
       "    }\n",
       "\n",
       "    .dataframe thead th {\n",
       "        text-align: right;\n",
       "    }\n",
       "</style>\n",
       "<table border=\"1\" class=\"dataframe\">\n",
       "  <thead>\n",
       "    <tr style=\"text-align: right;\">\n",
       "      <th></th>\n",
       "      <th></th>\n",
       "      <th>x_tr_img_path</th>\n",
       "      <th>depth</th>\n",
       "      <th>y_tr_img_path</th>\n",
       "    </tr>\n",
       "    <tr>\n",
       "      <th>index</th>\n",
       "      <th>depth_i</th>\n",
       "      <th></th>\n",
       "      <th></th>\n",
       "      <th></th>\n",
       "    </tr>\n",
       "  </thead>\n",
       "  <tbody>\n",
       "    <tr>\n",
       "      <th rowspan=\"5\" valign=\"top\">001</th>\n",
       "      <th>0</th>\n",
       "      <td>ml4h_proj1_colon_cancer_ct\\imagesTr\\colon_001....</td>\n",
       "      <td>60</td>\n",
       "      <td>ml4h_proj1_colon_cancer_ct\\labelsTr\\colon_001....</td>\n",
       "    </tr>\n",
       "    <tr>\n",
       "      <th>1</th>\n",
       "      <td>ml4h_proj1_colon_cancer_ct\\imagesTr\\colon_001....</td>\n",
       "      <td>60</td>\n",
       "      <td>ml4h_proj1_colon_cancer_ct\\labelsTr\\colon_001....</td>\n",
       "    </tr>\n",
       "    <tr>\n",
       "      <th>2</th>\n",
       "      <td>ml4h_proj1_colon_cancer_ct\\imagesTr\\colon_001....</td>\n",
       "      <td>60</td>\n",
       "      <td>ml4h_proj1_colon_cancer_ct\\labelsTr\\colon_001....</td>\n",
       "    </tr>\n",
       "    <tr>\n",
       "      <th>3</th>\n",
       "      <td>ml4h_proj1_colon_cancer_ct\\imagesTr\\colon_001....</td>\n",
       "      <td>60</td>\n",
       "      <td>ml4h_proj1_colon_cancer_ct\\labelsTr\\colon_001....</td>\n",
       "    </tr>\n",
       "    <tr>\n",
       "      <th>4</th>\n",
       "      <td>ml4h_proj1_colon_cancer_ct\\imagesTr\\colon_001....</td>\n",
       "      <td>60</td>\n",
       "      <td>ml4h_proj1_colon_cancer_ct\\labelsTr\\colon_001....</td>\n",
       "    </tr>\n",
       "    <tr>\n",
       "      <th>...</th>\n",
       "      <th>...</th>\n",
       "      <td>...</td>\n",
       "      <td>...</td>\n",
       "      <td>...</td>\n",
       "    </tr>\n",
       "    <tr>\n",
       "      <th rowspan=\"5\" valign=\"top\">169</th>\n",
       "      <th>253</th>\n",
       "      <td>ml4h_proj1_colon_cancer_ct\\imagesTr\\colon_169....</td>\n",
       "      <td>258</td>\n",
       "      <td>ml4h_proj1_colon_cancer_ct\\labelsTr\\colon_169....</td>\n",
       "    </tr>\n",
       "    <tr>\n",
       "      <th>254</th>\n",
       "      <td>ml4h_proj1_colon_cancer_ct\\imagesTr\\colon_169....</td>\n",
       "      <td>258</td>\n",
       "      <td>ml4h_proj1_colon_cancer_ct\\labelsTr\\colon_169....</td>\n",
       "    </tr>\n",
       "    <tr>\n",
       "      <th>255</th>\n",
       "      <td>ml4h_proj1_colon_cancer_ct\\imagesTr\\colon_169....</td>\n",
       "      <td>258</td>\n",
       "      <td>ml4h_proj1_colon_cancer_ct\\labelsTr\\colon_169....</td>\n",
       "    </tr>\n",
       "    <tr>\n",
       "      <th>256</th>\n",
       "      <td>ml4h_proj1_colon_cancer_ct\\imagesTr\\colon_169....</td>\n",
       "      <td>258</td>\n",
       "      <td>ml4h_proj1_colon_cancer_ct\\labelsTr\\colon_169....</td>\n",
       "    </tr>\n",
       "    <tr>\n",
       "      <th>257</th>\n",
       "      <td>ml4h_proj1_colon_cancer_ct\\imagesTr\\colon_169....</td>\n",
       "      <td>258</td>\n",
       "      <td>ml4h_proj1_colon_cancer_ct\\labelsTr\\colon_169....</td>\n",
       "    </tr>\n",
       "  </tbody>\n",
       "</table>\n",
       "<p>10162 rows × 3 columns</p>\n",
       "</div>"
      ],
      "text/plain": [
       "                                                   x_tr_img_path  depth  \\\n",
       "index depth_i                                                             \n",
       "001   0        ml4h_proj1_colon_cancer_ct\\imagesTr\\colon_001....     60   \n",
       "      1        ml4h_proj1_colon_cancer_ct\\imagesTr\\colon_001....     60   \n",
       "      2        ml4h_proj1_colon_cancer_ct\\imagesTr\\colon_001....     60   \n",
       "      3        ml4h_proj1_colon_cancer_ct\\imagesTr\\colon_001....     60   \n",
       "      4        ml4h_proj1_colon_cancer_ct\\imagesTr\\colon_001....     60   \n",
       "...                                                          ...    ...   \n",
       "169   253      ml4h_proj1_colon_cancer_ct\\imagesTr\\colon_169....    258   \n",
       "      254      ml4h_proj1_colon_cancer_ct\\imagesTr\\colon_169....    258   \n",
       "      255      ml4h_proj1_colon_cancer_ct\\imagesTr\\colon_169....    258   \n",
       "      256      ml4h_proj1_colon_cancer_ct\\imagesTr\\colon_169....    258   \n",
       "      257      ml4h_proj1_colon_cancer_ct\\imagesTr\\colon_169....    258   \n",
       "\n",
       "                                                   y_tr_img_path  \n",
       "index depth_i                                                     \n",
       "001   0        ml4h_proj1_colon_cancer_ct\\labelsTr\\colon_001....  \n",
       "      1        ml4h_proj1_colon_cancer_ct\\labelsTr\\colon_001....  \n",
       "      2        ml4h_proj1_colon_cancer_ct\\labelsTr\\colon_001....  \n",
       "      3        ml4h_proj1_colon_cancer_ct\\labelsTr\\colon_001....  \n",
       "      4        ml4h_proj1_colon_cancer_ct\\labelsTr\\colon_001....  \n",
       "...                                                          ...  \n",
       "169   253      ml4h_proj1_colon_cancer_ct\\labelsTr\\colon_169....  \n",
       "      254      ml4h_proj1_colon_cancer_ct\\labelsTr\\colon_169....  \n",
       "      255      ml4h_proj1_colon_cancer_ct\\labelsTr\\colon_169....  \n",
       "      256      ml4h_proj1_colon_cancer_ct\\labelsTr\\colon_169....  \n",
       "      257      ml4h_proj1_colon_cancer_ct\\labelsTr\\colon_169....  \n",
       "\n",
       "[10162 rows x 3 columns]"
      ]
     },
     "execution_count": 6,
     "metadata": {},
     "output_type": "execute_result"
    }
   ],
   "source": [
    "tr_df"
   ]
  },
  {
   "cell_type": "code",
   "execution_count": 7,
   "id": "historical-marketplace",
   "metadata": {
    "colab": {
     "base_uri": "https://localhost:8080/",
     "height": 436
    },
    "executionInfo": {
     "elapsed": 160408,
     "status": "ok",
     "timestamp": 1616660369870,
     "user": {
      "displayName": "Juan Diego Bermeo",
      "photoUrl": "",
      "userId": "11124578296137739363"
     },
     "user_tz": -60
    },
    "id": "after-influence",
    "outputId": "f820b00a-69c9-4666-f1ba-9aeabbedc6e8"
   },
   "outputs": [
    {
     "data": {
      "text/html": [
       "<div>\n",
       "<style scoped>\n",
       "    .dataframe tbody tr th:only-of-type {\n",
       "        vertical-align: middle;\n",
       "    }\n",
       "\n",
       "    .dataframe tbody tr th {\n",
       "        vertical-align: top;\n",
       "    }\n",
       "\n",
       "    .dataframe thead th {\n",
       "        text-align: right;\n",
       "    }\n",
       "</style>\n",
       "<table border=\"1\" class=\"dataframe\">\n",
       "  <thead>\n",
       "    <tr style=\"text-align: right;\">\n",
       "      <th></th>\n",
       "      <th></th>\n",
       "      <th>x_ts_img_path</th>\n",
       "      <th>depth</th>\n",
       "    </tr>\n",
       "    <tr>\n",
       "      <th>index</th>\n",
       "      <th>depth_i</th>\n",
       "      <th></th>\n",
       "      <th></th>\n",
       "    </tr>\n",
       "  </thead>\n",
       "  <tbody>\n",
       "    <tr>\n",
       "      <th rowspan=\"5\" valign=\"top\">171</th>\n",
       "      <th>0</th>\n",
       "      <td>ml4h_proj1_colon_cancer_ct\\imagesTs\\colon_171....</td>\n",
       "      <td>119</td>\n",
       "    </tr>\n",
       "    <tr>\n",
       "      <th>1</th>\n",
       "      <td>ml4h_proj1_colon_cancer_ct\\imagesTs\\colon_171....</td>\n",
       "      <td>119</td>\n",
       "    </tr>\n",
       "    <tr>\n",
       "      <th>2</th>\n",
       "      <td>ml4h_proj1_colon_cancer_ct\\imagesTs\\colon_171....</td>\n",
       "      <td>119</td>\n",
       "    </tr>\n",
       "    <tr>\n",
       "      <th>3</th>\n",
       "      <td>ml4h_proj1_colon_cancer_ct\\imagesTs\\colon_171....</td>\n",
       "      <td>119</td>\n",
       "    </tr>\n",
       "    <tr>\n",
       "      <th>4</th>\n",
       "      <td>ml4h_proj1_colon_cancer_ct\\imagesTs\\colon_171....</td>\n",
       "      <td>119</td>\n",
       "    </tr>\n",
       "    <tr>\n",
       "      <th>...</th>\n",
       "      <th>...</th>\n",
       "      <td>...</td>\n",
       "      <td>...</td>\n",
       "    </tr>\n",
       "    <tr>\n",
       "      <th rowspan=\"5\" valign=\"top\">219</th>\n",
       "      <th>132</th>\n",
       "      <td>ml4h_proj1_colon_cancer_ct\\imagesTs\\colon_219....</td>\n",
       "      <td>137</td>\n",
       "    </tr>\n",
       "    <tr>\n",
       "      <th>133</th>\n",
       "      <td>ml4h_proj1_colon_cancer_ct\\imagesTs\\colon_219....</td>\n",
       "      <td>137</td>\n",
       "    </tr>\n",
       "    <tr>\n",
       "      <th>134</th>\n",
       "      <td>ml4h_proj1_colon_cancer_ct\\imagesTs\\colon_219....</td>\n",
       "      <td>137</td>\n",
       "    </tr>\n",
       "    <tr>\n",
       "      <th>135</th>\n",
       "      <td>ml4h_proj1_colon_cancer_ct\\imagesTs\\colon_219....</td>\n",
       "      <td>137</td>\n",
       "    </tr>\n",
       "    <tr>\n",
       "      <th>136</th>\n",
       "      <td>ml4h_proj1_colon_cancer_ct\\imagesTs\\colon_219....</td>\n",
       "      <td>137</td>\n",
       "    </tr>\n",
       "  </tbody>\n",
       "</table>\n",
       "<p>3324 rows × 2 columns</p>\n",
       "</div>"
      ],
      "text/plain": [
       "                                                   x_ts_img_path  depth\n",
       "index depth_i                                                          \n",
       "171   0        ml4h_proj1_colon_cancer_ct\\imagesTs\\colon_171....    119\n",
       "      1        ml4h_proj1_colon_cancer_ct\\imagesTs\\colon_171....    119\n",
       "      2        ml4h_proj1_colon_cancer_ct\\imagesTs\\colon_171....    119\n",
       "      3        ml4h_proj1_colon_cancer_ct\\imagesTs\\colon_171....    119\n",
       "      4        ml4h_proj1_colon_cancer_ct\\imagesTs\\colon_171....    119\n",
       "...                                                          ...    ...\n",
       "219   132      ml4h_proj1_colon_cancer_ct\\imagesTs\\colon_219....    137\n",
       "      133      ml4h_proj1_colon_cancer_ct\\imagesTs\\colon_219....    137\n",
       "      134      ml4h_proj1_colon_cancer_ct\\imagesTs\\colon_219....    137\n",
       "      135      ml4h_proj1_colon_cancer_ct\\imagesTs\\colon_219....    137\n",
       "      136      ml4h_proj1_colon_cancer_ct\\imagesTs\\colon_219....    137\n",
       "\n",
       "[3324 rows x 2 columns]"
      ]
     },
     "execution_count": 7,
     "metadata": {},
     "output_type": "execute_result"
    }
   ],
   "source": [
    "x_ts_df"
   ]
  },
  {
   "cell_type": "markdown",
   "id": "touched-glucose",
   "metadata": {},
   "source": [
    "Get information of which of the slices contain pixels labeled as cancer tissue from the images of the train set"
   ]
  },
  {
   "cell_type": "code",
   "execution_count": 21,
   "id": "alternate-surface",
   "metadata": {
    "colab": {
     "background_save": true,
     "base_uri": "https://localhost:8080/"
    },
    "id": "a-ruhLSLNSBf",
    "outputId": "302400ce-a7c3-4143-c7c6-ea2c39dc64ac"
   },
   "outputs": [],
   "source": [
    "cancer_pixels_df = get_cancer_pixel_count_df(full_tr_df=tr_df)"
   ]
  },
  {
   "cell_type": "code",
   "execution_count": 22,
   "id": "everyday-warrant",
   "metadata": {
    "colab": {
     "base_uri": "https://localhost:8080/",
     "height": 137
    },
    "executionInfo": {
     "elapsed": 522,
     "status": "ok",
     "timestamp": 1616606252812,
     "user": {
      "displayName": "Juan Diego Bermeo",
      "photoUrl": "",
      "userId": "11124578296137739363"
     },
     "user_tz": -60
    },
    "id": "bsbRImwjPYCF",
    "outputId": "261f3750-3b54-48f4-f971-9466fa0ff844"
   },
   "outputs": [
    {
     "data": {
      "text/html": [
       "<div>\n",
       "<style scoped>\n",
       "    .dataframe tbody tr th:only-of-type {\n",
       "        vertical-align: middle;\n",
       "    }\n",
       "\n",
       "    .dataframe tbody tr th {\n",
       "        vertical-align: top;\n",
       "    }\n",
       "\n",
       "    .dataframe thead th {\n",
       "        text-align: right;\n",
       "    }\n",
       "</style>\n",
       "<table border=\"1\" class=\"dataframe\">\n",
       "  <thead>\n",
       "    <tr style=\"text-align: right;\">\n",
       "      <th></th>\n",
       "      <th></th>\n",
       "      <th>depth</th>\n",
       "      <th>cancer_pixel_area</th>\n",
       "    </tr>\n",
       "    <tr>\n",
       "      <th>index</th>\n",
       "      <th>depth_i</th>\n",
       "      <th></th>\n",
       "      <th></th>\n",
       "    </tr>\n",
       "  </thead>\n",
       "  <tbody>\n",
       "    <tr>\n",
       "      <th rowspan=\"3\" valign=\"top\">001</th>\n",
       "      <th>51</th>\n",
       "      <td>60</td>\n",
       "      <td>841.0</td>\n",
       "    </tr>\n",
       "    <tr>\n",
       "      <th>52</th>\n",
       "      <td>60</td>\n",
       "      <td>646.0</td>\n",
       "    </tr>\n",
       "    <tr>\n",
       "      <th>53</th>\n",
       "      <td>60</td>\n",
       "      <td>296.0</td>\n",
       "    </tr>\n",
       "    <tr>\n",
       "      <th rowspan=\"2\" valign=\"top\">005</th>\n",
       "      <th>44</th>\n",
       "      <td>98</td>\n",
       "      <td>278.0</td>\n",
       "    </tr>\n",
       "    <tr>\n",
       "      <th>50</th>\n",
       "      <td>98</td>\n",
       "      <td>270.0</td>\n",
       "    </tr>\n",
       "    <tr>\n",
       "      <th>...</th>\n",
       "      <th>...</th>\n",
       "      <td>...</td>\n",
       "      <td>...</td>\n",
       "    </tr>\n",
       "    <tr>\n",
       "      <th rowspan=\"5\" valign=\"top\">169</th>\n",
       "      <th>139</th>\n",
       "      <td>258</td>\n",
       "      <td>245.0</td>\n",
       "    </tr>\n",
       "    <tr>\n",
       "      <th>140</th>\n",
       "      <td>258</td>\n",
       "      <td>228.0</td>\n",
       "    </tr>\n",
       "    <tr>\n",
       "      <th>141</th>\n",
       "      <td>258</td>\n",
       "      <td>198.0</td>\n",
       "    </tr>\n",
       "    <tr>\n",
       "      <th>142</th>\n",
       "      <td>258</td>\n",
       "      <td>153.0</td>\n",
       "    </tr>\n",
       "    <tr>\n",
       "      <th>143</th>\n",
       "      <td>258</td>\n",
       "      <td>131.0</td>\n",
       "    </tr>\n",
       "  </tbody>\n",
       "</table>\n",
       "<p>1034 rows × 2 columns</p>\n",
       "</div>"
      ],
      "text/plain": [
       "               depth  cancer_pixel_area\n",
       "index depth_i                          \n",
       "001   51          60              841.0\n",
       "      52          60              646.0\n",
       "      53          60              296.0\n",
       "005   44          98              278.0\n",
       "      50          98              270.0\n",
       "...              ...                ...\n",
       "169   139        258              245.0\n",
       "      140        258              228.0\n",
       "      141        258              198.0\n",
       "      142        258              153.0\n",
       "      143        258              131.0\n",
       "\n",
       "[1034 rows x 2 columns]"
      ]
     },
     "execution_count": 22,
     "metadata": {},
     "output_type": "execute_result"
    }
   ],
   "source": [
    "cancer_pixels_df"
   ]
  },
  {
   "cell_type": "markdown",
   "id": "union-cincinnati",
   "metadata": {
    "id": "published-witness"
   },
   "source": [
    "### Create CV folds for `tr_df`"
   ]
  },
  {
   "cell_type": "markdown",
   "id": "coordinate-collaboration",
   "metadata": {
    "id": "loose-startup"
   },
   "source": [
    "let's go for 10 folds to have a 90/10 split. We can still only use only 3 or 5 to estimate the metrics"
   ]
  },
  {
   "cell_type": "code",
   "execution_count": 8,
   "id": "residential-dealer",
   "metadata": {
    "executionInfo": {
     "elapsed": 160406,
     "status": "ok",
     "timestamp": 1616660369870,
     "user": {
      "displayName": "Juan Diego Bermeo",
      "photoUrl": "",
      "userId": "11124578296137739363"
     },
     "user_tz": -60
    },
    "id": "cross-thickness"
   },
   "outputs": [],
   "source": [
    "def generate_fold_dict(df_, n_folds=3, seed=123):\n",
    "    \n",
    "    img_num_idx_list = df_.index.levels[0]\n",
    "    folder = KFold(n_splits=n_folds, random_state=seed, shuffle=True)\n",
    "    df_fold_dict = dict()\n",
    "    \n",
    "    for i, (train_fold_i, holdout_i) in enumerate(folder.split(img_num_idx_list)):\n",
    "        train_fold_i_idx = img_num_idx_list[train_fold_i]\n",
    "        holdout_i_idx = img_num_idx_list[holdout_i]\n",
    "\n",
    "        df_fold_dict[f'fold_{i}'] = {\n",
    "            'train': df_.loc[pd.IndexSlice[train_fold_i_idx, :], :],\n",
    "            'holdout': df_.loc[pd.IndexSlice[holdout_i_idx, :], :]\n",
    "        }\n",
    "        \n",
    "    return df_fold_dict"
   ]
  },
  {
   "cell_type": "code",
   "execution_count": 9,
   "id": "electoral-finger",
   "metadata": {
    "executionInfo": {
     "elapsed": 160597,
     "status": "ok",
     "timestamp": 1616660370064,
     "user": {
      "displayName": "Juan Diego Bermeo",
      "photoUrl": "",
      "userId": "11124578296137739363"
     },
     "user_tz": -60
    },
    "id": "political-print"
   },
   "outputs": [],
   "source": [
    "tr_fold_df_dict =  generate_fold_dict(df_=tr_df, n_folds=10, seed=123) # 10 folds to have 90/10 split, but we can use only 3 or 5 to estimate the metrics"
   ]
  },
  {
   "cell_type": "code",
   "execution_count": 10,
   "id": "circular-occupation",
   "metadata": {
    "colab": {
     "base_uri": "https://localhost:8080/",
     "height": 436
    },
    "executionInfo": {
     "elapsed": 160586,
     "status": "ok",
     "timestamp": 1616660370065,
     "user": {
      "displayName": "Juan Diego Bermeo",
      "photoUrl": "",
      "userId": "11124578296137739363"
     },
     "user_tz": -60
    },
    "id": "interracial-ontario",
    "outputId": "ff88bd90-4264-4b56-c32c-96465c96991b"
   },
   "outputs": [
    {
     "data": {
      "text/html": [
       "<div>\n",
       "<style scoped>\n",
       "    .dataframe tbody tr th:only-of-type {\n",
       "        vertical-align: middle;\n",
       "    }\n",
       "\n",
       "    .dataframe tbody tr th {\n",
       "        vertical-align: top;\n",
       "    }\n",
       "\n",
       "    .dataframe thead th {\n",
       "        text-align: right;\n",
       "    }\n",
       "</style>\n",
       "<table border=\"1\" class=\"dataframe\">\n",
       "  <thead>\n",
       "    <tr style=\"text-align: right;\">\n",
       "      <th></th>\n",
       "      <th></th>\n",
       "      <th>x_tr_img_path</th>\n",
       "      <th>depth</th>\n",
       "      <th>y_tr_img_path</th>\n",
       "    </tr>\n",
       "    <tr>\n",
       "      <th>index</th>\n",
       "      <th>depth_i</th>\n",
       "      <th></th>\n",
       "      <th></th>\n",
       "      <th></th>\n",
       "    </tr>\n",
       "  </thead>\n",
       "  <tbody>\n",
       "    <tr>\n",
       "      <th rowspan=\"5\" valign=\"top\">005</th>\n",
       "      <th>0</th>\n",
       "      <td>ml4h_proj1_colon_cancer_ct\\imagesTr\\colon_005....</td>\n",
       "      <td>98</td>\n",
       "      <td>ml4h_proj1_colon_cancer_ct\\labelsTr\\colon_005....</td>\n",
       "    </tr>\n",
       "    <tr>\n",
       "      <th>1</th>\n",
       "      <td>ml4h_proj1_colon_cancer_ct\\imagesTr\\colon_005....</td>\n",
       "      <td>98</td>\n",
       "      <td>ml4h_proj1_colon_cancer_ct\\labelsTr\\colon_005....</td>\n",
       "    </tr>\n",
       "    <tr>\n",
       "      <th>2</th>\n",
       "      <td>ml4h_proj1_colon_cancer_ct\\imagesTr\\colon_005....</td>\n",
       "      <td>98</td>\n",
       "      <td>ml4h_proj1_colon_cancer_ct\\labelsTr\\colon_005....</td>\n",
       "    </tr>\n",
       "    <tr>\n",
       "      <th>3</th>\n",
       "      <td>ml4h_proj1_colon_cancer_ct\\imagesTr\\colon_005....</td>\n",
       "      <td>98</td>\n",
       "      <td>ml4h_proj1_colon_cancer_ct\\labelsTr\\colon_005....</td>\n",
       "    </tr>\n",
       "    <tr>\n",
       "      <th>4</th>\n",
       "      <td>ml4h_proj1_colon_cancer_ct\\imagesTr\\colon_005....</td>\n",
       "      <td>98</td>\n",
       "      <td>ml4h_proj1_colon_cancer_ct\\labelsTr\\colon_005....</td>\n",
       "    </tr>\n",
       "    <tr>\n",
       "      <th>...</th>\n",
       "      <th>...</th>\n",
       "      <td>...</td>\n",
       "      <td>...</td>\n",
       "      <td>...</td>\n",
       "    </tr>\n",
       "    <tr>\n",
       "      <th rowspan=\"5\" valign=\"top\">169</th>\n",
       "      <th>253</th>\n",
       "      <td>ml4h_proj1_colon_cancer_ct\\imagesTr\\colon_169....</td>\n",
       "      <td>258</td>\n",
       "      <td>ml4h_proj1_colon_cancer_ct\\labelsTr\\colon_169....</td>\n",
       "    </tr>\n",
       "    <tr>\n",
       "      <th>254</th>\n",
       "      <td>ml4h_proj1_colon_cancer_ct\\imagesTr\\colon_169....</td>\n",
       "      <td>258</td>\n",
       "      <td>ml4h_proj1_colon_cancer_ct\\labelsTr\\colon_169....</td>\n",
       "    </tr>\n",
       "    <tr>\n",
       "      <th>255</th>\n",
       "      <td>ml4h_proj1_colon_cancer_ct\\imagesTr\\colon_169....</td>\n",
       "      <td>258</td>\n",
       "      <td>ml4h_proj1_colon_cancer_ct\\labelsTr\\colon_169....</td>\n",
       "    </tr>\n",
       "    <tr>\n",
       "      <th>256</th>\n",
       "      <td>ml4h_proj1_colon_cancer_ct\\imagesTr\\colon_169....</td>\n",
       "      <td>258</td>\n",
       "      <td>ml4h_proj1_colon_cancer_ct\\labelsTr\\colon_169....</td>\n",
       "    </tr>\n",
       "    <tr>\n",
       "      <th>257</th>\n",
       "      <td>ml4h_proj1_colon_cancer_ct\\imagesTr\\colon_169....</td>\n",
       "      <td>258</td>\n",
       "      <td>ml4h_proj1_colon_cancer_ct\\labelsTr\\colon_169....</td>\n",
       "    </tr>\n",
       "  </tbody>\n",
       "</table>\n",
       "<p>9202 rows × 3 columns</p>\n",
       "</div>"
      ],
      "text/plain": [
       "                                                   x_tr_img_path  depth  \\\n",
       "index depth_i                                                             \n",
       "005   0        ml4h_proj1_colon_cancer_ct\\imagesTr\\colon_005....     98   \n",
       "      1        ml4h_proj1_colon_cancer_ct\\imagesTr\\colon_005....     98   \n",
       "      2        ml4h_proj1_colon_cancer_ct\\imagesTr\\colon_005....     98   \n",
       "      3        ml4h_proj1_colon_cancer_ct\\imagesTr\\colon_005....     98   \n",
       "      4        ml4h_proj1_colon_cancer_ct\\imagesTr\\colon_005....     98   \n",
       "...                                                          ...    ...   \n",
       "169   253      ml4h_proj1_colon_cancer_ct\\imagesTr\\colon_169....    258   \n",
       "      254      ml4h_proj1_colon_cancer_ct\\imagesTr\\colon_169....    258   \n",
       "      255      ml4h_proj1_colon_cancer_ct\\imagesTr\\colon_169....    258   \n",
       "      256      ml4h_proj1_colon_cancer_ct\\imagesTr\\colon_169....    258   \n",
       "      257      ml4h_proj1_colon_cancer_ct\\imagesTr\\colon_169....    258   \n",
       "\n",
       "                                                   y_tr_img_path  \n",
       "index depth_i                                                     \n",
       "005   0        ml4h_proj1_colon_cancer_ct\\labelsTr\\colon_005....  \n",
       "      1        ml4h_proj1_colon_cancer_ct\\labelsTr\\colon_005....  \n",
       "      2        ml4h_proj1_colon_cancer_ct\\labelsTr\\colon_005....  \n",
       "      3        ml4h_proj1_colon_cancer_ct\\labelsTr\\colon_005....  \n",
       "      4        ml4h_proj1_colon_cancer_ct\\labelsTr\\colon_005....  \n",
       "...                                                          ...  \n",
       "169   253      ml4h_proj1_colon_cancer_ct\\labelsTr\\colon_169....  \n",
       "      254      ml4h_proj1_colon_cancer_ct\\labelsTr\\colon_169....  \n",
       "      255      ml4h_proj1_colon_cancer_ct\\labelsTr\\colon_169....  \n",
       "      256      ml4h_proj1_colon_cancer_ct\\labelsTr\\colon_169....  \n",
       "      257      ml4h_proj1_colon_cancer_ct\\labelsTr\\colon_169....  \n",
       "\n",
       "[9202 rows x 3 columns]"
      ]
     },
     "execution_count": 10,
     "metadata": {},
     "output_type": "execute_result"
    }
   ],
   "source": [
    "tr_fold_df_dict['fold_0']['train']"
   ]
  },
  {
   "cell_type": "code",
   "execution_count": 11,
   "id": "surprising-shoulder",
   "metadata": {
    "colab": {
     "base_uri": "https://localhost:8080/",
     "height": 436
    },
    "executionInfo": {
     "elapsed": 160577,
     "status": "ok",
     "timestamp": 1616660370066,
     "user": {
      "displayName": "Juan Diego Bermeo",
      "photoUrl": "",
      "userId": "11124578296137739363"
     },
     "user_tz": -60
    },
    "id": "front-transcript",
    "outputId": "26073874-5f2f-4eb0-9846-72ae78b279c2"
   },
   "outputs": [
    {
     "data": {
      "text/html": [
       "<div>\n",
       "<style scoped>\n",
       "    .dataframe tbody tr th:only-of-type {\n",
       "        vertical-align: middle;\n",
       "    }\n",
       "\n",
       "    .dataframe tbody tr th {\n",
       "        vertical-align: top;\n",
       "    }\n",
       "\n",
       "    .dataframe thead th {\n",
       "        text-align: right;\n",
       "    }\n",
       "</style>\n",
       "<table border=\"1\" class=\"dataframe\">\n",
       "  <thead>\n",
       "    <tr style=\"text-align: right;\">\n",
       "      <th></th>\n",
       "      <th></th>\n",
       "      <th>x_tr_img_path</th>\n",
       "      <th>depth</th>\n",
       "      <th>y_tr_img_path</th>\n",
       "    </tr>\n",
       "    <tr>\n",
       "      <th>index</th>\n",
       "      <th>depth_i</th>\n",
       "      <th></th>\n",
       "      <th></th>\n",
       "      <th></th>\n",
       "    </tr>\n",
       "  </thead>\n",
       "  <tbody>\n",
       "    <tr>\n",
       "      <th rowspan=\"5\" valign=\"top\">001</th>\n",
       "      <th>0</th>\n",
       "      <td>ml4h_proj1_colon_cancer_ct\\imagesTr\\colon_001....</td>\n",
       "      <td>60</td>\n",
       "      <td>ml4h_proj1_colon_cancer_ct\\labelsTr\\colon_001....</td>\n",
       "    </tr>\n",
       "    <tr>\n",
       "      <th>1</th>\n",
       "      <td>ml4h_proj1_colon_cancer_ct\\imagesTr\\colon_001....</td>\n",
       "      <td>60</td>\n",
       "      <td>ml4h_proj1_colon_cancer_ct\\labelsTr\\colon_001....</td>\n",
       "    </tr>\n",
       "    <tr>\n",
       "      <th>2</th>\n",
       "      <td>ml4h_proj1_colon_cancer_ct\\imagesTr\\colon_001....</td>\n",
       "      <td>60</td>\n",
       "      <td>ml4h_proj1_colon_cancer_ct\\labelsTr\\colon_001....</td>\n",
       "    </tr>\n",
       "    <tr>\n",
       "      <th>3</th>\n",
       "      <td>ml4h_proj1_colon_cancer_ct\\imagesTr\\colon_001....</td>\n",
       "      <td>60</td>\n",
       "      <td>ml4h_proj1_colon_cancer_ct\\labelsTr\\colon_001....</td>\n",
       "    </tr>\n",
       "    <tr>\n",
       "      <th>4</th>\n",
       "      <td>ml4h_proj1_colon_cancer_ct\\imagesTr\\colon_001....</td>\n",
       "      <td>60</td>\n",
       "      <td>ml4h_proj1_colon_cancer_ct\\labelsTr\\colon_001....</td>\n",
       "    </tr>\n",
       "    <tr>\n",
       "      <th>...</th>\n",
       "      <th>...</th>\n",
       "      <td>...</td>\n",
       "      <td>...</td>\n",
       "      <td>...</td>\n",
       "    </tr>\n",
       "    <tr>\n",
       "      <th rowspan=\"5\" valign=\"top\">142</th>\n",
       "      <th>97</th>\n",
       "      <td>ml4h_proj1_colon_cancer_ct\\imagesTr\\colon_142....</td>\n",
       "      <td>102</td>\n",
       "      <td>ml4h_proj1_colon_cancer_ct\\labelsTr\\colon_142....</td>\n",
       "    </tr>\n",
       "    <tr>\n",
       "      <th>98</th>\n",
       "      <td>ml4h_proj1_colon_cancer_ct\\imagesTr\\colon_142....</td>\n",
       "      <td>102</td>\n",
       "      <td>ml4h_proj1_colon_cancer_ct\\labelsTr\\colon_142....</td>\n",
       "    </tr>\n",
       "    <tr>\n",
       "      <th>99</th>\n",
       "      <td>ml4h_proj1_colon_cancer_ct\\imagesTr\\colon_142....</td>\n",
       "      <td>102</td>\n",
       "      <td>ml4h_proj1_colon_cancer_ct\\labelsTr\\colon_142....</td>\n",
       "    </tr>\n",
       "    <tr>\n",
       "      <th>100</th>\n",
       "      <td>ml4h_proj1_colon_cancer_ct\\imagesTr\\colon_142....</td>\n",
       "      <td>102</td>\n",
       "      <td>ml4h_proj1_colon_cancer_ct\\labelsTr\\colon_142....</td>\n",
       "    </tr>\n",
       "    <tr>\n",
       "      <th>101</th>\n",
       "      <td>ml4h_proj1_colon_cancer_ct\\imagesTr\\colon_142....</td>\n",
       "      <td>102</td>\n",
       "      <td>ml4h_proj1_colon_cancer_ct\\labelsTr\\colon_142....</td>\n",
       "    </tr>\n",
       "  </tbody>\n",
       "</table>\n",
       "<p>960 rows × 3 columns</p>\n",
       "</div>"
      ],
      "text/plain": [
       "                                                   x_tr_img_path  depth  \\\n",
       "index depth_i                                                             \n",
       "001   0        ml4h_proj1_colon_cancer_ct\\imagesTr\\colon_001....     60   \n",
       "      1        ml4h_proj1_colon_cancer_ct\\imagesTr\\colon_001....     60   \n",
       "      2        ml4h_proj1_colon_cancer_ct\\imagesTr\\colon_001....     60   \n",
       "      3        ml4h_proj1_colon_cancer_ct\\imagesTr\\colon_001....     60   \n",
       "      4        ml4h_proj1_colon_cancer_ct\\imagesTr\\colon_001....     60   \n",
       "...                                                          ...    ...   \n",
       "142   97       ml4h_proj1_colon_cancer_ct\\imagesTr\\colon_142....    102   \n",
       "      98       ml4h_proj1_colon_cancer_ct\\imagesTr\\colon_142....    102   \n",
       "      99       ml4h_proj1_colon_cancer_ct\\imagesTr\\colon_142....    102   \n",
       "      100      ml4h_proj1_colon_cancer_ct\\imagesTr\\colon_142....    102   \n",
       "      101      ml4h_proj1_colon_cancer_ct\\imagesTr\\colon_142....    102   \n",
       "\n",
       "                                                   y_tr_img_path  \n",
       "index depth_i                                                     \n",
       "001   0        ml4h_proj1_colon_cancer_ct\\labelsTr\\colon_001....  \n",
       "      1        ml4h_proj1_colon_cancer_ct\\labelsTr\\colon_001....  \n",
       "      2        ml4h_proj1_colon_cancer_ct\\labelsTr\\colon_001....  \n",
       "      3        ml4h_proj1_colon_cancer_ct\\labelsTr\\colon_001....  \n",
       "      4        ml4h_proj1_colon_cancer_ct\\labelsTr\\colon_001....  \n",
       "...                                                          ...  \n",
       "142   97       ml4h_proj1_colon_cancer_ct\\labelsTr\\colon_142....  \n",
       "      98       ml4h_proj1_colon_cancer_ct\\labelsTr\\colon_142....  \n",
       "      99       ml4h_proj1_colon_cancer_ct\\labelsTr\\colon_142....  \n",
       "      100      ml4h_proj1_colon_cancer_ct\\labelsTr\\colon_142....  \n",
       "      101      ml4h_proj1_colon_cancer_ct\\labelsTr\\colon_142....  \n",
       "\n",
       "[960 rows x 3 columns]"
      ]
     },
     "execution_count": 11,
     "metadata": {},
     "output_type": "execute_result"
    }
   ],
   "source": [
    "tr_fold_df_dict['fold_0']['holdout']"
   ]
  },
  {
   "cell_type": "markdown",
   "id": "brave-horror",
   "metadata": {
    "id": "enormous-leave"
   },
   "source": [
    "## Let's create a generator for the trainset"
   ]
  },
  {
   "cell_type": "markdown",
   "id": "pacific-success",
   "metadata": {
    "id": "combined-league"
   },
   "source": [
    "For the first fold"
   ]
  },
  {
   "cell_type": "code",
   "execution_count": 12,
   "id": "biblical-parking",
   "metadata": {
    "colab": {
     "base_uri": "https://localhost:8080/"
    },
    "executionInfo": {
     "elapsed": 160565,
     "status": "ok",
     "timestamp": 1616660370066,
     "user": {
      "displayName": "Juan Diego Bermeo",
      "photoUrl": "",
      "userId": "11124578296137739363"
     },
     "user_tz": -60
    },
    "id": "R1WgzFGllkJw",
    "outputId": "d3ef656d-2086-4341-95e4-e68e9b2e28fe"
   },
   "outputs": [
    {
     "name": "stdout",
     "output_type": "stream",
     "text": [
      "9202\n",
      "960\n"
     ]
    }
   ],
   "source": [
    "tr_fold_0_df = tr_fold_df_dict['fold_0']['train']\n",
    "holdout_fold_0_df = tr_fold_df_dict['fold_0']['holdout']\n",
    "print(tr_fold_0_df.shape[0])\n",
    "print(holdout_fold_0_df.shape[0])"
   ]
  },
  {
   "cell_type": "code",
   "execution_count": 23,
   "id": "framed-object",
   "metadata": {
    "executionInfo": {
     "elapsed": 518,
     "status": "ok",
     "timestamp": 1616660748928,
     "user": {
      "displayName": "Juan Diego Bermeo",
      "photoUrl": "",
      "userId": "11124578296137739363"
     },
     "user_tz": -60
    },
    "id": "zm0ZNC_aW5dn"
   },
   "outputs": [],
   "source": [
    "tr_fold_0_df_cancer_info = add_cancer_pixel_info(\n",
    "    df_=tr_fold_0_df.copy(), \n",
    "    cancer_pixels_df_=cancer_pixels_df)\n",
    "\n",
    "holdout_fold_0_df_cancer_info = add_cancer_pixel_info(\n",
    "    df_=holdout_fold_0_df.copy(), \n",
    "    cancer_pixels_df_=cancer_pixels_df)"
   ]
  },
  {
   "cell_type": "code",
   "execution_count": 24,
   "id": "acting-council",
   "metadata": {
    "colab": {
     "base_uri": "https://localhost:8080/",
     "height": 436
    },
    "executionInfo": {
     "elapsed": 687,
     "status": "ok",
     "timestamp": 1616593217262,
     "user": {
      "displayName": "Juan Diego Bermeo",
      "photoUrl": "",
      "userId": "11124578296137739363"
     },
     "user_tz": -60
    },
    "id": "sWL8gWwBJJCd",
    "outputId": "ca02265b-3a7d-49b5-a71b-4fa4c438ec05"
   },
   "outputs": [
    {
     "data": {
      "text/html": [
       "<div>\n",
       "<style scoped>\n",
       "    .dataframe tbody tr th:only-of-type {\n",
       "        vertical-align: middle;\n",
       "    }\n",
       "\n",
       "    .dataframe tbody tr th {\n",
       "        vertical-align: top;\n",
       "    }\n",
       "\n",
       "    .dataframe thead th {\n",
       "        text-align: right;\n",
       "    }\n",
       "</style>\n",
       "<table border=\"1\" class=\"dataframe\">\n",
       "  <thead>\n",
       "    <tr style=\"text-align: right;\">\n",
       "      <th></th>\n",
       "      <th></th>\n",
       "      <th>x_tr_img_path</th>\n",
       "      <th>depth</th>\n",
       "      <th>y_tr_img_path</th>\n",
       "      <th>cancer_pixel_area</th>\n",
       "      <th>has_cancer_pixels</th>\n",
       "    </tr>\n",
       "    <tr>\n",
       "      <th>index</th>\n",
       "      <th>depth_i</th>\n",
       "      <th></th>\n",
       "      <th></th>\n",
       "      <th></th>\n",
       "      <th></th>\n",
       "      <th></th>\n",
       "    </tr>\n",
       "  </thead>\n",
       "  <tbody>\n",
       "    <tr>\n",
       "      <th rowspan=\"5\" valign=\"top\">005</th>\n",
       "      <th>0</th>\n",
       "      <td>ml4h_proj1_colon_cancer_ct\\imagesTr\\colon_005....</td>\n",
       "      <td>98</td>\n",
       "      <td>ml4h_proj1_colon_cancer_ct\\labelsTr\\colon_005....</td>\n",
       "      <td>0.0</td>\n",
       "      <td>False</td>\n",
       "    </tr>\n",
       "    <tr>\n",
       "      <th>1</th>\n",
       "      <td>ml4h_proj1_colon_cancer_ct\\imagesTr\\colon_005....</td>\n",
       "      <td>98</td>\n",
       "      <td>ml4h_proj1_colon_cancer_ct\\labelsTr\\colon_005....</td>\n",
       "      <td>0.0</td>\n",
       "      <td>False</td>\n",
       "    </tr>\n",
       "    <tr>\n",
       "      <th>2</th>\n",
       "      <td>ml4h_proj1_colon_cancer_ct\\imagesTr\\colon_005....</td>\n",
       "      <td>98</td>\n",
       "      <td>ml4h_proj1_colon_cancer_ct\\labelsTr\\colon_005....</td>\n",
       "      <td>0.0</td>\n",
       "      <td>False</td>\n",
       "    </tr>\n",
       "    <tr>\n",
       "      <th>3</th>\n",
       "      <td>ml4h_proj1_colon_cancer_ct\\imagesTr\\colon_005....</td>\n",
       "      <td>98</td>\n",
       "      <td>ml4h_proj1_colon_cancer_ct\\labelsTr\\colon_005....</td>\n",
       "      <td>0.0</td>\n",
       "      <td>False</td>\n",
       "    </tr>\n",
       "    <tr>\n",
       "      <th>4</th>\n",
       "      <td>ml4h_proj1_colon_cancer_ct\\imagesTr\\colon_005....</td>\n",
       "      <td>98</td>\n",
       "      <td>ml4h_proj1_colon_cancer_ct\\labelsTr\\colon_005....</td>\n",
       "      <td>0.0</td>\n",
       "      <td>False</td>\n",
       "    </tr>\n",
       "    <tr>\n",
       "      <th>...</th>\n",
       "      <th>...</th>\n",
       "      <td>...</td>\n",
       "      <td>...</td>\n",
       "      <td>...</td>\n",
       "      <td>...</td>\n",
       "      <td>...</td>\n",
       "    </tr>\n",
       "    <tr>\n",
       "      <th rowspan=\"5\" valign=\"top\">169</th>\n",
       "      <th>253</th>\n",
       "      <td>ml4h_proj1_colon_cancer_ct\\imagesTr\\colon_169....</td>\n",
       "      <td>258</td>\n",
       "      <td>ml4h_proj1_colon_cancer_ct\\labelsTr\\colon_169....</td>\n",
       "      <td>0.0</td>\n",
       "      <td>False</td>\n",
       "    </tr>\n",
       "    <tr>\n",
       "      <th>254</th>\n",
       "      <td>ml4h_proj1_colon_cancer_ct\\imagesTr\\colon_169....</td>\n",
       "      <td>258</td>\n",
       "      <td>ml4h_proj1_colon_cancer_ct\\labelsTr\\colon_169....</td>\n",
       "      <td>0.0</td>\n",
       "      <td>False</td>\n",
       "    </tr>\n",
       "    <tr>\n",
       "      <th>255</th>\n",
       "      <td>ml4h_proj1_colon_cancer_ct\\imagesTr\\colon_169....</td>\n",
       "      <td>258</td>\n",
       "      <td>ml4h_proj1_colon_cancer_ct\\labelsTr\\colon_169....</td>\n",
       "      <td>0.0</td>\n",
       "      <td>False</td>\n",
       "    </tr>\n",
       "    <tr>\n",
       "      <th>256</th>\n",
       "      <td>ml4h_proj1_colon_cancer_ct\\imagesTr\\colon_169....</td>\n",
       "      <td>258</td>\n",
       "      <td>ml4h_proj1_colon_cancer_ct\\labelsTr\\colon_169....</td>\n",
       "      <td>0.0</td>\n",
       "      <td>False</td>\n",
       "    </tr>\n",
       "    <tr>\n",
       "      <th>257</th>\n",
       "      <td>ml4h_proj1_colon_cancer_ct\\imagesTr\\colon_169....</td>\n",
       "      <td>258</td>\n",
       "      <td>ml4h_proj1_colon_cancer_ct\\labelsTr\\colon_169....</td>\n",
       "      <td>0.0</td>\n",
       "      <td>False</td>\n",
       "    </tr>\n",
       "  </tbody>\n",
       "</table>\n",
       "<p>9202 rows × 5 columns</p>\n",
       "</div>"
      ],
      "text/plain": [
       "                                                   x_tr_img_path  depth  \\\n",
       "index depth_i                                                             \n",
       "005   0        ml4h_proj1_colon_cancer_ct\\imagesTr\\colon_005....     98   \n",
       "      1        ml4h_proj1_colon_cancer_ct\\imagesTr\\colon_005....     98   \n",
       "      2        ml4h_proj1_colon_cancer_ct\\imagesTr\\colon_005....     98   \n",
       "      3        ml4h_proj1_colon_cancer_ct\\imagesTr\\colon_005....     98   \n",
       "      4        ml4h_proj1_colon_cancer_ct\\imagesTr\\colon_005....     98   \n",
       "...                                                          ...    ...   \n",
       "169   253      ml4h_proj1_colon_cancer_ct\\imagesTr\\colon_169....    258   \n",
       "      254      ml4h_proj1_colon_cancer_ct\\imagesTr\\colon_169....    258   \n",
       "      255      ml4h_proj1_colon_cancer_ct\\imagesTr\\colon_169....    258   \n",
       "      256      ml4h_proj1_colon_cancer_ct\\imagesTr\\colon_169....    258   \n",
       "      257      ml4h_proj1_colon_cancer_ct\\imagesTr\\colon_169....    258   \n",
       "\n",
       "                                                   y_tr_img_path  \\\n",
       "index depth_i                                                      \n",
       "005   0        ml4h_proj1_colon_cancer_ct\\labelsTr\\colon_005....   \n",
       "      1        ml4h_proj1_colon_cancer_ct\\labelsTr\\colon_005....   \n",
       "      2        ml4h_proj1_colon_cancer_ct\\labelsTr\\colon_005....   \n",
       "      3        ml4h_proj1_colon_cancer_ct\\labelsTr\\colon_005....   \n",
       "      4        ml4h_proj1_colon_cancer_ct\\labelsTr\\colon_005....   \n",
       "...                                                          ...   \n",
       "169   253      ml4h_proj1_colon_cancer_ct\\labelsTr\\colon_169....   \n",
       "      254      ml4h_proj1_colon_cancer_ct\\labelsTr\\colon_169....   \n",
       "      255      ml4h_proj1_colon_cancer_ct\\labelsTr\\colon_169....   \n",
       "      256      ml4h_proj1_colon_cancer_ct\\labelsTr\\colon_169....   \n",
       "      257      ml4h_proj1_colon_cancer_ct\\labelsTr\\colon_169....   \n",
       "\n",
       "               cancer_pixel_area  has_cancer_pixels  \n",
       "index depth_i                                        \n",
       "005   0                      0.0              False  \n",
       "      1                      0.0              False  \n",
       "      2                      0.0              False  \n",
       "      3                      0.0              False  \n",
       "      4                      0.0              False  \n",
       "...                          ...                ...  \n",
       "169   253                    0.0              False  \n",
       "      254                    0.0              False  \n",
       "      255                    0.0              False  \n",
       "      256                    0.0              False  \n",
       "      257                    0.0              False  \n",
       "\n",
       "[9202 rows x 5 columns]"
      ]
     },
     "execution_count": 24,
     "metadata": {},
     "output_type": "execute_result"
    }
   ],
   "source": [
    "tr_fold_0_df_cancer_info"
   ]
  },
  {
   "cell_type": "code",
   "execution_count": null,
   "id": "educated-salon",
   "metadata": {},
   "outputs": [],
   "source": [
    "resize_dim = (128, 128)"
   ]
  },
  {
   "cell_type": "code",
   "execution_count": 16,
   "id": "coastal-twist",
   "metadata": {
    "executionInfo": {
     "elapsed": 596,
     "status": "ok",
     "timestamp": 1616660754120,
     "user": {
      "displayName": "Juan Diego Bermeo",
      "photoUrl": "",
      "userId": "11124578296137739363"
     },
     "user_tz": -60
    },
    "id": "photographic-landing"
   },
   "outputs": [],
   "source": [
    "train_data_generator = DataGenerator2D(df=tr_fold_0_df_cancer_info, x_col='x_tr_img_path', y_col='y_tr_img_path', batch_size=64, \n",
    "                                       shuffle=True, shuffle_depths=True,\n",
    "                                       class_sampling={'cancer_pixel': 2, 'not_cancer_pixel': 0.4},\n",
    "                                       depth_class_col='has_cancer_pixels',\n",
    "                                       resize_dim=resize_dim, hounsfield_min=-1000., hounsfield_max=400.,\n",
    "                                       rotate_range=30, horizontal_flip=True, vertical_flip=True, random_crop=(0.8, 0.9), \n",
    "                                       shearing=None, gaussian_blur=None)\n",
    "\n",
    "holdout_data_generator = DataGenerator2D(df=holdout_fold_0_df, x_col='x_tr_img_path', y_col='y_tr_img_path', batch_size=32, shuffle=False, \n",
    "                         resize_dim=resize_dim, hounsfield_min=-1000., hounsfield_max=400.,\n",
    "                         rotate_range=None, horizontal_flip=False, vertical_flip=False)"
   ]
  },
  {
   "cell_type": "markdown",
   "id": "center-rugby",
   "metadata": {
    "id": "enormous-leave"
   },
   "source": [
    "## Let's create the Unet"
   ]
  },
  {
   "cell_type": "code",
   "execution_count": 17,
   "id": "powerful-leone",
   "metadata": {
    "executionInfo": {
     "elapsed": 1193,
     "status": "ok",
     "timestamp": 1616660756571,
     "user": {
      "displayName": "Juan Diego Bermeo",
      "photoUrl": "",
      "userId": "11124578296137739363"
     },
     "user_tz": -60
    },
    "id": "XqdZpW-slua2"
   },
   "outputs": [],
   "source": [
    "num_epoch = 20\n",
    "version = 2\n",
    "split = '90_10_split'\n",
    "lr = 1e-2\n",
    "loss_used = 'binary_focal_loss'\n",
    "augmentations = 'flips_rot_crop'\n",
    "depth_shuffle = 'depth_shuffle'\n",
    "imbalance_sampling = 'up_down_sampling_aggresive'\n",
    "\n",
    "attepmt_name_dir = f'v{version}_{num_epoch}_lr_{lr}_epochs_{split}_{loss_used}_{augmentations}_{depth_shuffle}_{imbalance_sampling}' \n",
    "attepmt_name_dir = os.path.join('training_runs', 'juan', 'binary_loss_only', attepmt_name_dir)\n",
    "\n",
    "os.makedirs(attepmt_name_dir, exist_ok=True)"
   ]
  },
  {
   "cell_type": "code",
   "execution_count": null,
   "id": "sunset-kenya",
   "metadata": {
    "id": "promising-pride"
   },
   "outputs": [],
   "source": [
    "model = custom_unet(\n",
    "    input_shape=resize_dim +(1,),\n",
    "    use_batch_norm=True,\n",
    "    num_classes=1,\n",
    "    filters=32,\n",
    "    dropout=0.2,\n",
    "    output_activation='sigmoid')"
   ]
  },
  {
   "cell_type": "code",
   "execution_count": 25,
   "id": "considered-guess",
   "metadata": {
    "colab": {
     "base_uri": "https://localhost:8080/"
    },
    "collapsed": true,
    "executionInfo": {
     "elapsed": 5280,
     "status": "ok",
     "timestamp": 1616593235633,
     "user": {
      "displayName": "Juan Diego Bermeo",
      "photoUrl": "",
      "userId": "11124578296137739363"
     },
     "user_tz": -60
    },
    "id": "4dWphhAIUAPz",
    "jupyter": {
     "outputs_hidden": true
    },
    "outputId": "326910f9-2456-4c60-c1ab-66302df719b8",
    "tags": []
   },
   "outputs": [
    {
     "ename": "SyntaxError",
     "evalue": "invalid syntax (<ipython-input-25-22b1e5bf7f6f>, line 1)",
     "output_type": "error",
     "traceback": [
      "\u001b[1;36m  File \u001b[1;32m\"<ipython-input-25-22b1e5bf7f6f>\"\u001b[1;36m, line \u001b[1;32m1\u001b[0m\n\u001b[1;33m    model.summary():\u001b[0m\n\u001b[1;37m                    ^\u001b[0m\n\u001b[1;31mSyntaxError\u001b[0m\u001b[1;31m:\u001b[0m invalid syntax\n"
     ]
    }
   ],
   "source": [
    "model.summary();"
   ]
  },
  {
   "cell_type": "code",
   "execution_count": null,
   "id": "choice-willow",
   "metadata": {
    "id": "relative-baking"
   },
   "outputs": [],
   "source": [
    "model.compile(\n",
    "    optimizer=Adam(learning_rate=lr), \n",
    "    loss=binary_focal_loss(gamma=2., alpha=0.7),\n",
    "    metrics=[iou, iou_thresholded]\n",
    ")"
   ]
  },
  {
   "cell_type": "markdown",
   "id": "ceramic-execution",
   "metadata": {
    "id": "enormous-leave"
   },
   "source": [
    "## Let's train the model"
   ]
  },
  {
   "cell_type": "code",
   "execution_count": null,
   "id": "steady-penny",
   "metadata": {
    "id": "Uy7RalTkq95S"
   },
   "outputs": [],
   "source": [
    "def scheduler(epoch, lr):\n",
    "  if epoch <= 3:\n",
    "    return 1e-2\n",
    "  \n",
    "  elif epoch > 3 and epoch <= 12:\n",
    "    return 1e-3\n",
    "\n",
    "  elif epoch > 12 and epoch <= 25:\n",
    "    return 1e-4\n",
    "\n",
    "  else:\n",
    "    return 1e-5 \n",
    "      "
   ]
  },
  {
   "cell_type": "code",
   "execution_count": null,
   "id": "general-pacific",
   "metadata": {
    "id": "pzyyPP_z0ICW"
   },
   "outputs": [],
   "source": [
    "my_callbacks = [\n",
    "    tf.keras.callbacks.EarlyStopping(patience=20, verbose=1),\n",
    "    #tf.keras.callbacks.ReduceLROnPlateau(monitor=\"val_loss\", factor=0.1, patience=5, verbose=1),\n",
    "    tf.keras.callbacks.LearningRateScheduler(scheduler, verbose=1),\n",
    "    tf.keras.callbacks.ModelCheckpoint(\n",
    "        filepath=f'./{attepmt_name_dir}' + '/model_sampling.{epoch:02d}-{val_loss:.2f}.h5', verbose=1),\n",
    "    tf.keras.callbacks.TensorBoard(log_dir=f'./{attepmt_name_dir}/logs_new'),\n",
    "]"
   ]
  },
  {
   "cell_type": "code",
   "execution_count": null,
   "id": "elegant-vegetarian",
   "metadata": {
    "colab": {
     "base_uri": "https://localhost:8080/"
    },
    "executionInfo": {
     "elapsed": 2386993,
     "status": "ok",
     "timestamp": 1616602374890,
     "user": {
      "displayName": "Juan Diego Bermeo",
      "photoUrl": "",
      "userId": "11124578296137739363"
     },
     "user_tz": -60
    },
    "id": "_HO-RK7rjaFA",
    "outputId": "d882b0ec-03d9-4a77-9811-2e2619bfd68b"
   },
   "outputs": [
    {
     "name": "stdout",
     "output_type": "stream",
     "text": [
      "Epoch 1/20\n",
      "\n",
      "Epoch 00001: LearningRateScheduler reducing learning rate to 0.01.\n",
      "49/49 [==============================] - 246s 5s/step - loss: 0.3327 - iou: 0.0056 - iou_thresholded: 0.0012 - val_loss: 92.4987 - val_iou: 8.9171e-04 - val_iou_thresholded: 8.6925e-04\n",
      "\n",
      "Epoch 00001: saving model to ./training_runs/juan/binary_loss_only/v2_20_lr_0.01_epochs_90_10_split_binary_focal_loss_flips_rot_crop_depth_shuffle_up_down_sampling_aggresive/model_sampling.01-92.50.h5\n",
      "Epoch 2/20\n",
      "\n",
      "Epoch 00002: LearningRateScheduler reducing learning rate to 0.01.\n",
      "49/49 [==============================] - 230s 5s/step - loss: 0.2627 - iou: 0.0073 - iou_thresholded: 0.0029 - val_loss: 5.7246 - val_iou: 0.0018 - val_iou_thresholded: 0.0034\n",
      "\n",
      "Epoch 00002: saving model to ./training_runs/juan/binary_loss_only/v2_20_lr_0.01_epochs_90_10_split_binary_focal_loss_flips_rot_crop_depth_shuffle_up_down_sampling_aggresive/model_sampling.02-5.72.h5\n",
      "Epoch 3/20\n",
      "\n",
      "Epoch 00003: LearningRateScheduler reducing learning rate to 0.01.\n",
      "49/49 [==============================] - 231s 5s/step - loss: 0.2637 - iou: 0.0081 - iou_thresholded: 7.5892e-04 - val_loss: 42.4892 - val_iou: 0.0012 - val_iou_thresholded: 0.0011\n",
      "\n",
      "Epoch 00003: saving model to ./training_runs/juan/binary_loss_only/v2_20_lr_0.01_epochs_90_10_split_binary_focal_loss_flips_rot_crop_depth_shuffle_up_down_sampling_aggresive/model_sampling.03-42.49.h5\n",
      "Epoch 4/20\n",
      "\n",
      "Epoch 00004: LearningRateScheduler reducing learning rate to 0.01.\n",
      "49/49 [==============================] - 235s 5s/step - loss: 0.2240 - iou: 0.0101 - iou_thresholded: 0.0145 - val_loss: 1.8337 - val_iou: 0.0021 - val_iou_thresholded: 0.0072\n",
      "\n",
      "Epoch 00004: saving model to ./training_runs/juan/binary_loss_only/v2_20_lr_0.01_epochs_90_10_split_binary_focal_loss_flips_rot_crop_depth_shuffle_up_down_sampling_aggresive/model_sampling.04-1.83.h5\n",
      "Epoch 5/20\n",
      "\n",
      "Epoch 00005: LearningRateScheduler reducing learning rate to 0.001.\n",
      "49/49 [==============================] - 235s 5s/step - loss: 0.2066 - iou: 0.0105 - iou_thresholded: 0.0068 - val_loss: 0.6498 - val_iou: 0.0026 - val_iou_thresholded: 0.0258\n",
      "\n",
      "Epoch 00005: saving model to ./training_runs/juan/binary_loss_only/v2_20_lr_0.01_epochs_90_10_split_binary_focal_loss_flips_rot_crop_depth_shuffle_up_down_sampling_aggresive/model_sampling.05-0.65.h5\n",
      "Epoch 6/20\n",
      "\n",
      "Epoch 00006: LearningRateScheduler reducing learning rate to 0.001.\n",
      "49/49 [==============================] - 234s 5s/step - loss: 0.1968 - iou: 0.0121 - iou_thresholded: 0.0161 - val_loss: 0.2286 - val_iou: 0.0025 - val_iou_thresholded: 0.0742\n",
      "\n",
      "Epoch 00006: saving model to ./training_runs/juan/binary_loss_only/v2_20_lr_0.01_epochs_90_10_split_binary_focal_loss_flips_rot_crop_depth_shuffle_up_down_sampling_aggresive/model_sampling.06-0.23.h5\n",
      "Epoch 7/20\n",
      "\n",
      "Epoch 00007: LearningRateScheduler reducing learning rate to 0.001.\n",
      "49/49 [==============================] - 233s 5s/step - loss: 0.1973 - iou: 0.0120 - iou_thresholded: 0.0158 - val_loss: 0.1286 - val_iou: 0.0025 - val_iou_thresholded: 0.4145\n",
      "\n",
      "Epoch 00007: saving model to ./training_runs/juan/binary_loss_only/v2_20_lr_0.01_epochs_90_10_split_binary_focal_loss_flips_rot_crop_depth_shuffle_up_down_sampling_aggresive/model_sampling.07-0.13.h5\n",
      "Epoch 8/20\n",
      "\n",
      "Epoch 00008: LearningRateScheduler reducing learning rate to 0.001.\n",
      "49/49 [==============================] - 230s 5s/step - loss: 0.2026 - iou: 0.0124 - iou_thresholded: 0.0205 - val_loss: 0.1292 - val_iou: 0.0028 - val_iou_thresholded: 0.2798\n",
      "\n",
      "Epoch 00008: saving model to ./training_runs/juan/binary_loss_only/v2_20_lr_0.01_epochs_90_10_split_binary_focal_loss_flips_rot_crop_depth_shuffle_up_down_sampling_aggresive/model_sampling.08-0.13.h5\n",
      "Epoch 9/20\n",
      "\n",
      "Epoch 00009: LearningRateScheduler reducing learning rate to 0.001.\n",
      "49/49 [==============================] - 230s 5s/step - loss: 0.1957 - iou: 0.0129 - iou_thresholded: 0.0377 - val_loss: 0.1059 - val_iou: 0.0027 - val_iou_thresholded: 0.5293\n",
      "\n",
      "Epoch 00009: saving model to ./training_runs/juan/binary_loss_only/v2_20_lr_0.01_epochs_90_10_split_binary_focal_loss_flips_rot_crop_depth_shuffle_up_down_sampling_aggresive/model_sampling.09-0.11.h5\n",
      "Epoch 10/20\n",
      "\n",
      "Epoch 00010: LearningRateScheduler reducing learning rate to 0.001.\n",
      "49/49 [==============================] - 232s 5s/step - loss: 0.1846 - iou: 0.0124 - iou_thresholded: 0.0322 - val_loss: 0.0900 - val_iou: 0.0031 - val_iou_thresholded: 0.4216\n",
      "\n",
      "Epoch 00010: saving model to ./training_runs/juan/binary_loss_only/v2_20_lr_0.01_epochs_90_10_split_binary_focal_loss_flips_rot_crop_depth_shuffle_up_down_sampling_aggresive/model_sampling.10-0.09.h5\n",
      "Epoch 11/20\n",
      "\n",
      "Epoch 00011: LearningRateScheduler reducing learning rate to 0.001.\n",
      "49/49 [==============================] - 237s 5s/step - loss: 0.1838 - iou: 0.0131 - iou_thresholded: 0.0494 - val_loss: 0.0769 - val_iou: 0.0029 - val_iou_thresholded: 0.5410\n",
      "\n",
      "Epoch 00011: saving model to ./training_runs/juan/binary_loss_only/v2_20_lr_0.01_epochs_90_10_split_binary_focal_loss_flips_rot_crop_depth_shuffle_up_down_sampling_aggresive/model_sampling.11-0.08.h5\n",
      "Epoch 12/20\n",
      "\n",
      "Epoch 00012: LearningRateScheduler reducing learning rate to 0.001.\n",
      "49/49 [==============================] - 230s 5s/step - loss: 0.1790 - iou: 0.0133 - iou_thresholded: 0.0396 - val_loss: 0.0825 - val_iou: 0.0032 - val_iou_thresholded: 0.4571\n",
      "\n",
      "Epoch 00012: saving model to ./training_runs/juan/binary_loss_only/v2_20_lr_0.01_epochs_90_10_split_binary_focal_loss_flips_rot_crop_depth_shuffle_up_down_sampling_aggresive/model_sampling.12-0.08.h5\n",
      "Epoch 13/20\n",
      "\n",
      "Epoch 00013: LearningRateScheduler reducing learning rate to 0.001.\n",
      "49/49 [==============================] - 230s 5s/step - loss: 0.1779 - iou: 0.0140 - iou_thresholded: 0.0578 - val_loss: 0.0716 - val_iou: 0.0031 - val_iou_thresholded: 0.5453\n",
      "\n",
      "Epoch 00013: saving model to ./training_runs/juan/binary_loss_only/v2_20_lr_0.01_epochs_90_10_split_binary_focal_loss_flips_rot_crop_depth_shuffle_up_down_sampling_aggresive/model_sampling.13-0.07.h5\n",
      "Epoch 14/20\n",
      "\n",
      "Epoch 00014: LearningRateScheduler reducing learning rate to 0.0001.\n",
      "49/49 [==============================] - 226s 5s/step - loss: 0.1718 - iou: 0.0143 - iou_thresholded: 0.0554 - val_loss: 0.0706 - val_iou: 0.0031 - val_iou_thresholded: 0.5448\n",
      "\n",
      "Epoch 00014: saving model to ./training_runs/juan/binary_loss_only/v2_20_lr_0.01_epochs_90_10_split_binary_focal_loss_flips_rot_crop_depth_shuffle_up_down_sampling_aggresive/model_sampling.14-0.07.h5\n",
      "Epoch 15/20\n",
      "\n",
      "Epoch 00015: LearningRateScheduler reducing learning rate to 0.0001.\n",
      "49/49 [==============================] - 234s 5s/step - loss: 0.1704 - iou: 0.0143 - iou_thresholded: 0.0608 - val_loss: 0.0716 - val_iou: 0.0032 - val_iou_thresholded: 0.5436\n",
      "\n",
      "Epoch 00015: saving model to ./training_runs/juan/binary_loss_only/v2_20_lr_0.01_epochs_90_10_split_binary_focal_loss_flips_rot_crop_depth_shuffle_up_down_sampling_aggresive/model_sampling.15-0.07.h5\n",
      "Epoch 16/20\n",
      "\n",
      "Epoch 00016: LearningRateScheduler reducing learning rate to 0.0001.\n",
      "49/49 [==============================] - 229s 5s/step - loss: 0.1713 - iou: 0.0139 - iou_thresholded: 0.0609 - val_loss: 0.0740 - val_iou: 0.0032 - val_iou_thresholded: 0.5449\n",
      "\n",
      "Epoch 00016: saving model to ./training_runs/juan/binary_loss_only/v2_20_lr_0.01_epochs_90_10_split_binary_focal_loss_flips_rot_crop_depth_shuffle_up_down_sampling_aggresive/model_sampling.16-0.07.h5\n",
      "Epoch 17/20\n",
      "\n",
      "Epoch 00017: LearningRateScheduler reducing learning rate to 0.0001.\n",
      "49/49 [==============================] - 229s 5s/step - loss: 0.1737 - iou: 0.0145 - iou_thresholded: 0.0651 - val_loss: 0.0744 - val_iou: 0.0033 - val_iou_thresholded: 0.5465\n",
      "\n",
      "Epoch 00017: saving model to ./training_runs/juan/binary_loss_only/v2_20_lr_0.01_epochs_90_10_split_binary_focal_loss_flips_rot_crop_depth_shuffle_up_down_sampling_aggresive/model_sampling.17-0.07.h5\n",
      "Epoch 18/20\n",
      "\n",
      "Epoch 00018: LearningRateScheduler reducing learning rate to 0.0001.\n",
      "49/49 [==============================] - 234s 5s/step - loss: 0.1728 - iou: 0.0147 - iou_thresholded: 0.0684 - val_loss: 0.0758 - val_iou: 0.0033 - val_iou_thresholded: 0.5171\n",
      "\n",
      "Epoch 00018: saving model to ./training_runs/juan/binary_loss_only/v2_20_lr_0.01_epochs_90_10_split_binary_focal_loss_flips_rot_crop_depth_shuffle_up_down_sampling_aggresive/model_sampling.18-0.08.h5\n",
      "Epoch 19/20\n",
      "\n",
      "Epoch 00019: LearningRateScheduler reducing learning rate to 0.0001.\n",
      "49/49 [==============================] - 233s 5s/step - loss: 0.1668 - iou: 0.0152 - iou_thresholded: 0.0743 - val_loss: 0.0725 - val_iou: 0.0033 - val_iou_thresholded: 0.5166\n",
      "\n",
      "Epoch 00019: ReduceLROnPlateau reducing learning rate to 9.999999747378752e-06.\n",
      "\n",
      "Epoch 00019: saving model to ./training_runs/juan/binary_loss_only/v2_20_lr_0.01_epochs_90_10_split_binary_focal_loss_flips_rot_crop_depth_shuffle_up_down_sampling_aggresive/model_sampling.19-0.07.h5\n",
      "Epoch 20/20\n",
      "\n",
      "Epoch 00020: LearningRateScheduler reducing learning rate to 0.0001.\n",
      "49/49 [==============================] - 232s 5s/step - loss: 0.1675 - iou: 0.0144 - iou_thresholded: 0.0697 - val_loss: 0.0743 - val_iou: 0.0033 - val_iou_thresholded: 0.5181\n",
      "\n",
      "Epoch 00020: saving model to ./training_runs/juan/binary_loss_only/v2_20_lr_0.01_epochs_90_10_split_binary_focal_loss_flips_rot_crop_depth_shuffle_up_down_sampling_aggresive/model_sampling.20-0.07.h5\n"
     ]
    },
    {
     "data": {
      "text/plain": [
       "<tensorflow.python.keras.callbacks.History at 0x7fd0fe323710>"
      ]
     },
     "execution_count": 26,
     "metadata": {
      "tags": []
     },
     "output_type": "execute_result"
    }
   ],
   "source": [
    "model.fit(train_data_generator, validation_data=holdout_data_generator,\n",
    "          epochs=num_epoch, callbacks=my_callbacks)"
   ]
  },
  {
   "cell_type": "code",
   "execution_count": null,
   "id": "unlike-perth",
   "metadata": {
    "colab": {
     "base_uri": "https://localhost:8080/"
    },
    "executionInfo": {
     "elapsed": 8993,
     "status": "ok",
     "timestamp": 1616602785730,
     "user": {
      "displayName": "Juan Diego Bermeo",
      "photoUrl": "",
      "userId": "11124578296137739363"
     },
     "user_tz": -60
    },
    "id": "s70VqaG32a8k",
    "outputId": "7158f23a-8f0b-4cff-d22b-7f0fab8fbea0"
   },
   "outputs": [
    {
     "name": "stdout",
     "output_type": "stream",
     "text": [
      "INFO:tensorflow:Assets written to: ./training_runs/juan/binary_loss_only/v2_20_lr_0.01_epochs_90_10_split_binary_focal_loss_flips_rot_crop_depth_shuffle_up_down_sampling_aggresive/end_of_training_version/assets\n"
     ]
    },
    {
     "name": "stderr",
     "output_type": "stream",
     "text": [
      "INFO:tensorflow:Assets written to: ./training_runs/juan/binary_loss_only/v2_20_lr_0.01_epochs_90_10_split_binary_focal_loss_flips_rot_crop_depth_shuffle_up_down_sampling_aggresive/end_of_training_version/assets\n"
     ]
    }
   ],
   "source": [
    "model.save(f'./{attepmt_name_dir}/end_of_training_version')"
   ]
  },
  {
   "cell_type": "markdown",
   "id": "natural-fitting",
   "metadata": {
    "id": "3dLtknRggpM8"
   },
   "source": [
    "It was still decreasing, so let's keep it going for 10 more epochs with lr = 1e-3"
   ]
  },
  {
   "cell_type": "code",
   "execution_count": null,
   "id": "dynamic-civilization",
   "metadata": {
    "id": "85nOFSY_hHLr"
   },
   "outputs": [],
   "source": [
    "def scheduler(epoch, lr):\n",
    "  if epoch <= 6:\n",
    "    return 1e-4\n",
    "\n",
    "  else:\n",
    "    return 1e-5 "
   ]
  },
  {
   "cell_type": "code",
   "execution_count": null,
   "id": "individual-failing",
   "metadata": {
    "id": "nbpKTqTRhSrS"
   },
   "outputs": [],
   "source": [
    "my_callbacks = [\n",
    "    tf.keras.callbacks.EarlyStopping(patience=20, verbose=1),\n",
    "    tf.keras.callbacks.ReduceLROnPlateau(monitor=\"val_loss\", factor=0.1, patience=5, verbose=1),\n",
    "    tf.keras.callbacks.LearningRateScheduler(scheduler, verbose=1),\n",
    "    tf.keras.callbacks.ModelCheckpoint(\n",
    "        filepath=f'./{attepmt_name_dir}' + '/model_sampling_after_20_epochs.{epoch:02d}-{val_loss:.2f}.h5', verbose=1),\n",
    "    tf.keras.callbacks.TensorBoard(log_dir=f'./{attepmt_name_dir}/logs_new_after_20_epochs'),\n",
    "]"
   ]
  },
  {
   "cell_type": "code",
   "execution_count": null,
   "id": "inner-antarctica",
   "metadata": {
    "colab": {
     "base_uri": "https://localhost:8080/"
    },
    "id": "b-9Hc-vrg_gR",
    "outputId": "8ec9b826-9018-4ab6-c15c-71b59aa6f7d9"
   },
   "outputs": [
    {
     "name": "stdout",
     "output_type": "stream",
     "text": [
      "Epoch 1/15\n",
      "\n",
      "Epoch 00001: LearningRateScheduler reducing learning rate to 0.0001.\n",
      "49/49 [==============================] - 231s 5s/step - loss: 0.1671 - iou: 0.0150 - iou_thresholded: 0.0678 - val_loss: 0.0737 - val_iou: 0.0034 - val_iou_thresholded: 0.4721\n",
      "\n",
      "Epoch 00001: saving model to ./training_runs/juan/binary_loss_only/v2_20_lr_0.01_epochs_90_10_split_binary_focal_loss_flips_rot_crop_depth_shuffle_up_down_sampling_aggresive/model_sampling_after_20_epochs.01-0.07.h5\n",
      "Epoch 2/15\n",
      "\n",
      "Epoch 00002: LearningRateScheduler reducing learning rate to 0.0001.\n",
      "49/49 [==============================] - 226s 5s/step - loss: 0.1697 - iou: 0.0157 - iou_thresholded: 0.0791 - val_loss: 0.0770 - val_iou: 0.0034 - val_iou_thresholded: 0.4442\n",
      "\n",
      "Epoch 00002: saving model to ./training_runs/juan/binary_loss_only/v2_20_lr_0.01_epochs_90_10_split_binary_focal_loss_flips_rot_crop_depth_shuffle_up_down_sampling_aggresive/model_sampling_after_20_epochs.02-0.08.h5\n",
      "Epoch 3/15\n",
      "\n",
      "Epoch 00003: LearningRateScheduler reducing learning rate to 0.0001.\n",
      "49/49 [==============================] - 231s 5s/step - loss: 0.1696 - iou: 0.0154 - iou_thresholded: 0.0790 - val_loss: 0.0759 - val_iou: 0.0035 - val_iou_thresholded: 0.4272\n",
      "\n",
      "Epoch 00003: saving model to ./training_runs/juan/binary_loss_only/v2_20_lr_0.01_epochs_90_10_split_binary_focal_loss_flips_rot_crop_depth_shuffle_up_down_sampling_aggresive/model_sampling_after_20_epochs.03-0.08.h5\n",
      "Epoch 4/15\n",
      "\n",
      "Epoch 00004: LearningRateScheduler reducing learning rate to 0.0001.\n",
      "49/49 [==============================] - 232s 5s/step - loss: 0.1735 - iou: 0.0154 - iou_thresholded: 0.0770 - val_loss: 0.0746 - val_iou: 0.0034 - val_iou_thresholded: 0.4289\n",
      "\n",
      "Epoch 00004: saving model to ./training_runs/juan/binary_loss_only/v2_20_lr_0.01_epochs_90_10_split_binary_focal_loss_flips_rot_crop_depth_shuffle_up_down_sampling_aggresive/model_sampling_after_20_epochs.04-0.07.h5\n",
      "Epoch 5/15\n",
      "\n",
      "Epoch 00005: LearningRateScheduler reducing learning rate to 0.0001.\n",
      "49/49 [==============================] - 235s 5s/step - loss: 0.1649 - iou: 0.0155 - iou_thresholded: 0.0793 - val_loss: 0.0725 - val_iou: 0.0034 - val_iou_thresholded: 0.4320\n",
      "\n",
      "Epoch 00005: saving model to ./training_runs/juan/binary_loss_only/v2_20_lr_0.01_epochs_90_10_split_binary_focal_loss_flips_rot_crop_depth_shuffle_up_down_sampling_aggresive/model_sampling_after_20_epochs.05-0.07.h5\n",
      "Epoch 6/15\n",
      "\n",
      "Epoch 00006: LearningRateScheduler reducing learning rate to 0.0001.\n",
      "49/49 [==============================] - 231s 5s/step - loss: 0.1646 - iou: 0.0151 - iou_thresholded: 0.0826 - val_loss: 0.0744 - val_iou: 0.0034 - val_iou_thresholded: 0.4347\n",
      "\n",
      "Epoch 00006: saving model to ./training_runs/juan/binary_loss_only/v2_20_lr_0.01_epochs_90_10_split_binary_focal_loss_flips_rot_crop_depth_shuffle_up_down_sampling_aggresive/model_sampling_after_20_epochs.06-0.07.h5\n",
      "Epoch 7/15\n",
      "\n",
      "Epoch 00007: LearningRateScheduler reducing learning rate to 0.0001.\n",
      "49/49 [==============================] - 233s 5s/step - loss: 0.1657 - iou: 0.0152 - iou_thresholded: 0.0765 - val_loss: 0.0755 - val_iou: 0.0034 - val_iou_thresholded: 0.4288\n",
      "\n",
      "Epoch 00007: saving model to ./training_runs/juan/binary_loss_only/v2_20_lr_0.01_epochs_90_10_split_binary_focal_loss_flips_rot_crop_depth_shuffle_up_down_sampling_aggresive/model_sampling_after_20_epochs.07-0.08.h5\n",
      "Epoch 8/15\n",
      "\n",
      "Epoch 00008: LearningRateScheduler reducing learning rate to 1e-05.\n",
      "49/49 [==============================] - 228s 5s/step - loss: 0.1644 - iou: 0.0153 - iou_thresholded: 0.0673 - val_loss: 0.0756 - val_iou: 0.0035 - val_iou_thresholded: 0.4249\n",
      "\n",
      "Epoch 00008: saving model to ./training_runs/juan/binary_loss_only/v2_20_lr_0.01_epochs_90_10_split_binary_focal_loss_flips_rot_crop_depth_shuffle_up_down_sampling_aggresive/model_sampling_after_20_epochs.08-0.08.h5\n",
      "Epoch 9/15\n",
      "\n",
      "Epoch 00009: LearningRateScheduler reducing learning rate to 1e-05.\n",
      "49/49 [==============================] - 230s 5s/step - loss: 0.1682 - iou: 0.0152 - iou_thresholded: 0.0760 - val_loss: 0.0750 - val_iou: 0.0035 - val_iou_thresholded: 0.4246\n",
      "\n",
      "Epoch 00009: saving model to ./training_runs/juan/binary_loss_only/v2_20_lr_0.01_epochs_90_10_split_binary_focal_loss_flips_rot_crop_depth_shuffle_up_down_sampling_aggresive/model_sampling_after_20_epochs.09-0.07.h5\n",
      "Epoch 10/15\n",
      "\n",
      "Epoch 00010: LearningRateScheduler reducing learning rate to 1e-05.\n",
      "49/49 [==============================] - 230s 5s/step - loss: 0.1624 - iou: 0.0148 - iou_thresholded: 0.0722 - val_loss: 0.0752 - val_iou: 0.0035 - val_iou_thresholded: 0.4242\n",
      "\n",
      "Epoch 00010: ReduceLROnPlateau reducing learning rate to 9.999999747378752e-07.\n",
      "\n",
      "Epoch 00010: saving model to ./training_runs/juan/binary_loss_only/v2_20_lr_0.01_epochs_90_10_split_binary_focal_loss_flips_rot_crop_depth_shuffle_up_down_sampling_aggresive/model_sampling_after_20_epochs.10-0.08.h5\n",
      "Epoch 11/15\n",
      "\n",
      "Epoch 00011: LearningRateScheduler reducing learning rate to 1e-05.\n"
     ]
    }
   ],
   "source": [
    "model.fit(train_data_generator, validation_data=holdout_data_generator,\n",
    "          epochs=15, callbacks=my_callbacks)"
   ]
  },
  {
   "cell_type": "code",
   "execution_count": null,
   "id": "intelligent-major",
   "metadata": {
    "id": "SaB0v32vicgS"
   },
   "outputs": [],
   "source": [
    "model.save(f'./{attepmt_name_dir}/end_of_training_version_after_20_epochs')"
   ]
  },
  {
   "cell_type": "markdown",
   "id": "funny-domestic",
   "metadata": {
    "id": "enormous-leave"
   },
   "source": [
    "## Let's have it predict on the holdout data"
   ]
  },
  {
   "cell_type": "code",
   "execution_count": 33,
   "id": "genuine-scheduling",
   "metadata": {
    "executionInfo": {
     "elapsed": 4578,
     "status": "ok",
     "timestamp": 1616665286281,
     "user": {
      "displayName": "Juan Diego Bermeo",
      "photoUrl": "",
      "userId": "11124578296137739363"
     },
     "user_tz": -60
    },
    "id": "LidTkde-va0p"
   },
   "outputs": [],
   "source": [
    "path_best_performing_model = './training_runs/juan/binary_loss_only/v2_20_lr_0.01_epochs_90_10_split_binary_focal_loss_flips_rot_crop_depth_shuffle_up_down_sampling_aggresive/model_sampling_after_20_epochs.01-0.07.h5'\n",
    "model = model = tf.keras.models.load_model(\n",
    "    path_best_performing_model,\n",
    "    custom_objects={'iou':iou, 'iou_thresholded': iou_thresholded,\n",
    "                    'binary_focal_loss_fixed': binary_focal_loss(gamma=2., alpha=0.7)})"
   ]
  },
  {
   "cell_type": "code",
   "execution_count": 34,
   "id": "grateful-assessment",
   "metadata": {
    "executionInfo": {
     "elapsed": 2119071,
     "status": "ok",
     "timestamp": 1616667486433,
     "user": {
      "displayName": "Juan Diego Bermeo",
      "photoUrl": "",
      "userId": "11124578296137739363"
     },
     "user_tz": -60
    },
    "id": "H8UGKWjSgW8U"
   },
   "outputs": [],
   "source": [
    "iou_df, y_list, y_pred_list = calculate_iou_df(df_=holdout_fold_0_df, img_dims=resize_dim,\n",
    "                                               model_=model, pixel_threshold=0.0875,\n",
    "                                               prediction_batch_size=1)"
   ]
  },
  {
   "cell_type": "code",
   "execution_count": 35,
   "id": "surrounded-violation",
   "metadata": {
    "colab": {
     "base_uri": "https://localhost:8080/",
     "height": 377
    },
    "executionInfo": {
     "elapsed": 2118234,
     "status": "ok",
     "timestamp": 1616667486438,
     "user": {
      "displayName": "Juan Diego Bermeo",
      "photoUrl": "",
      "userId": "11124578296137739363"
     },
     "user_tz": -60
    },
    "id": "VfllLbZoiWfW",
    "outputId": "7f24ff43-e36c-40e1-fce9-90321dd5833b"
   },
   "outputs": [
    {
     "data": {
      "text/html": [
       "<div>\n",
       "<style scoped>\n",
       "    .dataframe tbody tr th:only-of-type {\n",
       "        vertical-align: middle;\n",
       "    }\n",
       "\n",
       "    .dataframe tbody tr th {\n",
       "        vertical-align: top;\n",
       "    }\n",
       "\n",
       "    .dataframe thead th {\n",
       "        text-align: right;\n",
       "    }\n",
       "</style>\n",
       "<table border=\"1\" class=\"dataframe\">\n",
       "  <thead>\n",
       "    <tr style=\"text-align: right;\">\n",
       "      <th></th>\n",
       "      <th>iou</th>\n",
       "    </tr>\n",
       "    <tr>\n",
       "      <th>index</th>\n",
       "      <th></th>\n",
       "    </tr>\n",
       "  </thead>\n",
       "  <tbody>\n",
       "    <tr>\n",
       "      <th>001</th>\n",
       "      <td>0.000410</td>\n",
       "    </tr>\n",
       "    <tr>\n",
       "      <th>008</th>\n",
       "      <td>0.000494</td>\n",
       "    </tr>\n",
       "    <tr>\n",
       "      <th>009</th>\n",
       "      <td>0.002252</td>\n",
       "    </tr>\n",
       "    <tr>\n",
       "      <th>015</th>\n",
       "      <td>0.001402</td>\n",
       "    </tr>\n",
       "    <tr>\n",
       "      <th>050</th>\n",
       "      <td>0.010875</td>\n",
       "    </tr>\n",
       "    <tr>\n",
       "      <th>096</th>\n",
       "      <td>0.000997</td>\n",
       "    </tr>\n",
       "    <tr>\n",
       "      <th>115</th>\n",
       "      <td>0.000766</td>\n",
       "    </tr>\n",
       "    <tr>\n",
       "      <th>126</th>\n",
       "      <td>0.002472</td>\n",
       "    </tr>\n",
       "    <tr>\n",
       "      <th>141</th>\n",
       "      <td>0.000197</td>\n",
       "    </tr>\n",
       "    <tr>\n",
       "      <th>142</th>\n",
       "      <td>0.002025</td>\n",
       "    </tr>\n",
       "  </tbody>\n",
       "</table>\n",
       "</div>"
      ],
      "text/plain": [
       "            iou\n",
       "index          \n",
       "001    0.000410\n",
       "008    0.000494\n",
       "009    0.002252\n",
       "015    0.001402\n",
       "050    0.010875\n",
       "096    0.000997\n",
       "115    0.000766\n",
       "126    0.002472\n",
       "141    0.000197\n",
       "142    0.002025"
      ]
     },
     "execution_count": 35,
     "metadata": {
      "tags": []
     },
     "output_type": "execute_result"
    }
   ],
   "source": [
    "iou_df"
   ]
  },
  {
   "cell_type": "code",
   "execution_count": 36,
   "id": "clear-music",
   "metadata": {
    "colab": {
     "base_uri": "https://localhost:8080/"
    },
    "executionInfo": {
     "elapsed": 2116248,
     "status": "ok",
     "timestamp": 1616667486439,
     "user": {
      "displayName": "Juan Diego Bermeo",
      "photoUrl": "",
      "userId": "11124578296137739363"
     },
     "user_tz": -60
    },
    "id": "tKmnCsskk5_L",
    "outputId": "10ea686b-f25b-4f48-e76c-45c2a2878d27"
   },
   "outputs": [
    {
     "data": {
      "text/plain": [
       "0.002189098682335715"
      ]
     },
     "execution_count": 36,
     "metadata": {
      "tags": []
     },
     "output_type": "execute_result"
    }
   ],
   "source": [
    "iou_df.iou.mean()"
   ]
  },
  {
   "cell_type": "markdown",
   "id": "hearing-skiing",
   "metadata": {
    "id": "14uWGRULg8VX"
   },
   "source": [
    "Check mins and max of the predicted pixels to set the ranges when looking for a good threshold"
   ]
  },
  {
   "cell_type": "code",
   "execution_count": 37,
   "id": "spoken-diabetes",
   "metadata": {
    "colab": {
     "base_uri": "https://localhost:8080/"
    },
    "executionInfo": {
     "elapsed": 2115701,
     "status": "ok",
     "timestamp": 1616667486439,
     "user": {
      "displayName": "Juan Diego Bermeo",
      "photoUrl": "",
      "userId": "11124578296137739363"
     },
     "user_tz": -60
    },
    "id": "iDd0P84Og5dL",
    "outputId": "825c01a0-b9aa-4e85-e4ac-b5c6766bf327"
   },
   "outputs": [
    {
     "name": "stdout",
     "output_type": "stream",
     "text": [
      "0.030156892\n",
      "0.029989842\n",
      "0.025689412\n",
      "0.0336706\n",
      "0.02383962\n",
      "0.027364725\n",
      "0.0306989\n",
      "0.029627388\n",
      "0.030454407\n",
      "0.02299406\n"
     ]
    }
   ],
   "source": [
    "for y_i, y_pred_i in zip(y_list, y_pred_list):\n",
    "  print(np.min(y_pred_i))"
   ]
  },
  {
   "cell_type": "code",
   "execution_count": 38,
   "id": "absent-drunk",
   "metadata": {
    "colab": {
     "base_uri": "https://localhost:8080/"
    },
    "executionInfo": {
     "elapsed": 2114484,
     "status": "ok",
     "timestamp": 1616667486440,
     "user": {
      "displayName": "Juan Diego Bermeo",
      "photoUrl": "",
      "userId": "11124578296137739363"
     },
     "user_tz": -60
    },
    "id": "0Us6FUxgg7cy",
    "outputId": "f7133d3f-f8a9-45ba-b765-0db289bb0073"
   },
   "outputs": [
    {
     "name": "stdout",
     "output_type": "stream",
     "text": [
      "0.48196608\n",
      "0.48553094\n",
      "0.47879672\n",
      "0.4602521\n",
      "0.45907345\n",
      "0.5226131\n",
      "0.5405144\n",
      "0.58602726\n",
      "0.49476364\n",
      "0.44040415\n"
     ]
    }
   ],
   "source": [
    "for y_i, y_pred_i in zip(y_list, y_pred_list):\n",
    "  print(np.max(y_pred_i))"
   ]
  },
  {
   "cell_type": "code",
   "execution_count": 39,
   "id": "northern-ribbon",
   "metadata": {
    "colab": {
     "base_uri": "https://localhost:8080/",
     "height": 293
    },
    "executionInfo": {
     "elapsed": 2117348,
     "status": "ok",
     "timestamp": 1616667490320,
     "user": {
      "displayName": "Juan Diego Bermeo",
      "photoUrl": "",
      "userId": "11124578296137739363"
     },
     "user_tz": -60
    },
    "id": "6p7iug-ehF-A",
    "outputId": "03de1e62-3845-4971-ea14-76c77ddfae00"
   },
   "outputs": [
    {
     "data": {
      "text/plain": [
       "<matplotlib.axes._subplots.AxesSubplot at 0x7f4ea73175d0>"
      ]
     },
     "execution_count": 39,
     "metadata": {
      "tags": []
     },
     "output_type": "execute_result"
    },
    {
     "data": {
      "image/png": "[encoded data removed]",
      "text/plain": [
       "<Figure size 432x288 with 1 Axes>"
      ]
     },
     "metadata": {
      "needs_background": "light",
      "tags": []
     },
     "output_type": "display_data"
    }
   ],
   "source": [
    "pd.Series(np.unique(y_pred_list[8])).plot.hist(bins=35)"
   ]
  },
  {
   "cell_type": "markdown",
   "id": "scheduled-sampling",
   "metadata": {
    "id": "Lr9IgRpYhJon"
   },
   "source": [
    "Look for thresholds that have a better IoU"
   ]
  },
  {
   "cell_type": "code",
   "execution_count": 30,
   "id": "intensive-bidding",
   "metadata": {
    "executionInfo": {
     "elapsed": 62651,
     "status": "ok",
     "timestamp": 1616663924603,
     "user": {
      "displayName": "Juan Diego Bermeo",
      "photoUrl": "",
      "userId": "11124578296137739363"
     },
     "user_tz": -60
    },
    "id": "as2U4u-4hJta"
   },
   "outputs": [],
   "source": [
    "iou_list = list()\n",
    "min_theshold = 0\n",
    "max_threshold = 0.1\n",
    "n_samples = 20\n",
    "true_label_threshold = 0.5\n",
    "result_list = list()\n",
    "\n",
    "for threshold in np.random.uniform(min_theshold, max_threshold, n_samples):\n",
    "  for y_i, y_pred_i in zip(y_list, y_pred_list):\n",
    "    img_i_iou = calculate_iou(target=(y_i > true_label_threshold)*1,\n",
    "                              prediction=(y_pred_i > threshold)*1)\n",
    "    iou_list.append(img_i_iou)  \n",
    "\n",
    "  result_list.append({'threshold': threshold, 'mean_iou':np.mean(img_i_iou)})"
   ]
  },
  {
   "cell_type": "code",
   "execution_count": 31,
   "id": "killing-current",
   "metadata": {
    "colab": {
     "base_uri": "https://localhost:8080/",
     "height": 647
    },
    "executionInfo": {
     "elapsed": 59092,
     "status": "ok",
     "timestamp": 1616663924603,
     "user": {
      "displayName": "Juan Diego Bermeo",
      "photoUrl": "",
      "userId": "11124578296137739363"
     },
     "user_tz": -60
    },
    "id": "xDTWynqUhRzR",
    "outputId": "bd67f52f-c59e-4e47-c682-1a2deefe72c7"
   },
   "outputs": [
    {
     "data": {
      "text/html": [
       "<div>\n",
       "<style scoped>\n",
       "    .dataframe tbody tr th:only-of-type {\n",
       "        vertical-align: middle;\n",
       "    }\n",
       "\n",
       "    .dataframe tbody tr th {\n",
       "        vertical-align: top;\n",
       "    }\n",
       "\n",
       "    .dataframe thead th {\n",
       "        text-align: right;\n",
       "    }\n",
       "</style>\n",
       "<table border=\"1\" class=\"dataframe\">\n",
       "  <thead>\n",
       "    <tr style=\"text-align: right;\">\n",
       "      <th></th>\n",
       "      <th>threshold</th>\n",
       "      <th>mean_iou</th>\n",
       "    </tr>\n",
       "  </thead>\n",
       "  <tbody>\n",
       "    <tr>\n",
       "      <th>0</th>\n",
       "      <td>0.007235</td>\n",
       "      <td>0.000497</td>\n",
       "    </tr>\n",
       "    <tr>\n",
       "      <th>1</th>\n",
       "      <td>0.084536</td>\n",
       "      <td>0.002068</td>\n",
       "    </tr>\n",
       "    <tr>\n",
       "      <th>2</th>\n",
       "      <td>0.023159</td>\n",
       "      <td>0.000497</td>\n",
       "    </tr>\n",
       "    <tr>\n",
       "      <th>3</th>\n",
       "      <td>0.065395</td>\n",
       "      <td>0.001315</td>\n",
       "    </tr>\n",
       "    <tr>\n",
       "      <th>4</th>\n",
       "      <td>0.023809</td>\n",
       "      <td>0.000497</td>\n",
       "    </tr>\n",
       "    <tr>\n",
       "      <th>5</th>\n",
       "      <td>0.025282</td>\n",
       "      <td>0.000497</td>\n",
       "    </tr>\n",
       "    <tr>\n",
       "      <th>6</th>\n",
       "      <td>0.093123</td>\n",
       "      <td>0.002542</td>\n",
       "    </tr>\n",
       "    <tr>\n",
       "      <th>7</th>\n",
       "      <td>0.014530</td>\n",
       "      <td>0.000497</td>\n",
       "    </tr>\n",
       "    <tr>\n",
       "      <th>8</th>\n",
       "      <td>0.077889</td>\n",
       "      <td>0.001772</td>\n",
       "    </tr>\n",
       "    <tr>\n",
       "      <th>9</th>\n",
       "      <td>0.088442</td>\n",
       "      <td>0.002278</td>\n",
       "    </tr>\n",
       "    <tr>\n",
       "      <th>10</th>\n",
       "      <td>0.019008</td>\n",
       "      <td>0.000497</td>\n",
       "    </tr>\n",
       "    <tr>\n",
       "      <th>11</th>\n",
       "      <td>0.089914</td>\n",
       "      <td>0.002364</td>\n",
       "    </tr>\n",
       "    <tr>\n",
       "      <th>12</th>\n",
       "      <td>0.090979</td>\n",
       "      <td>0.002426</td>\n",
       "    </tr>\n",
       "    <tr>\n",
       "      <th>13</th>\n",
       "      <td>0.094589</td>\n",
       "      <td>0.002611</td>\n",
       "    </tr>\n",
       "    <tr>\n",
       "      <th>14</th>\n",
       "      <td>0.099523</td>\n",
       "      <td>0.002781</td>\n",
       "    </tr>\n",
       "    <tr>\n",
       "      <th>15</th>\n",
       "      <td>0.000662</td>\n",
       "      <td>0.000497</td>\n",
       "    </tr>\n",
       "    <tr>\n",
       "      <th>16</th>\n",
       "      <td>0.066130</td>\n",
       "      <td>0.001347</td>\n",
       "    </tr>\n",
       "    <tr>\n",
       "      <th>17</th>\n",
       "      <td>0.004703</td>\n",
       "      <td>0.000497</td>\n",
       "    </tr>\n",
       "    <tr>\n",
       "      <th>18</th>\n",
       "      <td>0.060204</td>\n",
       "      <td>0.001065</td>\n",
       "    </tr>\n",
       "    <tr>\n",
       "      <th>19</th>\n",
       "      <td>0.041786</td>\n",
       "      <td>0.000525</td>\n",
       "    </tr>\n",
       "  </tbody>\n",
       "</table>\n",
       "</div>"
      ],
      "text/plain": [
       "    threshold  mean_iou\n",
       "0    0.007235  0.000497\n",
       "1    0.084536  0.002068\n",
       "2    0.023159  0.000497\n",
       "3    0.065395  0.001315\n",
       "4    0.023809  0.000497\n",
       "5    0.025282  0.000497\n",
       "6    0.093123  0.002542\n",
       "7    0.014530  0.000497\n",
       "8    0.077889  0.001772\n",
       "9    0.088442  0.002278\n",
       "10   0.019008  0.000497\n",
       "11   0.089914  0.002364\n",
       "12   0.090979  0.002426\n",
       "13   0.094589  0.002611\n",
       "14   0.099523  0.002781\n",
       "15   0.000662  0.000497\n",
       "16   0.066130  0.001347\n",
       "17   0.004703  0.000497\n",
       "18   0.060204  0.001065\n",
       "19   0.041786  0.000525"
      ]
     },
     "execution_count": 31,
     "metadata": {
      "tags": []
     },
     "output_type": "execute_result"
    }
   ],
   "source": [
    "pd.DataFrame(result_list)"
   ]
  },
  {
   "cell_type": "code",
   "execution_count": 32,
   "id": "chemical-hypothesis",
   "metadata": {
    "colab": {
     "base_uri": "https://localhost:8080/"
    },
    "executionInfo": {
     "elapsed": 57544,
     "status": "ok",
     "timestamp": 1616663924604,
     "user": {
      "displayName": "Juan Diego Bermeo",
      "photoUrl": "",
      "userId": "11124578296137739363"
     },
     "user_tz": -60
    },
    "id": "gedyp8Ddq06D",
    "outputId": "cb48350c-9ce9-49ce-8902-5511d65ea5ba"
   },
   "outputs": [
    {
     "data": {
      "text/plain": [
       "0.0027813576130550984"
      ]
     },
     "execution_count": 32,
     "metadata": {
      "tags": []
     },
     "output_type": "execute_result"
    }
   ],
   "source": [
    "pd.DataFrame(result_list).mean_iou.max()"
   ]
  },
  {
   "cell_type": "markdown",
   "id": "august-provision",
   "metadata": {
    "id": "nC9FTpbIkgrn"
   },
   "source": [
    "# Check how a given trained model predicts"
   ]
  },
  {
   "cell_type": "code",
   "execution_count": 40,
   "id": "specialized-canadian",
   "metadata": {
    "executionInfo": {
     "elapsed": 2109705,
     "status": "ok",
     "timestamp": 1616667490721,
     "user": {
      "displayName": "Juan Diego Bermeo",
      "photoUrl": "",
      "userId": "11124578296137739363"
     },
     "user_tz": -60
    },
    "id": "Gfeb3yifk6cK"
   },
   "outputs": [],
   "source": [
    "cancer_pixels_df = pd.read_pickle('cancer_pixels_df')\n",
    "cancer_pixels_df.reset_index(inplace=True)\n",
    "cancer_pixels_df['index'] = cancer_pixels_df.image_name.map(lambda str_: str_.split('.nii.gz')[0].split('colon_')[1])"
   ]
  },
  {
   "cell_type": "markdown",
   "id": "actual-planning",
   "metadata": {
    "id": "aKaKVawa6Olu"
   },
   "source": [
    "### Predictions on holdout "
   ]
  },
  {
   "cell_type": "code",
   "execution_count": 41,
   "id": "naughty-potential",
   "metadata": {
    "executionInfo": {
     "elapsed": 2108895,
     "status": "ok",
     "timestamp": 1616667490722,
     "user": {
      "displayName": "Juan Diego Bermeo",
      "photoUrl": "",
      "userId": "11124578296137739363"
     },
     "user_tz": -60
    },
    "id": "-ZZ6UgCZHs4P"
   },
   "outputs": [],
   "source": [
    "img_with_cancer_gen = DataGenerator2D(df=holdout_fold_0_df_cancer_info[holdout_fold_0_df_cancer_info.cancer_pixel_area > 0].sample(20),\n",
    "                                      x_col='x_tr_img_path', y_col='y_tr_img_path', batch_size=4, num_classes=None, shuffle=False, resize_dim=resize_dim)\n",
    "\n",
    "img_without_cancer_gen = DataGenerator2D(df=holdout_fold_0_df_cancer_info[holdout_fold_0_df_cancer_info.cancer_pixel_area == 0].sample(20),\n",
    "                                     x_col='x_tr_img_path', y_col='y_tr_img_path', batch_size=4, num_classes=None, shuffle=False, resize_dim=resize_dim)"
   ]
  },
  {
   "cell_type": "code",
   "execution_count": 42,
   "id": "forty-chicago",
   "metadata": {
    "colab": {
     "base_uri": "https://localhost:8080/",
     "height": 1000,
     "output_embedded_package_id": "1dZHAYoqUvIPEObgSbAuM65XDKhGAr6QX"
    },
    "executionInfo": {
     "elapsed": 2185100,
     "status": "ok",
     "timestamp": 1616667567664,
     "user": {
      "displayName": "Juan Diego Bermeo",
      "photoUrl": "",
      "userId": "11124578296137739363"
     },
     "user_tz": -60
    },
    "id": "YzTImj2fkztg",
    "outputId": "796dd029-d9d7-4611-e37a-435556fc1a26"
   },
   "outputs": [
    {
     "data": {
      "text/plain": [
       "Output hidden; open in https://colab.research.google.com to view."
      ]
     },
     "metadata": {},
     "output_type": "display_data"
    }
   ],
   "source": [
    "# Let's see how it predicts for images of cancer\n",
    "for i, (X, y) in enumerate((img_with_cancer_gen)):\n",
    "    print(f'X: {X.shape}')\n",
    "    print(f'y: {y.shape}')\n",
    "\n",
    "    y_pred = model.predict(X)\n",
    "    print(y_pred.shape)\n",
    "    \n",
    "    for i in range(X.shape[0]):\n",
    "        f, (ax1, ax2, ax3) = plt.subplots(1, 3, sharey=True)\n",
    "        f.set_size_inches(20,20)\n",
    "\n",
    "        ax1.imshow(X[i,:,:])\n",
    "        ax1.set_title('Input image')\n",
    "        \n",
    "        ax2.imshow(y[i,:,:])\n",
    "        ax2.set_title('Ground truth, target label')\n",
    "\n",
    "        ax3.imshow(np.squeeze(y_pred[i,:,:]))\n",
    "        ax3.set_title('Predicted by the model')\n",
    "        \n",
    "        plt.show()\n",
    "        plt.close()"
   ]
  },
  {
   "cell_type": "code",
   "execution_count": 43,
   "id": "civic-tattoo",
   "metadata": {
    "colab": {
     "base_uri": "https://localhost:8080/",
     "height": 1000,
     "output_embedded_package_id": "1F4PUVc2od2v9-Olz62v-CXjvziSfrOII"
    },
    "executionInfo": {
     "elapsed": 2252378,
     "status": "ok",
     "timestamp": 1616667636822,
     "user": {
      "displayName": "Juan Diego Bermeo",
      "photoUrl": "",
      "userId": "11124578296137739363"
     },
     "user_tz": -60
    },
    "id": "nzldbPX6m_y5",
    "outputId": "3f193c81-0ffe-4adf-e07b-800848839f27"
   },
   "outputs": [
    {
     "data": {
      "text/plain": [
       "Output hidden; open in https://colab.research.google.com to view."
      ]
     },
     "metadata": {},
     "output_type": "display_data"
    }
   ],
   "source": [
    "# Let's see how it predicts for images of cancer\n",
    "for i, (X, y) in enumerate((img_without_cancer_gen)):\n",
    "    print(f'X: {X.shape}')\n",
    "    print(f'y: {y.shape}')\n",
    "\n",
    "    y_pred = model.predict(X)\n",
    "    print(y_pred.shape)\n",
    "    \n",
    "    for i in range(X.shape[0]):\n",
    "        f, (ax1, ax2, ax3) = plt.subplots(1, 3, sharey=True)\n",
    "        f.set_size_inches(20,20)\n",
    "\n",
    "        ax1.imshow(X[i,:,:])\n",
    "        ax1.set_title('Input image')\n",
    "        \n",
    "        ax2.imshow(y[i,:,:])\n",
    "        ax2.set_title('Ground truth, target label')\n",
    "\n",
    "        ax3.imshow(np.squeeze(y_pred[i,:,:]))\n",
    "        ax3.set_title('Predicted by the model')\n",
    "        \n",
    "        plt.show()\n",
    "        plt.close()\n",
    "    "
   ]
  },
  {
   "cell_type": "markdown",
   "id": "wooden-damage",
   "metadata": {
    "id": "Iqy6Sfpp6fAt"
   },
   "source": [
    "### Predictions on train "
   ]
  },
  {
   "cell_type": "code",
   "execution_count": null,
   "id": "billion-tumor",
   "metadata": {
    "id": "8rpmE2xS6fAu"
   },
   "outputs": [],
   "source": [
    "img_with_cancer_gen = DataGenerator2D(df=tr_fold_0_df_cancer_info[tr_fold_0_df_cancer_info.cancer_pixel_area > 0].sample(20),\n",
    "                                      x_col='x_tr_img_path', y_col='y_tr_img_path', batch_size=4, num_classes=None, shuffle=False, resize_dim=resize_dim)\n",
    "\n",
    "img_without_cancer_gen = DataGenerator2D(df=tr_fold_0_df_cancer_info[tr_fold_0_df_cancer_info.cancer_pixel_area==0].sample(20),\n",
    "                                     x_col='x_tr_img_path', y_col='y_tr_img_path', batch_size=4, num_classes=None, shuffle=False, resize_dim=resize_dim)"
   ]
  },
  {
   "cell_type": "code",
   "execution_count": null,
   "id": "sized-orleans",
   "metadata": {
    "colab": {
     "base_uri": "https://localhost:8080/",
     "height": 1000,
     "output_embedded_package_id": "1yEUjks_tIX_garRT5EskcGwOgxQhoT5e"
    },
    "executionInfo": {
     "elapsed": 1987368,
     "status": "ok",
     "timestamp": 1616586209157,
     "user": {
      "displayName": "Juan Diego Bermeo",
      "photoUrl": "",
      "userId": "11124578296137739363"
     },
     "user_tz": -60
    },
    "id": "en1lICaW6fAu",
    "outputId": "2f082630-82c9-40c3-f5fb-6043dd107dfa"
   },
   "outputs": [
    {
     "data": {
      "text/plain": [
       "Output hidden; open in https://colab.research.google.com to view."
      ]
     },
     "metadata": {},
     "output_type": "display_data"
    }
   ],
   "source": [
    "# Let's see how it predicts for images of cancer\n",
    "for i, (X, y) in enumerate((img_with_cancer_gen)):\n",
    "    print(f'X: {X.shape}')\n",
    "    print(f'y: {y.shape}')\n",
    "\n",
    "    y_pred = model.predict(X)\n",
    "    print(y_pred.shape)\n",
    "    \n",
    "    for i in range(X.shape[0]):\n",
    "        f, (ax1, ax2, ax3) = plt.subplots(1, 3, sharey=True)\n",
    "        f.set_size_inches(20,20)\n",
    "\n",
    "        ax1.imshow(X[i,:,:])\n",
    "        ax1.set_title('Input image')\n",
    "        \n",
    "        ax2.imshow(y[i,:,:])\n",
    "        ax2.set_title('Ground truth, target label')\n",
    "\n",
    "        ax3.imshow(np.squeeze(y_pred[i,:,:]))\n",
    "        ax3.set_title('Predicted by the model')\n",
    "        \n",
    "        plt.show()\n",
    "        plt.close()"
   ]
  },
  {
   "cell_type": "code",
   "execution_count": null,
   "id": "photographic-retro",
   "metadata": {
    "colab": {
     "base_uri": "https://localhost:8080/",
     "height": 1000,
     "output_embedded_package_id": "16_1ogojrCHGSo1APNtd_Uxk0PTBtXlHp"
    },
    "executionInfo": {
     "elapsed": 2029247,
     "status": "ok",
     "timestamp": 1616586251046,
     "user": {
      "displayName": "Juan Diego Bermeo",
      "photoUrl": "",
      "userId": "11124578296137739363"
     },
     "user_tz": -60
    },
    "id": "Db5XuAuB6fAu",
    "outputId": "8c73c86b-a964-4559-eb80-fe0062361173"
   },
   "outputs": [
    {
     "data": {
      "text/plain": [
       "Output hidden; open in https://colab.research.google.com to view."
      ]
     },
     "metadata": {},
     "output_type": "display_data"
    }
   ],
   "source": [
    "# Let's see how it predicts for images of cancer\n",
    "for i, (X, y) in enumerate((img_without_cancer_gen)):\n",
    "    print(f'X: {X.shape}')\n",
    "    print(f'y: {y.shape}')\n",
    "\n",
    "    y_pred = model.predict(X)\n",
    "    print(y_pred.shape)\n",
    "    \n",
    "    for i in range(X.shape[0]):\n",
    "        f, (ax1, ax2, ax3) = plt.subplots(1, 3, sharey=True)\n",
    "        f.set_size_inches(20,20)\n",
    "\n",
    "        ax1.imshow(X[i,:,:])\n",
    "        ax1.set_title('Input image')\n",
    "        \n",
    "        ax2.imshow(y[i,:,:])\n",
    "        ax2.set_title('Ground truth, target label')\n",
    "\n",
    "        ax3.imshow(np.squeeze(y_pred[i,:,:]))\n",
    "        ax3.set_title('Predicted by the model')\n",
    "        \n",
    "        plt.show()\n",
    "        plt.close()\n",
    "    "
   ]
  },
  {
   "cell_type": "markdown",
   "id": "unauthorized-impossible",
   "metadata": {
    "id": "qRoMIpOvkZmb"
   },
   "source": [
    "# Let's obtain the predictions for the test set "
   ]
  },
  {
   "cell_type": "code",
   "execution_count": null,
   "id": "liquid-chamber",
   "metadata": {},
   "outputs": [],
   "source": [
    "test_dims = (512, 512)\n",
    "pixel_threshold = 0.0875\n",
    "prediction_batch_size = 32\n",
    "output_dir = 'test_pred'\n",
    "os.makedirs(output_dir, exist_ok=True)"
   ]
  },
  {
   "cell_type": "code",
   "execution_count": 27,
   "id": "constant-julian",
   "metadata": {
    "collapsed": true,
    "jupyter": {
     "outputs_hidden": true
    },
    "tags": []
   },
   "outputs": [
    {
     "ename": "NameError",
     "evalue": "name 'preprocesing_params' is not defined",
     "output_type": "error",
     "traceback": [
      "\u001b[1;31m---------------------------------------------------------------------------\u001b[0m",
      "\u001b[1;31mNameError\u001b[0m                                 Traceback (most recent call last)",
      "\u001b[1;32m<ipython-input-27-d612dc8611ae>\u001b[0m in \u001b[0;36m<module>\u001b[1;34m\u001b[0m\n\u001b[0;32m      1\u001b[0m predict_test_set(\n\u001b[0;32m      2\u001b[0m     \u001b[0mtest_df_\u001b[0m\u001b[1;33m=\u001b[0m\u001b[0mx_ts_df\u001b[0m\u001b[1;33m,\u001b[0m\u001b[1;33m\u001b[0m\u001b[1;33m\u001b[0m\u001b[0m\n\u001b[1;32m----> 3\u001b[1;33m         \u001b[0mpred_dims\u001b[0m\u001b[1;33m=\u001b[0m\u001b[0mpreprocesing_params\u001b[0m\u001b[1;33m[\u001b[0m\u001b[1;34m'resize_dim'\u001b[0m\u001b[1;33m]\u001b[0m\u001b[1;33m,\u001b[0m\u001b[1;33m\u001b[0m\u001b[1;33m\u001b[0m\u001b[0m\n\u001b[0m\u001b[0;32m      4\u001b[0m         \u001b[0mtest_dims\u001b[0m\u001b[1;33m=\u001b[0m\u001b[0mpredict_params\u001b[0m\u001b[1;33m[\u001b[0m\u001b[1;34m'test_dims'\u001b[0m\u001b[1;33m]\u001b[0m\u001b[1;33m,\u001b[0m\u001b[1;33m\u001b[0m\u001b[1;33m\u001b[0m\u001b[0m\n\u001b[0;32m      5\u001b[0m         \u001b[0mmodel_\u001b[0m\u001b[1;33m=\u001b[0m\u001b[0mmodel\u001b[0m\u001b[1;33m,\u001b[0m\u001b[1;33m\u001b[0m\u001b[1;33m\u001b[0m\u001b[0m\n",
      "\u001b[1;31mNameError\u001b[0m: name 'preprocesing_params' is not defined"
     ]
    }
   ],
   "source": [
    "predict_test_set(\n",
    "    test_df_=x_ts_df,\n",
    "    pred_dims=resize_dim,\n",
    "    test_dims=test_dims,\n",
    "    model_=model,\n",
    "    pixel_threshold=pixel_threshold,\n",
    "    prediction_batch_size=32,\n",
    "    output_dir=output_dir\n",
    ")"
   ]
  }
 ],
 "metadata": {
  "colab": {
   "collapsed_sections": [],
   "name": "minimum example (Juan) .ipynb",
   "provenance": [],
   "toc_visible": true
  },
  "kernelspec": {
   "display_name": "Python 3",
   "language": "python",
   "name": "python3"
  },
  "language_info": {
   "codemirror_mode": {
    "name": "ipython",
    "version": 3
   },
   "file_extension": ".py",
   "mimetype": "text/x-python",
   "name": "python",
   "nbconvert_exporter": "python",
   "pygments_lexer": "ipython3",
   "version": "3.7.10"
  }
 },
 "nbformat": 4,
 "nbformat_minor": 5
}
