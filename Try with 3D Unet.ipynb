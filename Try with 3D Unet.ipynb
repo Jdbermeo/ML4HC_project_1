{
 "cells": [
  {
   "cell_type": "markdown",
   "id": "moved-passing",
   "metadata": {},
   "source": [
    "# Try with 3D Unet"
   ]
  },
  {
   "cell_type": "code",
   "execution_count": 5,
   "id": "atomic-participation",
   "metadata": {},
   "outputs": [],
   "source": [
    "import os\n",
    "import matplotlib.pyplot as plt\n",
    "\n",
    "import tensorflow as tf\n",
    "from tensorflow import keras\n",
    "\n",
    "IMAGE_HEIGHT = 256\n",
    "IMAGE_WIDTH = 256\n",
    "IMG_SIZE = (IMAGE_HEIGHT, IMAGE_WIDTH)\n",
    "\n",
    "def unet3d(n_levels, initial_features=32, n_blocks=2, kernel_size=3, pooling_size=2, strides=(1, 1, 2),\n",
    "         image_height=256, image_width=256, image_depth=None, in_channels=1, out_channels=1):\n",
    "    \n",
    "    inputs = keras.layers.Input(shape=(image_height, image_width, image_depth,in_channels))\n",
    "    x = inputs\n",
    "    \n",
    "    convpars = dict(kernel_size=kernel_size, activation='relu', padding='same')\n",
    "    \n",
    "    #downstream\n",
    "    skips = {}\n",
    "    for level in range(n_levels):\n",
    "        for _ in range(n_blocks):\n",
    "            x = keras.layers.Conv3D(initial_features * 2 ** level, **convpars)(x)\n",
    "        if level < n_levels - 1:\n",
    "            skips[level] = x\n",
    "            x = keras.layers.MaxPool3D(pooling_size)(x)\n",
    "            \n",
    "    # upstream\n",
    "    for level in reversed(range(n_levels-1)):\n",
    "        x = keras.layers.Conv3DTranspose(initial_features * 2 ** level, strides=pooling_size, **convpars)(x)\n",
    "        x = keras.layers.Concatenate()([x, skips[level]])\n",
    "        for _ in range(n_blocks):\n",
    "            x = keras.layers.Conv3D(initial_features * 2 ** level, **convpars)(x)\n",
    "            \n",
    "    # output\n",
    "    activation = 'sigmoid' if out_channels == 1 else 'softmax'\n",
    "    x = keras.layers.Conv3D(out_channels, kernel_size=1, activation=activation, padding='same')(x)\n",
    "    \n",
    "    return keras.Model(inputs=[inputs], outputs=[x], name=f'UNET-L{n_levels}-F{initial_features}')"
   ]
  },
  {
   "cell_type": "code",
   "execution_count": 1,
   "id": "attempted-scottish",
   "metadata": {},
   "outputs": [
    {
     "ename": "NameError",
     "evalue": "name 'unet' is not defined",
     "output_type": "error",
     "traceback": [
      "\u001b[1;31m---------------------------------------------------------------------------\u001b[0m",
      "\u001b[1;31mNameError\u001b[0m                                 Traceback (most recent call last)",
      "\u001b[1;32m<ipython-input-1-f614be0d7e0f>\u001b[0m in \u001b[0;36m<module>\u001b[1;34m\u001b[0m\n\u001b[1;32m----> 1\u001b[1;33m model_3D = unet(n_levels=4, initial_features=64, n_blocks=2, kernel_size=(3,3,2), pooling_size=2, \n\u001b[0m\u001b[0;32m      2\u001b[0m                 image_height=128, image_width=128, image_depth=None, in_channels=1, out_channels=1)\n",
      "\u001b[1;31mNameError\u001b[0m: name 'unet' is not defined"
     ]
    }
   ],
   "source": [
    "model_3D = unet(n_levels=4, initial_features=64, n_blocks=2, kernel_size=(3,3,2), pooling_size=2, \n",
    "                image_height=128, image_width=128, image_depth=None, in_channels=1, out_channels=1)"
   ]
  },
  {
   "cell_type": "code",
   "execution_count": 15,
   "id": "breeding-colors",
   "metadata": {},
   "outputs": [
    {
     "name": "stdout",
     "output_type": "stream",
     "text": [
      "Model: \"UNET-L4-F64\"\n",
      "__________________________________________________________________________________________________\n",
      "Layer (type)                    Output Shape         Param #     Connected to                     \n",
      "==================================================================================================\n",
      "input_5 (InputLayer)            [(None, 128, 128, No 0                                            \n",
      "__________________________________________________________________________________________________\n",
      "conv3d_60 (Conv3D)              (None, 128, 128, Non 1792        input_5[0][0]                    \n",
      "__________________________________________________________________________________________________\n",
      "conv3d_61 (Conv3D)              (None, 128, 128, Non 110656      conv3d_60[0][0]                  \n",
      "__________________________________________________________________________________________________\n",
      "max_pooling3d_12 (MaxPooling3D) (None, 64, 64, None, 0           conv3d_61[0][0]                  \n",
      "__________________________________________________________________________________________________\n",
      "conv3d_62 (Conv3D)              (None, 64, 64, None, 221312      max_pooling3d_12[0][0]           \n",
      "__________________________________________________________________________________________________\n",
      "conv3d_63 (Conv3D)              (None, 64, 64, None, 442496      conv3d_62[0][0]                  \n",
      "__________________________________________________________________________________________________\n",
      "max_pooling3d_13 (MaxPooling3D) (None, 32, 32, None, 0           conv3d_63[0][0]                  \n",
      "__________________________________________________________________________________________________\n",
      "conv3d_64 (Conv3D)              (None, 32, 32, None, 884992      max_pooling3d_13[0][0]           \n",
      "__________________________________________________________________________________________________\n",
      "conv3d_65 (Conv3D)              (None, 32, 32, None, 1769728     conv3d_64[0][0]                  \n",
      "__________________________________________________________________________________________________\n",
      "max_pooling3d_14 (MaxPooling3D) (None, 16, 16, None, 0           conv3d_65[0][0]                  \n",
      "__________________________________________________________________________________________________\n",
      "conv3d_66 (Conv3D)              (None, 16, 16, None, 3539456     max_pooling3d_14[0][0]           \n",
      "__________________________________________________________________________________________________\n",
      "conv3d_67 (Conv3D)              (None, 16, 16, None, 7078400     conv3d_66[0][0]                  \n",
      "__________________________________________________________________________________________________\n",
      "conv3d_transpose_12 (Conv3DTran (None, 32, 32, None, 3539200     conv3d_67[0][0]                  \n",
      "__________________________________________________________________________________________________\n",
      "concatenate_12 (Concatenate)    (None, 32, 32, None, 0           conv3d_transpose_12[0][0]        \n",
      "                                                                 conv3d_65[0][0]                  \n",
      "__________________________________________________________________________________________________\n",
      "conv3d_68 (Conv3D)              (None, 32, 32, None, 3539200     concatenate_12[0][0]             \n",
      "__________________________________________________________________________________________________\n",
      "conv3d_69 (Conv3D)              (None, 32, 32, None, 1769728     conv3d_68[0][0]                  \n",
      "__________________________________________________________________________________________________\n",
      "conv3d_transpose_13 (Conv3DTran (None, 64, 64, None, 884864      conv3d_69[0][0]                  \n",
      "__________________________________________________________________________________________________\n",
      "concatenate_13 (Concatenate)    (None, 64, 64, None, 0           conv3d_transpose_13[0][0]        \n",
      "                                                                 conv3d_63[0][0]                  \n",
      "__________________________________________________________________________________________________\n",
      "conv3d_70 (Conv3D)              (None, 64, 64, None, 884864      concatenate_13[0][0]             \n",
      "__________________________________________________________________________________________________\n",
      "conv3d_71 (Conv3D)              (None, 64, 64, None, 442496      conv3d_70[0][0]                  \n",
      "__________________________________________________________________________________________________\n",
      "conv3d_transpose_14 (Conv3DTran (None, 128, 128, Non 221248      conv3d_71[0][0]                  \n",
      "__________________________________________________________________________________________________\n",
      "concatenate_14 (Concatenate)    (None, 128, 128, Non 0           conv3d_transpose_14[0][0]        \n",
      "                                                                 conv3d_61[0][0]                  \n",
      "__________________________________________________________________________________________________\n",
      "conv3d_72 (Conv3D)              (None, 128, 128, Non 221248      concatenate_14[0][0]             \n",
      "__________________________________________________________________________________________________\n",
      "conv3d_73 (Conv3D)              (None, 128, 128, Non 110656      conv3d_72[0][0]                  \n",
      "__________________________________________________________________________________________________\n",
      "conv3d_74 (Conv3D)              (None, 128, 128, Non 65          conv3d_73[0][0]                  \n",
      "==================================================================================================\n",
      "Total params: 25,662,401\n",
      "Trainable params: 25,662,401\n",
      "Non-trainable params: 0\n",
      "__________________________________________________________________________________________________\n"
     ]
    }
   ],
   "source": [
    "model_3D.summary()"
   ]
  }
 ],
 "metadata": {
  "kernelspec": {
   "display_name": "Python 3",
   "language": "python",
   "name": "python3"
  },
  "language_info": {
   "codemirror_mode": {
    "name": "ipython",
    "version": 3
   },
   "file_extension": ".py",
   "mimetype": "text/x-python",
   "name": "python",
   "nbconvert_exporter": "python",
   "pygments_lexer": "ipython3",
   "version": "3.7.9"
  }
 },
 "nbformat": 4,
 "nbformat_minor": 5
}
